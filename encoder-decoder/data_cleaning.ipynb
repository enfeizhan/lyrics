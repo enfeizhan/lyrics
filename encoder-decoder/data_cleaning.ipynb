{
 "cells": [
  {
   "cell_type": "code",
   "execution_count": 2,
   "metadata": {},
   "outputs": [],
   "source": [
    "%matplotlib inline\n",
    "import importlib\n",
    "import numpy as np\n",
    "import pandas as pd\n",
    "import json\n",
    "import utils"
   ]
  },
  {
   "cell_type": "code",
   "execution_count": 3,
   "metadata": {},
   "outputs": [
    {
     "data": {
      "text/plain": [
       "<module 'utils' from '/home/fei/Documents/projects/lyrics/encoder-decoder/utils.py'>"
      ]
     },
     "execution_count": 3,
     "metadata": {},
     "output_type": "execute_result"
    }
   ],
   "source": [
    "importlib.reload(utils)"
   ]
  },
  {
   "cell_type": "code",
   "execution_count": 12,
   "metadata": {},
   "outputs": [],
   "source": [
    "dat = pd.read_csv('../songdata.csv', usecols=['text']).drop_duplicates()"
   ]
  },
  {
   "cell_type": "code",
   "execution_count": 13,
   "metadata": {},
   "outputs": [
    {
     "data": {
      "text/html": [
       "<div>\n",
       "<style scoped>\n",
       "    .dataframe tbody tr th:only-of-type {\n",
       "        vertical-align: middle;\n",
       "    }\n",
       "\n",
       "    .dataframe tbody tr th {\n",
       "        vertical-align: top;\n",
       "    }\n",
       "\n",
       "    .dataframe thead th {\n",
       "        text-align: right;\n",
       "    }\n",
       "</style>\n",
       "<table border=\"1\" class=\"dataframe\">\n",
       "  <thead>\n",
       "    <tr style=\"text-align: right;\">\n",
       "      <th></th>\n",
       "      <th>text</th>\n",
       "    </tr>\n",
       "  </thead>\n",
       "  <tbody>\n",
       "    <tr>\n",
       "      <th>0</th>\n",
       "      <td>Look at her face, it's a wonderful face  \\nAnd...</td>\n",
       "    </tr>\n",
       "    <tr>\n",
       "      <th>1</th>\n",
       "      <td>Take it easy with me, please  \\nTouch me gentl...</td>\n",
       "    </tr>\n",
       "    <tr>\n",
       "      <th>2</th>\n",
       "      <td>I'll never know why I had to go  \\nWhy I had t...</td>\n",
       "    </tr>\n",
       "    <tr>\n",
       "      <th>3</th>\n",
       "      <td>Making somebody happy is a question of give an...</td>\n",
       "    </tr>\n",
       "    <tr>\n",
       "      <th>4</th>\n",
       "      <td>Making somebody happy is a question of give an...</td>\n",
       "    </tr>\n",
       "  </tbody>\n",
       "</table>\n",
       "</div>"
      ],
      "text/plain": [
       "                                                text\n",
       "0  Look at her face, it's a wonderful face  \\nAnd...\n",
       "1  Take it easy with me, please  \\nTouch me gentl...\n",
       "2  I'll never know why I had to go  \\nWhy I had t...\n",
       "3  Making somebody happy is a question of give an...\n",
       "4  Making somebody happy is a question of give an..."
      ]
     },
     "execution_count": 13,
     "metadata": {},
     "output_type": "execute_result"
    }
   ],
   "source": [
    "dat.head()"
   ]
  },
  {
   "cell_type": "code",
   "execution_count": 14,
   "metadata": {},
   "outputs": [],
   "source": [
    "dat.loc[:, 'text'] += '(end)'"
   ]
  },
  {
   "cell_type": "code",
   "execution_count": 15,
   "metadata": {},
   "outputs": [],
   "source": [
    "unique_chars = dat.loc[:, 'text'].apply(lambda x: list(set(x)))"
   ]
  },
  {
   "cell_type": "code",
   "execution_count": 16,
   "metadata": {},
   "outputs": [
    {
     "data": {
      "text/plain": [
       "0    [a, z, A, s, l, p, S, f, b, n, o, ), y, i, (, ...\n",
       "1    [a, z, A, s, p, l, f, b, n, o, ), O, y, i, (, ...\n",
       "2    [a, A, l, p, s, S, B, f, b, n, o, ), y, i, (, ...\n",
       "3    [a, A, s, p, l, S, B, f, b, n, o, O, ), y, i, ...\n",
       "4    [a, A, s, p, l, S, B, f, b, n, o, O, ), y, i, ...\n",
       "Name: text, dtype: object"
      ]
     },
     "execution_count": 16,
     "metadata": {},
     "output_type": "execute_result"
    }
   ],
   "source": [
    "unique_chars.head()"
   ]
  },
  {
   "cell_type": "code",
   "execution_count": 17,
   "metadata": {},
   "outputs": [],
   "source": [
    "unique_chars = unique_chars.sum()"
   ]
  },
  {
   "cell_type": "code",
   "execution_count": 18,
   "metadata": {},
   "outputs": [],
   "source": [
    "unique_chars = sorted(np.unique(unique_chars))"
   ]
  },
  {
   "cell_type": "code",
   "execution_count": 19,
   "metadata": {},
   "outputs": [
    {
     "data": {
      "text/plain": [
       "76"
      ]
     },
     "execution_count": 19,
     "metadata": {},
     "output_type": "execute_result"
    }
   ],
   "source": [
    "len(unique_chars)"
   ]
  },
  {
   "cell_type": "code",
   "execution_count": 20,
   "metadata": {},
   "outputs": [],
   "source": [
    "def scanning(text, length):\n",
    "    encoder_input = []\n",
    "    decoder_input = []\n",
    "    text_length = len(text)\n",
    "    for i in range(0, text_length-2*length+1):\n",
    "        encoder_input.append(list(text[i:i+length]))\n",
    "        decoder_input.append(list(text[i+length:i+2*length]))\n",
    "    return encoder_input, decoder_input"
   ]
  },
  {
   "cell_type": "code",
   "execution_count": null,
   "metadata": {},
   "outputs": [],
   "source": [
    "%%time\n",
    "dat_scanned = dat.text.apply(lambda text: pd.Series(scanning(text, length=100), index=['for_encoder', 'for_decoder']))"
   ]
  },
  {
   "cell_type": "code",
   "execution_count": 12,
   "metadata": {},
   "outputs": [
    {
     "data": {
      "text/html": [
       "<div>\n",
       "<style scoped>\n",
       "    .dataframe tbody tr th:only-of-type {\n",
       "        vertical-align: middle;\n",
       "    }\n",
       "\n",
       "    .dataframe tbody tr th {\n",
       "        vertical-align: top;\n",
       "    }\n",
       "\n",
       "    .dataframe thead th {\n",
       "        text-align: right;\n",
       "    }\n",
       "</style>\n",
       "<table border=\"1\" class=\"dataframe\">\n",
       "  <thead>\n",
       "    <tr style=\"text-align: right;\">\n",
       "      <th></th>\n",
       "      <th>for_encoder</th>\n",
       "      <th>for_decoder</th>\n",
       "    </tr>\n",
       "  </thead>\n",
       "  <tbody>\n",
       "    <tr>\n",
       "      <th>0</th>\n",
       "      <td>[[L, o, o, k,  , a, t,  , h, e, r,  , f, a, c,...</td>\n",
       "      <td>[[t,  , s, h, e,  , s, m, i, l, e, s,  , w, h,...</td>\n",
       "    </tr>\n",
       "    <tr>\n",
       "      <th>1</th>\n",
       "      <td>[[T, a, k, e,  , i, t,  , e, a, s, y,  , w, i,...</td>\n",
       "      <td>[[t,  , s, l, o, w,  ,  , \\n, A, n, d, a, n, t...</td>\n",
       "    </tr>\n",
       "    <tr>\n",
       "      <th>2</th>\n",
       "      <td>[[I, ', l, l,  , n, e, v, e, r,  , k, n, o, w,...</td>\n",
       "      <td>[[a, c, k, i, n, g,  , a, l, l,  , m, y,  , s,...</td>\n",
       "    </tr>\n",
       "    <tr>\n",
       "      <th>3</th>\n",
       "      <td>[[M, a, k, i, n, g,  , s, o, m, e, b, o, d, y,...</td>\n",
       "      <td>[[ , y, o, u, r, s, e, l, f,  , a,  , b, r, e,...</td>\n",
       "    </tr>\n",
       "    <tr>\n",
       "      <th>4</th>\n",
       "      <td>[[M, a, k, i, n, g,  , s, o, m, e, b, o, d, y,...</td>\n",
       "      <td>[[ , y, o, u, r, s, e, l, f,  , a,  , b, r, e,...</td>\n",
       "    </tr>\n",
       "  </tbody>\n",
       "</table>\n",
       "</div>"
      ],
      "text/plain": [
       "                                         for_encoder  \\\n",
       "0  [[L, o, o, k,  , a, t,  , h, e, r,  , f, a, c,...   \n",
       "1  [[T, a, k, e,  , i, t,  , e, a, s, y,  , w, i,...   \n",
       "2  [[I, ', l, l,  , n, e, v, e, r,  , k, n, o, w,...   \n",
       "3  [[M, a, k, i, n, g,  , s, o, m, e, b, o, d, y,...   \n",
       "4  [[M, a, k, i, n, g,  , s, o, m, e, b, o, d, y,...   \n",
       "\n",
       "                                         for_decoder  \n",
       "0  [[t,  , s, h, e,  , s, m, i, l, e, s,  , w, h,...  \n",
       "1  [[t,  , s, l, o, w,  ,  , \\n, A, n, d, a, n, t...  \n",
       "2  [[a, c, k, i, n, g,  , a, l, l,  , m, y,  , s,...  \n",
       "3  [[ , y, o, u, r, s, e, l, f,  , a,  , b, r, e,...  \n",
       "4  [[ , y, o, u, r, s, e, l, f,  , a,  , b, r, e,...  "
      ]
     },
     "execution_count": 12,
     "metadata": {},
     "output_type": "execute_result"
    }
   ],
   "source": [
    "dat_scanned.head()"
   ]
  },
  {
   "cell_type": "code",
   "execution_count": 13,
   "metadata": {},
   "outputs": [
    {
     "name": "stdout",
     "output_type": "stream",
     "text": [
      "CPU times: user 1min 2s, sys: 4.01 s, total: 1min 6s\n",
      "Wall time: 1min 6s\n"
     ]
    }
   ],
   "source": [
    "%%time\n",
    "for_encoder = dat_scanned.for_encoder.sum()\n",
    "for_decoder = dat_scanned.for_decoder.sum()"
   ]
  },
  {
   "cell_type": "code",
   "execution_count": 14,
   "metadata": {},
   "outputs": [],
   "source": [
    "%%time\n",
    "for_encoder_se = pd.Series(for_encoder)\n",
    "for_decoder_se = pd.Series(for_decoder)"
   ]
  },
  {
   "cell_type": "code",
   "execution_count": 15,
   "metadata": {},
   "outputs": [
    {
     "data": {
      "text/plain": [
       "0    [L, o, o, k,  , a, t,  , h, e, r,  , f, a, c, ...\n",
       "1    [o, o, k,  , a, t,  , h, e, r,  , f, a, c, e, ...\n",
       "2    [o, k,  , a, t,  , h, e, r,  , f, a, c, e, ,, ...\n",
       "3    [k,  , a, t,  , h, e, r,  , f, a, c, e, ,,  , ...\n",
       "4    [ , a, t,  , h, e, r,  , f, a, c, e, ,,  , i, ...\n",
       "dtype: object"
      ]
     },
     "execution_count": 15,
     "metadata": {},
     "output_type": "execute_result"
    }
   ],
   "source": [
    "for_encoder_se.head()"
   ]
  },
  {
   "cell_type": "code",
   "execution_count": 16,
   "metadata": {},
   "outputs": [
    {
     "data": {
      "text/plain": [
       "0    [t,  , s, h, e,  , s, m, i, l, e, s,  , w, h, ...\n",
       "1    [ , s, h, e,  , s, m, i, l, e, s,  , w, h, e, ...\n",
       "2    [s, h, e,  , s, m, i, l, e, s,  , w, h, e, n, ...\n",
       "3    [h, e,  , s, m, i, l, e, s,  , w, h, e, n,  , ...\n",
       "4    [e,  , s, m, i, l, e, s,  , w, h, e, n,  , s, ...\n",
       "dtype: object"
      ]
     },
     "execution_count": 16,
     "metadata": {},
     "output_type": "execute_result"
    }
   ],
   "source": [
    "for_decoder_se.head()"
   ]
  },
  {
   "cell_type": "code",
   "execution_count": 17,
   "metadata": {},
   "outputs": [],
   "source": [
    "utils.save_unique_tokens(unique_chars)"
   ]
  },
  {
   "cell_type": "code",
   "execution_count": 18,
   "metadata": {},
   "outputs": [],
   "source": [
    "word2ind, ind2word = utils.get_index_word_map(unique_chars)"
   ]
  },
  {
   "cell_type": "code",
   "execution_count": 19,
   "metadata": {},
   "outputs": [],
   "source": [
    "utils.save_index_word_map(word2ind, ind2word)"
   ]
  },
  {
   "cell_type": "code",
   "execution_count": 20,
   "metadata": {},
   "outputs": [],
   "source": [
    "encoder_input_tokenised = utils.tokenise_cleaned_data(for_encoder_se, word2ind)"
   ]
  },
  {
   "cell_type": "code",
   "execution_count": 21,
   "metadata": {},
   "outputs": [
    {
     "data": {
      "text/plain": [
       "0    [33, 64, 64, 60, 1, 50, 69, 1, 57, 54, 67, 1, ...\n",
       "1    [64, 64, 60, 1, 50, 69, 1, 57, 54, 67, 1, 55, ...\n",
       "2    [64, 60, 1, 50, 69, 1, 57, 54, 67, 1, 55, 50, ...\n",
       "3    [60, 1, 50, 69, 1, 57, 54, 67, 1, 55, 50, 52, ...\n",
       "4    [1, 50, 69, 1, 57, 54, 67, 1, 55, 50, 52, 54, ...\n",
       "dtype: object"
      ]
     },
     "execution_count": 21,
     "metadata": {},
     "output_type": "execute_result"
    }
   ],
   "source": [
    "encoder_input_tokenised.head()"
   ]
  },
  {
   "cell_type": "code",
   "execution_count": 22,
   "metadata": {},
   "outputs": [],
   "source": [
    "decoder_input_tokenised = utils.tokenise_cleaned_data(for_decoder_se, word2ind)"
   ]
  },
  {
   "cell_type": "code",
   "execution_count": 23,
   "metadata": {},
   "outputs": [
    {
     "data": {
      "text/plain": [
       "0    [69, 1, 68, 57, 54, 1, 68, 62, 58, 61, 54, 68,...\n",
       "1    [1, 68, 57, 54, 1, 68, 62, 58, 61, 54, 68, 1, ...\n",
       "2    [68, 57, 54, 1, 68, 62, 58, 61, 54, 68, 1, 72,...\n",
       "3    [57, 54, 1, 68, 62, 58, 61, 54, 68, 1, 72, 57,...\n",
       "4    [54, 1, 68, 62, 58, 61, 54, 68, 1, 72, 57, 54,...\n",
       "dtype: object"
      ]
     },
     "execution_count": 23,
     "metadata": {},
     "output_type": "execute_result"
    }
   ],
   "source": [
    "decoder_input_tokenised.head()"
   ]
  },
  {
   "cell_type": "code",
   "execution_count": 24,
   "metadata": {},
   "outputs": [],
   "source": [
    "decoder_target_tokenised = decoder_input_tokenised.copy()"
   ]
  },
  {
   "cell_type": "code",
   "execution_count": 25,
   "metadata": {},
   "outputs": [
    {
     "data": {
      "text/plain": [
       "0    [69, 1, 68, 57, 54, 1, 68, 62, 58, 61, 54, 68,...\n",
       "1    [1, 68, 57, 54, 1, 68, 62, 58, 61, 54, 68, 1, ...\n",
       "2    [68, 57, 54, 1, 68, 62, 58, 61, 54, 68, 1, 72,...\n",
       "3    [57, 54, 1, 68, 62, 58, 61, 54, 68, 1, 72, 57,...\n",
       "4    [54, 1, 68, 62, 58, 61, 54, 68, 1, 72, 57, 54,...\n",
       "dtype: object"
      ]
     },
     "execution_count": 25,
     "metadata": {},
     "output_type": "execute_result"
    }
   ],
   "source": [
    "decoder_target_tokenised.head()"
   ]
  },
  {
   "cell_type": "code",
   "execution_count": 26,
   "metadata": {},
   "outputs": [
    {
     "data": {
      "text/plain": [
       "100"
      ]
     },
     "execution_count": 26,
     "metadata": {},
     "output_type": "execute_result"
    }
   ],
   "source": [
    "len(decoder_target_tokenised.loc[0])"
   ]
  },
  {
   "cell_type": "code",
   "execution_count": 27,
   "metadata": {},
   "outputs": [],
   "source": [
    "decoder_input_tokenised = decoder_input_tokenised.apply(lambda x: [word2ind[' ']]+x[:-1])"
   ]
  },
  {
   "cell_type": "code",
   "execution_count": 28,
   "metadata": {},
   "outputs": [
    {
     "data": {
      "text/plain": [
       "0    [1, 69, 1, 68, 57, 54, 1, 68, 62, 58, 61, 54, ...\n",
       "1    [1, 1, 68, 57, 54, 1, 68, 62, 58, 61, 54, 68, ...\n",
       "2    [1, 68, 57, 54, 1, 68, 62, 58, 61, 54, 68, 1, ...\n",
       "3    [1, 57, 54, 1, 68, 62, 58, 61, 54, 68, 1, 72, ...\n",
       "4    [1, 54, 1, 68, 62, 58, 61, 54, 68, 1, 72, 57, ...\n",
       "dtype: object"
      ]
     },
     "execution_count": 28,
     "metadata": {},
     "output_type": "execute_result"
    }
   ],
   "source": [
    "decoder_input_tokenised.head()"
   ]
  },
  {
   "cell_type": "code",
   "execution_count": 29,
   "metadata": {},
   "outputs": [
    {
     "data": {
      "text/plain": [
       "100"
      ]
     },
     "execution_count": 29,
     "metadata": {},
     "output_type": "execute_result"
    }
   ],
   "source": [
    "len(decoder_input_tokenised.iloc[0])"
   ]
  },
  {
   "cell_type": "code",
   "execution_count": 30,
   "metadata": {},
   "outputs": [],
   "source": [
    "%%time\n",
    "encoder_input_tokenised = pd.DataFrame(encoder_input_tokenised.values.tolist())\n",
    "decoder_input_tokenised = pd.DataFrame(decoder_input_tokenised.values.tolist())\n",
    "decoder_target_tokenised = pd.DataFrame(decoder_target_tokenised.values.tolist())"
   ]
  },
  {
   "cell_type": "code",
   "execution_count": 31,
   "metadata": {},
   "outputs": [
    {
     "data": {
      "text/plain": [
       "(1898365, 100)"
      ]
     },
     "execution_count": 31,
     "metadata": {},
     "output_type": "execute_result"
    }
   ],
   "source": [
    "encoder_input_tokenised.shape"
   ]
  },
  {
   "cell_type": "code",
   "execution_count": 32,
   "metadata": {},
   "outputs": [
    {
     "data": {
      "text/plain": [
       "(1898365, 100)"
      ]
     },
     "execution_count": 32,
     "metadata": {},
     "output_type": "execute_result"
    }
   ],
   "source": [
    "decoder_input_tokenised.shape"
   ]
  },
  {
   "cell_type": "code",
   "execution_count": 33,
   "metadata": {},
   "outputs": [
    {
     "data": {
      "text/plain": [
       "(1898365, 100)"
      ]
     },
     "execution_count": 33,
     "metadata": {},
     "output_type": "execute_result"
    }
   ],
   "source": [
    "decoder_target_tokenised.shape"
   ]
  },
  {
   "cell_type": "code",
   "execution_count": 34,
   "metadata": {},
   "outputs": [],
   "source": [
    "encoder_input_tokenised.to_csv('encoder_input.csv', index=False)\n",
    "decoder_input_tokenised.to_csv('decoder_input.csv', index=False)\n",
    "decoder_target_tokenised.to_csv('decoder_target.csv', index=False)"
   ]
  },
  {
   "cell_type": "code",
   "execution_count": null,
   "metadata": {},
   "outputs": [],
   "source": []
  }
 ],
 "metadata": {
  "kernelspec": {
   "display_name": "Python 3",
   "language": "python",
   "name": "python3"
  },
  "language_info": {
   "codemirror_mode": {
    "name": "ipython",
    "version": 3
   },
   "file_extension": ".py",
   "mimetype": "text/x-python",
   "name": "python",
   "nbconvert_exporter": "python",
   "pygments_lexer": "ipython3",
   "version": "3.5.4"
  }
 },
 "nbformat": 4,
 "nbformat_minor": 2
}
