{
 "cells": [
  {
   "cell_type": "code",
   "execution_count": 1,
   "metadata": {},
   "outputs": [],
   "source": [
    "%matplotlib inline\n",
    "import importlib\n",
    "import numpy as np\n",
    "import pandas as pd\n",
    "import matplotlib.pyplot as plt\n",
    "import utils\n",
    "from glob import glob"
   ]
  },
  {
   "cell_type": "code",
   "execution_count": 2,
   "metadata": {},
   "outputs": [
    {
     "name": "stderr",
     "output_type": "stream",
     "text": [
      "Using TensorFlow backend.\n"
     ]
    }
   ],
   "source": [
    "from keras.models import Model, load_model\n",
    "from keras.layers import Input, Embedding, LSTM, Dense, Dropout, Flatten, BatchNormalization\n",
    "from keras.models import Model"
   ]
  },
  {
   "cell_type": "code",
   "execution_count": 3,
   "metadata": {},
   "outputs": [
    {
     "data": {
      "text/plain": [
       "<module 'utils' from '/home/fei/Documents/projects/lyrics/encoder-decoder/utils.py'>"
      ]
     },
     "execution_count": 3,
     "metadata": {},
     "output_type": "execute_result"
    }
   ],
   "source": [
    "importlib.reload(utils)"
   ]
  },
  {
   "cell_type": "code",
   "execution_count": 4,
   "metadata": {},
   "outputs": [],
   "source": [
    "word2ind, ind2word = utils.load_index_word_map()"
   ]
  },
  {
   "cell_type": "code",
   "execution_count": 5,
   "metadata": {},
   "outputs": [],
   "source": [
    "num_encoder_tokens = len(word2ind)\n",
    "num_decoder_tokens = len(word2ind)\n",
    "emb_dim = 100\n",
    "latent_dim = 100"
   ]
  },
  {
   "cell_type": "code",
   "execution_count": 6,
   "metadata": {},
   "outputs": [
    {
     "data": {
      "text/plain": [
       "76"
      ]
     },
     "execution_count": 6,
     "metadata": {},
     "output_type": "execute_result"
    }
   ],
   "source": [
    "num_encoder_tokens"
   ]
  },
  {
   "cell_type": "code",
   "execution_count": 65,
   "metadata": {},
   "outputs": [],
   "source": [
    "# Define an input sequence and process it.\n",
    "encoder_inputs = Input(shape=(None,))\n",
    "encoder_embedding = Embedding(num_encoder_tokens, emb_dim)\n",
    "encoder_embedding_outputs = BatchNormalization()(encoder_embedding(encoder_inputs))\n",
    "encoder = LSTM(latent_dim, return_state=True, dropout=0.2, recurrent_dropout=0.2)\n",
    "encoder_outputs, state_h, state_c = encoder(encoder_embedding_outputs)\n",
    "# We discard `encoder_outputs` and only keep the states.\n",
    "encoder_states = [state_h, state_c]\n",
    "\n",
    "# Set up the decoder, using `encoder_states` as initial state.\n",
    "decoder_inputs = Input(shape=(None,))\n",
    "# We set up our decoder to return full output sequences,\n",
    "# and to return internal states as well. We don't use the\n",
    "# return states in the training model, but we will use them in inference.\n",
    "decoder_embedding = Embedding(num_decoder_tokens, emb_dim)\n",
    "decoder_embedding_outputs = BatchNormalization()(decoder_embedding(decoder_inputs))\n",
    "decoder_lstm = LSTM(latent_dim, return_sequences=True, return_state=True,\n",
    "                    dropout=0.2, recurrent_dropout=0.2)\n",
    "decoder_outputs, _, _ = decoder_lstm(decoder_embedding_outputs,\n",
    "                                     initial_state=encoder_states)\n",
    "decoder_dense = Dense(num_decoder_tokens, activation='softmax')\n",
    "decoder_outputs = decoder_dense(decoder_outputs)\n",
    "\n",
    "# Define the model that will turn\n",
    "# `encoder_input_data` & `decoder_input_data` into `decoder_target_data`\n",
    "model = Model([encoder_inputs, decoder_inputs], decoder_outputs)"
   ]
  },
  {
   "cell_type": "code",
   "execution_count": 66,
   "metadata": {},
   "outputs": [],
   "source": [
    "model.load_weights('model_weights.h5')"
   ]
  },
  {
   "cell_type": "code",
   "execution_count": 67,
   "metadata": {},
   "outputs": [],
   "source": [
    "# Run training\n",
    "model.compile(optimizer='adam', loss='sparse_categorical_crossentropy', metrics=['accuracy'])"
   ]
  },
  {
   "cell_type": "code",
   "execution_count": 68,
   "metadata": {},
   "outputs": [],
   "source": [
    "train_data_start = 24\n",
    "train_data_end = 28\n",
    "encoder_input_files = sorted(glob('data/encoder_*'))[train_data_start:train_data_end]\n",
    "decoder_input_files = sorted(glob('data/decoder_input_*'))[train_data_start:train_data_end]\n",
    "decoder_target_files = sorted(glob('data/decoder_target_*'))[train_data_start:train_data_end]"
   ]
  },
  {
   "cell_type": "code",
   "execution_count": 69,
   "metadata": {},
   "outputs": [
    {
     "name": "stdout",
     "output_type": "stream",
     "text": [
      "data/encoder_input_24.csv\n",
      "data/encoder_input_25.csv\n",
      "data/encoder_input_26.csv\n",
      "data/encoder_input_27.csv\n"
     ]
    }
   ],
   "source": [
    "encoder_input_data = pd.DataFrame(None)\n",
    "decoder_input_data = pd.DataFrame(None)\n",
    "decoder_target_data= pd.DataFrame(None)\n",
    "for encoder_input_file, decoder_input_file, decoder_target_file in zip(encoder_input_files, decoder_input_files, decoder_target_files):\n",
    "    print(encoder_input_file)\n",
    "    encoder_input_data = encoder_input_data.append(pd.read_csv(encoder_input_file))\n",
    "    decoder_input_data = decoder_input_data.append(pd.read_csv(decoder_input_file))\n",
    "    decoder_target_data = decoder_target_data.append(pd.read_csv(decoder_target_file))"
   ]
  },
  {
   "cell_type": "code",
   "execution_count": 70,
   "metadata": {},
   "outputs": [],
   "source": [
    "encoder_input_data = encoder_input_data.iloc[:, list(range(encoder_input_data.shape[1]-1,-1,-1))].values\n",
    "decoder_input_data = decoder_input_data.values\n",
    "decoder_target_data_2d = decoder_target_data.values"
   ]
  },
  {
   "cell_type": "code",
   "execution_count": 71,
   "metadata": {},
   "outputs": [],
   "source": [
    "decoder_target_data = decoder_target_data_2d.reshape((*decoder_target_data_2d.shape, -1))"
   ]
  },
  {
   "cell_type": "code",
   "execution_count": 72,
   "metadata": {},
   "outputs": [],
   "source": [
    "def train_valid_split(length, test_size=0.3, random_state=43):\n",
    "    np.random.RandomState(seed=random_state)\n",
    "    choices = list(range(length))\n",
    "    val_choices = np.random.choice(\n",
    "        choices,\n",
    "        int(length*test_size),\n",
    "        replace=False\n",
    "    ).tolist()\n",
    "    train_choices = list(set(choices) - set(val_choices))\n",
    "    return train_choices, val_choices"
   ]
  },
  {
   "cell_type": "code",
   "execution_count": 73,
   "metadata": {},
   "outputs": [
    {
     "data": {
      "text/plain": [
       "(3763903, 100)"
      ]
     },
     "execution_count": 73,
     "metadata": {},
     "output_type": "execute_result"
    }
   ],
   "source": [
    "encoder_input_data.shape"
   ]
  },
  {
   "cell_type": "code",
   "execution_count": 74,
   "metadata": {},
   "outputs": [
    {
     "data": {
      "text/plain": [
       "(3763903, 100)"
      ]
     },
     "execution_count": 74,
     "metadata": {},
     "output_type": "execute_result"
    }
   ],
   "source": [
    "decoder_input_data.shape"
   ]
  },
  {
   "cell_type": "code",
   "execution_count": 75,
   "metadata": {},
   "outputs": [
    {
     "data": {
      "text/plain": [
       "(3763903, 100, 1)"
      ]
     },
     "execution_count": 75,
     "metadata": {},
     "output_type": "execute_result"
    }
   ],
   "source": [
    "decoder_target_data.shape"
   ]
  },
  {
   "cell_type": "code",
   "execution_count": 76,
   "metadata": {},
   "outputs": [
    {
     "name": "stdout",
     "output_type": "stream",
     "text": [
      "____________________________________________________________________________________________________\n",
      "Layer (type)                     Output Shape          Param #     Connected to                     \n",
      "====================================================================================================\n",
      "input_19 (InputLayer)            (None, None)          0                                            \n",
      "____________________________________________________________________________________________________\n",
      "input_20 (InputLayer)            (None, None)          0                                            \n",
      "____________________________________________________________________________________________________\n",
      "embedding_13 (Embedding)         (None, None, 100)     7600        input_19[0][0]                   \n",
      "____________________________________________________________________________________________________\n",
      "embedding_14 (Embedding)         (None, None, 100)     7600        input_20[0][0]                   \n",
      "____________________________________________________________________________________________________\n",
      "batch_normalization_13 (BatchNor (None, None, 100)     400         embedding_13[0][0]               \n",
      "____________________________________________________________________________________________________\n",
      "batch_normalization_14 (BatchNor (None, None, 100)     400         embedding_14[0][0]               \n",
      "____________________________________________________________________________________________________\n",
      "lstm_13 (LSTM)                   [(None, 100), (None,  80400       batch_normalization_13[0][0]     \n",
      "____________________________________________________________________________________________________\n",
      "lstm_14 (LSTM)                   [(None, None, 100), ( 80400       batch_normalization_14[0][0]     \n",
      "                                                                   lstm_13[0][1]                    \n",
      "                                                                   lstm_13[0][2]                    \n",
      "____________________________________________________________________________________________________\n",
      "dense_7 (Dense)                  (None, None, 76)      7676        lstm_14[0][0]                    \n",
      "====================================================================================================\n",
      "Total params: 184,476\n",
      "Trainable params: 184,076\n",
      "Non-trainable params: 400\n",
      "____________________________________________________________________________________________________\n"
     ]
    }
   ],
   "source": [
    "model.summary()"
   ]
  },
  {
   "cell_type": "code",
   "execution_count": 77,
   "metadata": {},
   "outputs": [
    {
     "name": "stdout",
     "output_type": "stream",
     "text": [
      "Train on 3387512 samples, validate on 376391 samples\n",
      "Epoch 1/5\n",
      "3387512/3387512 [==============================] - 1384s - loss: 1.3616 - acc: 0.5900 - val_loss: 1.3850 - val_acc: 0.5894\n",
      "Epoch 2/5\n",
      "3387512/3387512 [==============================] - 1381s - loss: 1.3569 - acc: 0.5911 - val_loss: 1.3831 - val_acc: 0.5898\n",
      "Epoch 3/5\n",
      "3387512/3387512 [==============================] - 1387s - loss: 1.3554 - acc: 0.5914 - val_loss: 1.3833 - val_acc: 0.5905\n",
      "Epoch 4/5\n",
      "3387512/3387512 [==============================] - 1374s - loss: 1.3544 - acc: 0.5916 - val_loss: 1.3842 - val_acc: 0.5904\n",
      "Epoch 5/5\n",
      "3387512/3387512 [==============================] - 1383s - loss: 1.3536 - acc: 0.5918 - val_loss: 1.3837 - val_acc: 0.5906\n"
     ]
    },
    {
     "data": {
      "text/plain": [
       "<keras.callbacks.History at 0x7f5fec757278>"
      ]
     },
     "execution_count": 77,
     "metadata": {},
     "output_type": "execute_result"
    }
   ],
   "source": [
    "model.fit([encoder_input_data, decoder_input_data], decoder_target_data,\n",
    "          batch_size=400,\n",
    "          epochs=5,\n",
    "          validation_split=0.1)"
   ]
  },
  {
   "cell_type": "code",
   "execution_count": 78,
   "metadata": {},
   "outputs": [],
   "source": [
    "model.save_weights('model_weights.h5')"
   ]
  },
  {
   "cell_type": "code",
   "execution_count": 79,
   "metadata": {},
   "outputs": [],
   "source": [
    "# Define an input sequence and process it.\n",
    "encoder_inputs = Input(shape=(None,))\n",
    "encoder_embedding = Embedding(num_encoder_tokens, emb_dim)\n",
    "encoder_embedding_outputs = BatchNormalization()(encoder_embedding(encoder_inputs))\n",
    "encoder = LSTM(latent_dim, return_state=True)\n",
    "encoder_outputs, state_h, state_c = encoder(encoder_embedding_outputs)\n",
    "# We discard `encoder_outputs` and only keep the states.\n",
    "encoder_states = [state_h, state_c]\n",
    "\n",
    "# Set up the decoder, using `encoder_states` as initial state.\n",
    "decoder_inputs = Input(shape=(None,))\n",
    "# We set up our decoder to return full output sequences,\n",
    "# and to return internal states as well. We don't use the\n",
    "# return states in the training model, but we will use them in inference.\n",
    "decoder_embedding = Embedding(num_decoder_tokens, emb_dim)\n",
    "decoder_embedding_outputs = BatchNormalization()(decoder_embedding(decoder_inputs))\n",
    "decoder_lstm = LSTM(latent_dim, return_sequences=True, return_state=True)\n",
    "decoder_outputs, _, _ = decoder_lstm(decoder_embedding_outputs,\n",
    "                                     initial_state=encoder_states)\n",
    "decoder_dense = Dense(num_decoder_tokens, activation='softmax')\n",
    "decoder_outputs = decoder_dense(decoder_outputs)\n",
    "\n",
    "# Define the model that will turn\n",
    "# `encoder_input_data` & `decoder_input_data` into `decoder_target_data`\n",
    "model = Model([encoder_inputs, decoder_inputs], decoder_outputs)\n",
    "\n",
    "model.load_weights('model_weights.h5')\n",
    "\n",
    "encoder_model = Model(encoder_inputs, encoder_states)\n",
    "decoder_state_input_h = Input(shape=(latent_dim,))\n",
    "decoder_state_input_c = Input(shape=(latent_dim,))\n",
    "decoder_states_inputs = [decoder_state_input_h, decoder_state_input_c]\n",
    "decoder_outputs, state_h, state_c = decoder_lstm(\n",
    "    decoder_embedding_outputs, initial_state=decoder_states_inputs)\n",
    "decoder_states = [state_h, state_c]\n",
    "decoder_outputs = decoder_dense(decoder_outputs)\n",
    "decoder_model = Model(\n",
    "    [decoder_inputs] + decoder_states_inputs,\n",
    "    [decoder_outputs] + decoder_states)"
   ]
  },
  {
   "cell_type": "code",
   "execution_count": 80,
   "metadata": {},
   "outputs": [],
   "source": [
    "encoder_model.save('encoder_model.h5')\n",
    "decoder_model.save('decoder_model.h5')"
   ]
  },
  {
   "cell_type": "code",
   "execution_count": 89,
   "metadata": {},
   "outputs": [],
   "source": [
    "def decode_sequence(input_seq):\n",
    "    # Encode the input as state vectors.\n",
    "    states_value = encoder_model.predict(input_seq)\n",
    "\n",
    "    # Generate empty target sequence of length 1.\n",
    "    target_seq = np.array(word2ind[' ']).reshape((1, 1))\n",
    "\n",
    "    # Sampling loop for a batch of sequences\n",
    "    # (to simplify, here we assume a batch of size 1).\n",
    "    stop_condition = False\n",
    "    decoded_sentence = ''\n",
    "    while not stop_condition:\n",
    "        output_tokens, h, c = decoder_model.predict(\n",
    "            [target_seq] + states_value)\n",
    "\n",
    "        # Sample a token\n",
    "        first_n = np.argsort(output_tokens[0, -1, :])[-3:]\n",
    "        probs = output_tokens[0, -1, first_n] / np.sum(output_tokens[0, -1, first_n])\n",
    "        sampled_token_index = np.random.choice(first_n, p=probs)\n",
    "        # sampled_token_index = np.random.choice(list(range(num_decoder_tokens)), p=output_tokens[0, -1, :])\n",
    "        sampled_char = ind2word[str(sampled_token_index)]\n",
    "        decoded_sentence += sampled_char\n",
    "\n",
    "        # Exit condition: either hit max length\n",
    "        # or find stop character.\n",
    "        if len(decoded_sentence) > 200:\n",
    "            stop_condition = True\n",
    "\n",
    "        # Update the target sequence (of length 1).\n",
    "        target_seq = np.array(sampled_token_index).reshape((1, 1))\n",
    "\n",
    "        # Update states\n",
    "        states_value = [h, c]\n",
    "\n",
    "    return decoded_sentence"
   ]
  },
  {
   "cell_type": "code",
   "execution_count": 90,
   "metadata": {},
   "outputs": [
    {
     "name": "stdout",
     "output_type": "stream",
     "text": [
      "song and that you know  \n",
      "  \n",
      "What I can be and the start  \n",
      "  \n",
      "It's a life, a streather  \n",
      "  \n",
      "The same I can do the late  \n",
      "It's always so song that's tonight  \n",
      "  \n",
      "I confusing me  \n",
      "It's there where you wil\n"
     ]
    }
   ],
   "source": [
    "print(decode_sequence(encoder_input_data[0]))"
   ]
  },
  {
   "cell_type": "code",
   "execution_count": null,
   "metadata": {},
   "outputs": [],
   "source": []
  }
 ],
 "metadata": {
  "kernelspec": {
   "display_name": "Python 3",
   "language": "python",
   "name": "python3"
  },
  "language_info": {
   "codemirror_mode": {
    "name": "ipython",
    "version": 3
   },
   "file_extension": ".py",
   "mimetype": "text/x-python",
   "name": "python",
   "nbconvert_exporter": "python",
   "pygments_lexer": "ipython3",
   "version": "3.5.4"
  }
 },
 "nbformat": 4,
 "nbformat_minor": 2
}
