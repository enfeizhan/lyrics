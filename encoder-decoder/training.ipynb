{
 "cells": [
  {
   "cell_type": "code",
   "execution_count": 1,
   "metadata": {},
   "outputs": [],
   "source": [
    "%matplotlib inline\n",
    "import importlib\n",
    "import numpy as np\n",
    "import pandas as pd\n",
    "import matplotlib.pyplot as plt\n",
    "import utils"
   ]
  },
  {
   "cell_type": "code",
   "execution_count": 2,
   "metadata": {},
   "outputs": [
    {
     "name": "stderr",
     "output_type": "stream",
     "text": [
      "Using TensorFlow backend.\n"
     ]
    }
   ],
   "source": [
    "from keras.models import Model, load_model\n",
    "from keras.layers import Input, Embedding, LSTM, Dense, Dropout, Flatten\n",
    "from keras.models import Model"
   ]
  },
  {
   "cell_type": "code",
   "execution_count": 3,
   "metadata": {},
   "outputs": [
    {
     "data": {
      "text/plain": [
       "<module 'utils' from '/home/fei/Documents/projects/lyrics/encoder-decoder/utils.py'>"
      ]
     },
     "execution_count": 3,
     "metadata": {},
     "output_type": "execute_result"
    }
   ],
   "source": [
    "importlib.reload(utils)"
   ]
  },
  {
   "cell_type": "code",
   "execution_count": 4,
   "metadata": {},
   "outputs": [],
   "source": [
    "word2ind, ind2word = utils.load_index_word_map()"
   ]
  },
  {
   "cell_type": "code",
   "execution_count": 5,
   "metadata": {},
   "outputs": [],
   "source": [
    "num_encoder_tokens = len(word2ind)\n",
    "num_decoder_tokens = len(word2ind)\n",
    "latent_dim = 100"
   ]
  },
  {
   "cell_type": "code",
   "execution_count": 6,
   "metadata": {},
   "outputs": [],
   "source": [
    "# Define an input sequence and process it.\n",
    "encoder_inputs = Input(shape=(None, num_encoder_tokens))\n",
    "encoder = LSTM(latent_dim, return_state=True, dropout=0.2, recurrent_dropout=0.2)\n",
    "encoder_outputs, state_h, state_c = encoder(encoder_inputs)\n",
    "# We discard `encoder_outputs` and only keep the states.\n",
    "encoder_states = [state_h, state_c]\n",
    "\n",
    "# Set up the decoder, using `encoder_states` as initial state.\n",
    "decoder_inputs = Input(shape=(None, num_decoder_tokens))\n",
    "# We set up our decoder to return full output sequences,\n",
    "# and to return internal states as well. We don't use the\n",
    "# return states in the training model, but we will use them in inference.\n",
    "decoder_lstm = LSTM(latent_dim, return_sequences=True, return_state=True, dropout=0.2, recurrent_dropout=0.2)\n",
    "decoder_outputs, _, _ = decoder_lstm(decoder_inputs,\n",
    "                                     initial_state=encoder_states)\n",
    "decoder_dense = Dense(num_decoder_tokens, activation='softmax')\n",
    "decoder_outputs = decoder_dense(decoder_outputs)\n",
    "\n",
    "# Define the model that will turn\n",
    "# `encoder_input_data` & `decoder_input_data` into `decoder_target_data`\n",
    "model = Model([encoder_inputs, decoder_inputs], decoder_outputs)"
   ]
  },
  {
   "cell_type": "code",
   "execution_count": 7,
   "metadata": {},
   "outputs": [],
   "source": [
    "model.load_weights('model_weights.h5')"
   ]
  },
  {
   "cell_type": "code",
   "execution_count": 8,
   "metadata": {},
   "outputs": [],
   "source": [
    "# Run training\n",
    "model.compile(optimizer='rmsprop', loss='categorical_crossentropy')"
   ]
  },
  {
   "cell_type": "code",
   "execution_count": 9,
   "metadata": {},
   "outputs": [],
   "source": [
    "encoder_input_data_2d = pd.read_csv('encoder_input.csv').values\n",
    "decoder_input_data_2d = pd.read_csv('decoder_input.csv').values\n",
    "decoder_target_data_2d = pd.read_csv('decoder_target.csv').values\n",
    "# decoder_target_data = decoder_target_data.reshape((decoder_target_data.shape[0], decoder_target_data.shape[1], -1))"
   ]
  },
  {
   "cell_type": "code",
   "execution_count": 10,
   "metadata": {},
   "outputs": [],
   "source": [
    "def train_valid_split(length, test_size=0.3, random_state=43):\n",
    "    np.random.RandomState(seed=random_state)\n",
    "    choices = list(range(length))\n",
    "    val_choices = np.random.choice(\n",
    "        choices,\n",
    "        int(length*test_size),\n",
    "        replace=False\n",
    "    ).tolist()\n",
    "    train_choices = list(set(choices) - set(val_choices))\n",
    "    return train_choices, val_choices"
   ]
  },
  {
   "cell_type": "code",
   "execution_count": 11,
   "metadata": {},
   "outputs": [],
   "source": [
    "def make_3d_one_hot(input_2d, n_tokens):\n",
    "    z_coords = input_2d.flatten()\n",
    "    y_mesh, x_mesh = np.meshgrid(list(range(input_2d.shape[1])), list(range(input_2d.shape[0])))\n",
    "    x_coords = x_mesh.flatten()\n",
    "    y_coords = y_mesh.flatten()\n",
    "    input_data = np.zeros((*input_2d.shape, n_tokens))\n",
    "    input_data[x_coords, y_coords, z_coords] = 1\n",
    "    return input_data"
   ]
  },
  {
   "cell_type": "code",
   "execution_count": 12,
   "metadata": {},
   "outputs": [],
   "source": [
    "encoder_input_data = make_3d_one_hot(encoder_input_data_2d, num_encoder_tokens)\n",
    "decoder_input_data = make_3d_one_hot(decoder_input_data_2d, num_decoder_tokens)\n",
    "decoder_target_data = make_3d_one_hot(decoder_target_data_2d, num_decoder_tokens)"
   ]
  },
  {
   "cell_type": "code",
   "execution_count": 13,
   "metadata": {},
   "outputs": [
    {
     "data": {
      "text/plain": [
       "(114504, 100, 66)"
      ]
     },
     "execution_count": 13,
     "metadata": {},
     "output_type": "execute_result"
    }
   ],
   "source": [
    "encoder_input_data.shape"
   ]
  },
  {
   "cell_type": "code",
   "execution_count": 14,
   "metadata": {},
   "outputs": [
    {
     "data": {
      "text/plain": [
       "(114504, 99, 66)"
      ]
     },
     "execution_count": 14,
     "metadata": {},
     "output_type": "execute_result"
    }
   ],
   "source": [
    "decoder_input_data.shape"
   ]
  },
  {
   "cell_type": "code",
   "execution_count": 15,
   "metadata": {},
   "outputs": [
    {
     "data": {
      "text/plain": [
       "(114504, 99, 66)"
      ]
     },
     "execution_count": 15,
     "metadata": {},
     "output_type": "execute_result"
    }
   ],
   "source": [
    "decoder_target_data.shape"
   ]
  },
  {
   "cell_type": "code",
   "execution_count": 16,
   "metadata": {},
   "outputs": [],
   "source": [
    "train_set, val_set = train_valid_split(encoder_input_data.shape[0])"
   ]
  },
  {
   "cell_type": "code",
   "execution_count": 17,
   "metadata": {},
   "outputs": [
    {
     "name": "stdout",
     "output_type": "stream",
     "text": [
      "____________________________________________________________________________________________________\n",
      "Layer (type)                     Output Shape          Param #     Connected to                     \n",
      "====================================================================================================\n",
      "input_1 (InputLayer)             (None, None, 66)      0                                            \n",
      "____________________________________________________________________________________________________\n",
      "input_2 (InputLayer)             (None, None, 66)      0                                            \n",
      "____________________________________________________________________________________________________\n",
      "lstm_1 (LSTM)                    [(None, 100), (None,  66800       input_1[0][0]                    \n",
      "____________________________________________________________________________________________________\n",
      "lstm_2 (LSTM)                    [(None, None, 100), ( 66800       input_2[0][0]                    \n",
      "                                                                   lstm_1[0][1]                     \n",
      "                                                                   lstm_1[0][2]                     \n",
      "____________________________________________________________________________________________________\n",
      "dense_1 (Dense)                  (None, None, 66)      6666        lstm_2[0][0]                     \n",
      "====================================================================================================\n",
      "Total params: 140,266\n",
      "Trainable params: 140,266\n",
      "Non-trainable params: 0\n",
      "____________________________________________________________________________________________________\n"
     ]
    }
   ],
   "source": [
    "model.summary()"
   ]
  },
  {
   "cell_type": "code",
   "execution_count": 18,
   "metadata": {},
   "outputs": [
    {
     "name": "stdout",
     "output_type": "stream",
     "text": [
      "Train on 64122 samples, validate on 16031 samples\n",
      "Epoch 1/50\n",
      "64122/64122 [==============================] - 40s - loss: 1.3545 - val_loss: 1.6057\n",
      "Epoch 2/50\n",
      "64122/64122 [==============================] - 20s - loss: 1.3497 - val_loss: 1.6020\n",
      "Epoch 3/50\n",
      "64122/64122 [==============================] - 20s - loss: 1.3468 - val_loss: 1.6034\n",
      "Epoch 4/50\n",
      "64122/64122 [==============================] - 20s - loss: 1.3443 - val_loss: 1.5997\n",
      "Epoch 5/50\n",
      "64122/64122 [==============================] - 20s - loss: 1.3411 - val_loss: 1.6041\n",
      "Epoch 6/50\n",
      "64122/64122 [==============================] - 21s - loss: 1.3383 - val_loss: 1.6072\n",
      "Epoch 7/50\n",
      "64122/64122 [==============================] - 20s - loss: 1.3361 - val_loss: 1.6033\n",
      "Epoch 8/50\n",
      "64122/64122 [==============================] - 20s - loss: 1.3335 - val_loss: 1.6082\n",
      "Epoch 9/50\n",
      "64122/64122 [==============================] - 20s - loss: 1.3311 - val_loss: 1.6046\n",
      "Epoch 10/50\n",
      "64122/64122 [==============================] - 20s - loss: 1.3292 - val_loss: 1.5996\n",
      "Epoch 11/50\n",
      "64122/64122 [==============================] - 20s - loss: 1.3262 - val_loss: 1.6017\n",
      "Epoch 12/50\n",
      "64122/64122 [==============================] - 20s - loss: 1.3243 - val_loss: 1.6043\n",
      "Epoch 13/50\n",
      "64122/64122 [==============================] - 20s - loss: 1.3212 - val_loss: 1.6009\n",
      "Epoch 14/50\n",
      "64122/64122 [==============================] - 20s - loss: 1.3197 - val_loss: 1.6010\n",
      "Epoch 15/50\n",
      "64122/64122 [==============================] - 21s - loss: 1.3174 - val_loss: 1.6044\n",
      "Epoch 16/50\n",
      "64122/64122 [==============================] - 20s - loss: 1.3147 - val_loss: 1.6017\n",
      "Epoch 17/50\n",
      "64122/64122 [==============================] - 20s - loss: 1.3128 - val_loss: 1.6034\n",
      "Epoch 18/50\n",
      "64122/64122 [==============================] - 20s - loss: 1.3110 - val_loss: 1.6041\n",
      "Epoch 19/50\n",
      "64122/64122 [==============================] - 20s - loss: 1.3100 - val_loss: 1.6069\n",
      "Epoch 20/50\n",
      "64122/64122 [==============================] - 20s - loss: 1.3061 - val_loss: 1.6056\n",
      "Epoch 21/50\n",
      "64122/64122 [==============================] - 20s - loss: 1.3054 - val_loss: 1.6050\n",
      "Epoch 22/50\n",
      "64122/64122 [==============================] - 20s - loss: 1.3033 - val_loss: 1.6015\n",
      "Epoch 23/50\n",
      "64122/64122 [==============================] - 20s - loss: 1.3010 - val_loss: 1.6012\n",
      "Epoch 24/50\n",
      "64122/64122 [==============================] - 20s - loss: 1.2991 - val_loss: 1.5990\n",
      "Epoch 25/50\n",
      "64122/64122 [==============================] - 20s - loss: 1.2978 - val_loss: 1.6049\n",
      "Epoch 26/50\n",
      "64122/64122 [==============================] - 20s - loss: 1.2957 - val_loss: 1.6028\n",
      "Epoch 27/50\n",
      "64122/64122 [==============================] - 20s - loss: 1.2950 - val_loss: 1.6052\n",
      "Epoch 28/50\n",
      "64122/64122 [==============================] - 20s - loss: 1.2916 - val_loss: 1.6098\n",
      "Epoch 29/50\n",
      "64122/64122 [==============================] - 20s - loss: 1.2905 - val_loss: 1.6032\n",
      "Epoch 30/50\n",
      "64122/64122 [==============================] - 20s - loss: 1.2883 - val_loss: 1.6033\n",
      "Epoch 31/50\n",
      "64122/64122 [==============================] - 20s - loss: 1.2864 - val_loss: 1.6044\n",
      "Epoch 32/50\n",
      "64122/64122 [==============================] - 20s - loss: 1.2851 - val_loss: 1.6029\n",
      "Epoch 33/50\n",
      "64122/64122 [==============================] - 20s - loss: 1.2843 - val_loss: 1.6094\n",
      "Epoch 34/50\n",
      "64122/64122 [==============================] - 20s - loss: 1.2826 - val_loss: 1.6048\n",
      "Epoch 35/50\n",
      "64122/64122 [==============================] - 19s - loss: 1.2802 - val_loss: 1.5986\n",
      "Epoch 36/50\n",
      "64122/64122 [==============================] - 20s - loss: 1.2792 - val_loss: 1.6079\n",
      "Epoch 37/50\n",
      "64122/64122 [==============================] - 19s - loss: 1.2778 - val_loss: 1.6059\n",
      "Epoch 38/50\n",
      "64122/64122 [==============================] - 20s - loss: 1.2764 - val_loss: 1.6084\n",
      "Epoch 39/50\n",
      "64122/64122 [==============================] - 20s - loss: 1.2754 - val_loss: 1.6066\n",
      "Epoch 40/50\n",
      "64122/64122 [==============================] - 19s - loss: 1.2729 - val_loss: 1.6032\n",
      "Epoch 41/50\n",
      "64122/64122 [==============================] - 20s - loss: 1.2722 - val_loss: 1.6045\n",
      "Epoch 42/50\n",
      "64122/64122 [==============================] - 20s - loss: 1.2711 - val_loss: 1.5992\n",
      "Epoch 43/50\n",
      "64122/64122 [==============================] - 19s - loss: 1.2692 - val_loss: 1.6006\n",
      "Epoch 44/50\n",
      "64122/64122 [==============================] - 19s - loss: 1.2683 - val_loss: 1.6001\n",
      "Epoch 45/50\n",
      "64122/64122 [==============================] - 19s - loss: 1.2664 - val_loss: 1.6010\n",
      "Epoch 46/50\n",
      "64122/64122 [==============================] - 20s - loss: 1.2658 - val_loss: 1.6028\n",
      "Epoch 47/50\n",
      "64122/64122 [==============================] - 19s - loss: 1.2642 - val_loss: 1.6038\n",
      "Epoch 48/50\n",
      "64122/64122 [==============================] - 19s - loss: 1.2625 - val_loss: 1.6007\n",
      "Epoch 49/50\n",
      "64122/64122 [==============================] - 20s - loss: 1.2618 - val_loss: 1.6022\n",
      "Epoch 50/50\n",
      "64122/64122 [==============================] - 20s - loss: 1.2597 - val_loss: 1.6119\n"
     ]
    },
    {
     "data": {
      "text/plain": [
       "<keras.callbacks.History at 0x7f05f876b630>"
      ]
     },
     "execution_count": 18,
     "metadata": {},
     "output_type": "execute_result"
    }
   ],
   "source": [
    "model.fit([encoder_input_data[train_set], decoder_input_data[train_set]], decoder_target_data[train_set],\n",
    "          batch_size=2000,\n",
    "          epochs=50,\n",
    "          validation_split=0.2)"
   ]
  },
  {
   "cell_type": "code",
   "execution_count": 19,
   "metadata": {},
   "outputs": [],
   "source": [
    "model.save_weights('model_weights.h5')"
   ]
  },
  {
   "cell_type": "code",
   "execution_count": 20,
   "metadata": {},
   "outputs": [],
   "source": [
    "# Define an input sequence and process it.\n",
    "encoder_inputs = Input(shape=(None, num_encoder_tokens))\n",
    "encoder = LSTM(latent_dim, return_state=True)\n",
    "encoder_outputs, state_h, state_c = encoder(encoder_inputs)\n",
    "# We discard `encoder_outputs` and only keep the states.\n",
    "encoder_states = [state_h, state_c]\n",
    "\n",
    "# Set up the decoder, using `encoder_states` as initial state.\n",
    "decoder_inputs = Input(shape=(None, num_decoder_tokens))\n",
    "# We set up our decoder to return full output sequences,\n",
    "# and to return internal states as well. We don't use the\n",
    "# return states in the training model, but we will use them in inference.\n",
    "decoder_lstm = LSTM(latent_dim, return_sequences=True, return_state=True)\n",
    "decoder_outputs, _, _ = decoder_lstm(decoder_inputs, initial_state=encoder_states)\n",
    "decoder_dense = Dense(num_decoder_tokens, activation='softmax')\n",
    "decoder_outputs = decoder_dense(decoder_outputs)\n",
    "\n",
    "# Define the model that will turn\n",
    "# `encoder_input_data` & `decoder_input_data` into `decoder_target_data`\n",
    "model = Model([encoder_inputs, decoder_inputs], decoder_outputs)\n",
    "model.load_weights('model_weights.h5')\n",
    "encoder_model = Model(encoder_inputs, encoder_states)\n",
    "decoder_state_input_h = Input(shape=(latent_dim,))\n",
    "decoder_state_input_c = Input(shape=(latent_dim,))\n",
    "decoder_states_inputs = [decoder_state_input_h, decoder_state_input_c]\n",
    "decoder_outputs, state_h, state_c = decoder_lstm(\n",
    "    decoder_inputs, initial_state=decoder_states_inputs)\n",
    "decoder_states = [state_h, state_c]\n",
    "decoder_outputs = decoder_dense(decoder_outputs)\n",
    "decoder_model = Model(\n",
    "    [decoder_inputs] + decoder_states_inputs,\n",
    "    [decoder_outputs] + decoder_states)"
   ]
  },
  {
   "cell_type": "code",
   "execution_count": 21,
   "metadata": {},
   "outputs": [],
   "source": [
    "encoder_model.save('encoder_model.h5')\n",
    "decoder_model.save('decoder_model.h5')"
   ]
  },
  {
   "cell_type": "code",
   "execution_count": 22,
   "metadata": {},
   "outputs": [],
   "source": [
    "def decode_sequence(input_seq):\n",
    "    # Encode the input as state vectors.\n",
    "    states_value = encoder_model.predict(input_seq)\n",
    "\n",
    "    # Generate empty target sequence of length 1.\n",
    "    target_seq = np.zeros((1, 1, num_decoder_tokens))\n",
    "    # Populate the first character of target sequence with the start character.\n",
    "    target_seq[0, 0, word2ind[' ']] = 1.\n",
    "\n",
    "    # Sampling loop for a batch of sequences\n",
    "    # (to simplify, here we assume a batch of size 1).\n",
    "    stop_condition = False\n",
    "    decoded_sentence = ''\n",
    "    while not stop_condition:\n",
    "        output_tokens, h, c = decoder_model.predict(\n",
    "            [target_seq] + states_value)\n",
    "\n",
    "        # Sample a token\n",
    "        sampled_token_index = np.random.choice(list(range(num_decoder_tokens)), p=output_tokens[0, -1, :])\n",
    "        sampled_char = ind2word[str(sampled_token_index)]\n",
    "        decoded_sentence += sampled_char\n",
    "\n",
    "        # Exit condition: either hit max length\n",
    "        # or find stop character.\n",
    "        if len(decoded_sentence) > 200:\n",
    "            stop_condition = True\n",
    "\n",
    "        # Update the target sequence (of length 1).\n",
    "        target_seq = np.zeros((1, 1, num_decoder_tokens))\n",
    "        target_seq[0, 0, sampled_token_index] = 1.\n",
    "\n",
    "        # Update states\n",
    "        states_value = [h, c]\n",
    "\n",
    "    return decoded_sentence"
   ]
  },
  {
   "cell_type": "code",
   "execution_count": 23,
   "metadata": {},
   "outputs": [
    {
     "name": "stdout",
     "output_type": "stream",
     "text": [
      "fame if your love on  \n",
      "There was bad  \n",
      "And s beft something seemsk time in a sing you just a few to take  \n",
      "Come of usisuliss you end sound  \n",
      "Won't you try dreams had time of never take on your sow?  \n",
      " \n"
     ]
    }
   ],
   "source": [
    "print(decode_sequence(encoder_input_data[:1]))"
   ]
  },
  {
   "cell_type": "code",
   "execution_count": null,
   "metadata": {},
   "outputs": [],
   "source": []
  }
 ],
 "metadata": {
  "kernelspec": {
   "display_name": "Python 3",
   "language": "python",
   "name": "python3"
  },
  "language_info": {
   "codemirror_mode": {
    "name": "ipython",
    "version": 3
   },
   "file_extension": ".py",
   "mimetype": "text/x-python",
   "name": "python",
   "nbconvert_exporter": "python",
   "pygments_lexer": "ipython3",
   "version": "3.5.4"
  }
 },
 "nbformat": 4,
 "nbformat_minor": 2
}
