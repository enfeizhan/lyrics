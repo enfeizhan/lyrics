{
 "cells": [
  {
   "cell_type": "code",
   "execution_count": 1,
   "metadata": {},
   "outputs": [],
   "source": [
    "import re\n",
    "import json\n",
    "import importlib\n",
    "import numpy as np\n",
    "import pandas as pd\n",
    "from collections import deque\n",
    "import utils"
   ]
  },
  {
   "cell_type": "code",
   "execution_count": 2,
   "metadata": {},
   "outputs": [
    {
     "data": {
      "text/plain": [
       "<module 'utils' from '/home/fei/Documents/projects/lyrics/encoder-decoder/utils.py'>"
      ]
     },
     "execution_count": 2,
     "metadata": {},
     "output_type": "execute_result"
    }
   ],
   "source": [
    "importlib.reload(utils)"
   ]
  },
  {
   "cell_type": "code",
   "execution_count": 3,
   "metadata": {},
   "outputs": [
    {
     "name": "stderr",
     "output_type": "stream",
     "text": [
      "Using TensorFlow backend.\n"
     ]
    }
   ],
   "source": [
    "from keras.models import load_model\n",
    "from keras.preprocessing.sequence import pad_sequences"
   ]
  },
  {
   "cell_type": "code",
   "execution_count": 4,
   "metadata": {},
   "outputs": [
    {
     "name": "stderr",
     "output_type": "stream",
     "text": [
      "/home/fei/miniconda3/envs/py3_5/lib/python3.5/site-packages/keras/models.py:251: UserWarning: No training configuration found in save file: the model was *not* compiled. Compile it manually.\n",
      "  warnings.warn('No training configuration found in save file: '\n"
     ]
    }
   ],
   "source": [
    "encoder_model = load_model('encoder_model.h5')"
   ]
  },
  {
   "cell_type": "code",
   "execution_count": 5,
   "metadata": {},
   "outputs": [
    {
     "name": "stderr",
     "output_type": "stream",
     "text": [
      "/home/fei/miniconda3/envs/py3_5/lib/python3.5/site-packages/keras/models.py:251: UserWarning: No training configuration found in save file: the model was *not* compiled. Compile it manually.\n",
      "  warnings.warn('No training configuration found in save file: '\n"
     ]
    }
   ],
   "source": [
    "decoder_model = load_model('decoder_model.h5')"
   ]
  },
  {
   "cell_type": "code",
   "execution_count": 6,
   "metadata": {},
   "outputs": [],
   "source": [
    "word2ind, ind2word = utils.load_index_word_map()"
   ]
  },
  {
   "cell_type": "code",
   "execution_count": 7,
   "metadata": {},
   "outputs": [],
   "source": [
    "n_tokens = len(word2ind)"
   ]
  },
  {
   "cell_type": "code",
   "execution_count": 8,
   "metadata": {},
   "outputs": [],
   "source": [
    "def get_next_line(input_seq):\n",
    "    # Encode the input as state vectors.\n",
    "    states_value = encoder_model.predict(input_seq)\n",
    "\n",
    "    # Generate empty target sequence of length 1.\n",
    "    target_seq = np.array(word2ind[' ']).reshape((1, 1))\n",
    "\n",
    "    # Sampling loop for a batch of sequences\n",
    "    # (to simplify, here we assume a batch of size 1).\n",
    "    stop_condition = False\n",
    "    next_line = []\n",
    "    while not stop_condition:\n",
    "        output_tokens, h, c = decoder_model.predict(\n",
    "            [target_seq] + states_value)\n",
    "\n",
    "        # Sample a token\n",
    "        first_n = np.argsort(output_tokens[0, -1, :])[-3:]\n",
    "        probs = output_tokens[0, -1, first_n] / np.sum(output_tokens[0, -1, first_n])\n",
    "        sampled_token_index = np.random.choice(first_n, p=probs)\n",
    "        next_line.append(sampled_token_index)\n",
    "        if len(next_line) > 100:\n",
    "            stop_condition = True\n",
    "\n",
    "        # Update the target sequence (of length 1).\n",
    "        target_seq = np.array(sampled_token_index).reshape((1, 1))\n",
    "\n",
    "        # Update states\n",
    "        states_value = [h, c]\n",
    "\n",
    "    return next_line"
   ]
  },
  {
   "cell_type": "code",
   "execution_count": 21,
   "metadata": {},
   "outputs": [],
   "source": [
    "def make_song(seed_text, lines=100):\n",
    "    seed_chars = list(seed_text)\n",
    "    seed_inds = np.array([word2ind[char] for char in seed_chars]).reshape((1, -1))\n",
    "    next_line = pad_sequences(seed_inds, maxlen=100)\n",
    "    total_preds = []\n",
    "    for _ in range(lines):\n",
    "        next_line = np.array(next_line).reshape((1, -1))\n",
    "        next_line = get_next_line(next_line)\n",
    "        total_preds += next_line\n",
    "    total_text = ''.join([ind2word[str(ind)] for ind in total_preds])\n",
    "    return seed_text + total_text"
   ]
  },
  {
   "cell_type": "code",
   "execution_count": 27,
   "metadata": {},
   "outputs": [],
   "source": [
    "song = make_song('Look at her face. It\\'s a beautiful face', lines=10)"
   ]
  },
  {
   "cell_type": "code",
   "execution_count": 28,
   "metadata": {},
   "outputs": [
    {
     "name": "stdout",
     "output_type": "stream",
     "text": [
      "Look at her face. It's a beautiful facelights to stop in yourself  \n",
      "All the store to say  \n",
      "That you wants me  \n",
      "And I will be the strange  \n",
      "A  \n",
      "And the shame is trues  \n",
      "And I'll never still be  \n",
      "And I'll be a bed  \n",
      "  \n",
      "Tell me when that's the \n",
      "I'm a stronger with the wind  \n",
      "And the baby will says that's the body  \n",
      "To be standin that I don't wno toom baby,  \n",
      "It's a missed of the bad boy  \n",
      "  \n",
      "The world I could stop  \n",
      "And the world is a mind  \n",
      " a mind  \n",
      "I'm gonna be a man  \n",
      "And I'm gonna be the baby  \n",
      "I won't belong the sun  \n",
      "I would breathe ifavore  \n",
      "I'm a lots  \n",
      "  \n",
      "I want to the while  \n",
      "  \n",
      "I can see there to the stars  \n",
      "  \n",
      "And a start of li this  \n",
      "I'ma stays the storm  \n",
      "I don't know you all the bed  \n",
      "  \n",
      "I can't be you  \n",
      "It's all the star oall your head on the same  \n",
      "  \n",
      "The start to my shake thing  \n",
      "Tell more that I can be a shine  \n",
      "  \n",
      "Andy  \n",
      "I'll not see your friend  \n",
      "I can say you and I want  \n",
      "I want to be all that you've gotta get you ou stay the way  \n",
      "I wish I wanna be a mother  \n",
      "I would still say you tonight  \n",
      "I'm a boyfriend of you\n"
     ]
    }
   ],
   "source": [
    "print(song)"
   ]
  },
  {
   "cell_type": "code",
   "execution_count": null,
   "metadata": {},
   "outputs": [],
   "source": []
  }
 ],
 "metadata": {
  "kernelspec": {
   "display_name": "Python 3",
   "language": "python",
   "name": "python3"
  },
  "language_info": {
   "codemirror_mode": {
    "name": "ipython",
    "version": 3
   },
   "file_extension": ".py",
   "mimetype": "text/x-python",
   "name": "python",
   "nbconvert_exporter": "python",
   "pygments_lexer": "ipython3",
   "version": "3.5.4"
  }
 },
 "nbformat": 4,
 "nbformat_minor": 2
}
