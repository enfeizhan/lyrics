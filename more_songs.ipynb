{
 "cells": [
  {
   "cell_type": "code",
   "execution_count": 22,
   "metadata": {},
   "outputs": [],
   "source": [
    "import pandas as pd\n",
    "import json\n",
    "import os"
   ]
  },
  {
   "cell_type": "code",
   "execution_count": 29,
   "metadata": {},
   "outputs": [],
   "source": [
    "year = 2018"
   ]
  },
  {
   "cell_type": "code",
   "execution_count": 30,
   "metadata": {},
   "outputs": [],
   "source": [
    "artist = ['Anne-Marie']"
   ]
  },
  {
   "cell_type": "code",
   "execution_count": 31,
   "metadata": {},
   "outputs": [],
   "source": [
    "song = 'Friends'"
   ]
  },
  {
   "cell_type": "code",
   "execution_count": 32,
   "metadata": {},
   "outputs": [],
   "source": [
    "genre = None"
   ]
  },
  {
   "cell_type": "code",
   "execution_count": 33,
   "metadata": {},
   "outputs": [],
   "source": [
    "lyrics = '''[Intro: Anne-Marie]\n",
    "Oooh-oh, oooh-woh\n",
    "Oooh-oh, oooh-woh\n",
    "\n",
    "[Verse 1: Anne-Marie]\n",
    "You say you love me, I say you crazy\n",
    "We're nothing more than friends\n",
    "You're not my lover, more like a brother\n",
    "I known you since we were like ten, yeah\n",
    "\n",
    "[Refrain: Anne-Marie]\n",
    "Don't mess it up, talking that shit\n",
    "Only gonna push me away, that's it!\n",
    "When you say you love me, that make me crazy\n",
    "Here we go again\n",
    "\n",
    "[Pre-Chorus: Anne-Marie]\n",
    "Don't go look at me with that look in your eye\n",
    "You really ain't going away without a fight\n",
    "You can't be reasoned with, I'm done being polite\n",
    "I've told you one, two, three, four, five, six thousand times\n",
    "\n",
    "[Chorus: Anne-Marie]\n",
    "Haven't I made it obvious?\n",
    "Haven't I made it clear?\n",
    "Want me to spell it out for you?\n",
    "F-R-I-EN-D-S\n",
    "Haven't I made it obvious?\n",
    "Haven't I made it clear?\n",
    "Want me to spell it out for you?\n",
    "F-R-I-EN-D-S\n",
    "F-R-I-EN-D-S\n",
    "\n",
    "[Verse 2: Anne-Marie]\n",
    "Have you got no shame? You looking insane\n",
    "Turning up at my door\n",
    "It's two in the morning, the rain is pouring\n",
    "Haven't we been here before?\n",
    "\n",
    "[Refrain: Anne-Marie]\n",
    "Don't mess it up, talking that shit\n",
    "Only gonna push me away, that's it!\n",
    "Have you got no shame? You looking insane\n",
    "Here we go again\n",
    "\n",
    "[Pre-Chorus: Anne-Marie]\n",
    "Don't go look at me with that look in your eye\n",
    "You really ain't going away without a fight\n",
    "You can't be reasoned with, I'm done being polite\n",
    "I've told you one, two, three, four, five, six thousand times\n",
    "\n",
    "[Chorus: Anne-Marie]\n",
    "Haven't I made it obvious? (Haven't I made it?)\n",
    "Haven't I made it clear? (Haven't I made it clear?)\n",
    "Want me to spell it out for you?\n",
    "F-R-I-EN-D-S\n",
    "Haven't I made it obvious?\n",
    "Haven't I made it clear? (Haven't I?)\n",
    "Want me to spell it out for you? (to spell it out for you?)\n",
    "F-R-I-EN-D-S\n",
    "F-R-I-EN-D-S\n",
    "\n",
    "[Bridge: Anne-Marie]\n",
    "F-R-I-E-N-D-S\n",
    "That's how you f****** spell \"friends\"\n",
    "F-R-I-E-N-D-S\n",
    "Get that shit inside your head\n",
    "No, no, yeah, uh, ahh\n",
    "F-R-I-E-N-D-S\n",
    "We're just friends\n",
    "\n",
    "[Pre-Chorus: Anne-Marie]\n",
    "So don't go look at me with that look in your eye\n",
    "You really ain't going nowhere without a fight\n",
    "You can't be reasoned with, I'm done being polite\n",
    "I've told you one, two, three, four, five, six thousand times\n",
    "\n",
    "[Chorus: Anne-Marie]\n",
    "Haven't I made it obvious? (Have I not made it obvious?)\n",
    "Haven't I made it clear? (I made it very clear)\n",
    "Want me to spell it out for you? (yeah)\n",
    "F-R-I-EN-D-S (I said F-R-I-EN-D-S)\n",
    "Haven't I made it obvious? (I made it very obvious)\n",
    "Haven't I made it clear? (I made it very clear)\n",
    "Want me to spell it out for you?\n",
    "F-R-I-EN-D-S\n",
    "F-R-I-EN-D-S\n",
    "\n",
    "[Outro: Anne-Marie]\n",
    "Ohhh-oh, ohhh-oh, ohhh, oh\n",
    "Ahhh-oh, ahhh-oh, ahh-oh'''"
   ]
  },
  {
   "cell_type": "code",
   "execution_count": 27,
   "metadata": {},
   "outputs": [],
   "source": [
    "def save_song(year, artist, song, genre, lyrics, filedir='data/', update=False):\n",
    "    if not update:\n",
    "        json_content = {\n",
    "            'year': year,\n",
    "            'artist': artist,\n",
    "            'song': song,\n",
    "            'genre': genre,\n",
    "            'lyrics': lyrics\n",
    "        }\n",
    "        song_file_app = song.replace(' ', '_')\n",
    "        with open(os.path.join(filedir, '{year}_{song}.json'.format(year=year, song=song_file_app)), 'w') as f:\n",
    "            json.dump(json_content, f)"
   ]
  },
  {
   "cell_type": "code",
   "execution_count": 34,
   "metadata": {},
   "outputs": [],
   "source": [
    "save_song(year, artist, song, genre, lyrics, filedir='data/', update=False)"
   ]
  },
  {
   "cell_type": "code",
   "execution_count": null,
   "metadata": {},
   "outputs": [],
   "source": []
  }
 ],
 "metadata": {
  "kernelspec": {
   "display_name": "Python 3",
   "language": "python",
   "name": "python3"
  },
  "language_info": {
   "codemirror_mode": {
    "name": "ipython",
    "version": 3
   },
   "file_extension": ".py",
   "mimetype": "text/x-python",
   "name": "python",
   "nbconvert_exporter": "python",
   "pygments_lexer": "ipython3",
   "version": "3.5.4"
  }
 },
 "nbformat": 4,
 "nbformat_minor": 2
}
