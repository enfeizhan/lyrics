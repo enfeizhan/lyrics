{
 "cells": [
  {
   "cell_type": "code",
   "execution_count": 2,
   "metadata": {},
   "outputs": [],
   "source": [
    "%matplotlib inline\n",
    "import importlib\n",
    "import numpy as np\n",
    "import pandas as pd\n",
    "import json\n",
    "import utils"
   ]
  },
  {
   "cell_type": "code",
   "execution_count": 3,
   "metadata": {},
   "outputs": [
    {
     "data": {
      "text/plain": [
       "<module 'utils' from '/home/fei/Documents/projects/lyrics/utils.py'>"
      ]
     },
     "execution_count": 3,
     "metadata": {},
     "output_type": "execute_result"
    }
   ],
   "source": [
    "importlib.reload(utils)"
   ]
  },
  {
   "cell_type": "code",
   "execution_count": 2,
   "metadata": {},
   "outputs": [],
   "source": [
    "dat = pd.read_csv('eng_songdata.csv', usecols=['text']).drop_duplicates()"
   ]
  },
  {
   "cell_type": "code",
   "execution_count": 3,
   "metadata": {},
   "outputs": [
    {
     "data": {
      "text/html": [
       "<div>\n",
       "<style scoped>\n",
       "    .dataframe tbody tr th:only-of-type {\n",
       "        vertical-align: middle;\n",
       "    }\n",
       "\n",
       "    .dataframe tbody tr th {\n",
       "        vertical-align: top;\n",
       "    }\n",
       "\n",
       "    .dataframe thead th {\n",
       "        text-align: right;\n",
       "    }\n",
       "</style>\n",
       "<table border=\"1\" class=\"dataframe\">\n",
       "  <thead>\n",
       "    <tr style=\"text-align: right;\">\n",
       "      <th></th>\n",
       "      <th>text</th>\n",
       "    </tr>\n",
       "  </thead>\n",
       "  <tbody>\n",
       "    <tr>\n",
       "      <th>0</th>\n",
       "      <td>Look at her face, it's a wonderful face  \\nAnd...</td>\n",
       "    </tr>\n",
       "    <tr>\n",
       "      <th>1</th>\n",
       "      <td>Take it easy with me, please  \\nTouch me gentl...</td>\n",
       "    </tr>\n",
       "    <tr>\n",
       "      <th>2</th>\n",
       "      <td>I'll never know why I had to go  \\nWhy I had t...</td>\n",
       "    </tr>\n",
       "    <tr>\n",
       "      <th>3</th>\n",
       "      <td>Making somebody happy is a question of give an...</td>\n",
       "    </tr>\n",
       "    <tr>\n",
       "      <th>4</th>\n",
       "      <td>Making somebody happy is a question of give an...</td>\n",
       "    </tr>\n",
       "  </tbody>\n",
       "</table>\n",
       "</div>"
      ],
      "text/plain": [
       "                                                text\n",
       "0  Look at her face, it's a wonderful face  \\nAnd...\n",
       "1  Take it easy with me, please  \\nTouch me gentl...\n",
       "2  I'll never know why I had to go  \\nWhy I had t...\n",
       "3  Making somebody happy is a question of give an...\n",
       "4  Making somebody happy is a question of give an..."
      ]
     },
     "execution_count": 3,
     "metadata": {},
     "output_type": "execute_result"
    }
   ],
   "source": [
    "dat.head()"
   ]
  },
  {
   "cell_type": "code",
   "execution_count": 5,
   "metadata": {},
   "outputs": [],
   "source": [
    "glove = pd.read_table('glove.6B.50d.txt', sep=' ', header=None, quoting=3, na_filter=False, index_col=0)"
   ]
  },
  {
   "cell_type": "code",
   "execution_count": 6,
   "metadata": {},
   "outputs": [],
   "source": [
    "# glove_words = set(glove.index.tolist())"
   ]
  },
  {
   "cell_type": "code",
   "execution_count": 6,
   "metadata": {},
   "outputs": [],
   "source": [
    "dat.loc[:, 'text'] += '(end)'"
   ]
  },
  {
   "cell_type": "code",
   "execution_count": 7,
   "metadata": {},
   "outputs": [],
   "source": [
    "cleaned = utils.data_cleaning(dat.copy())"
   ]
  },
  {
   "cell_type": "code",
   "execution_count": 8,
   "metadata": {},
   "outputs": [
    {
     "data": {
      "text/plain": [
       "0    [look, at, her, face, ,, it, 's, a, wonderful,...\n",
       "1    [take, it, easy, with, me, ,, please, \\n, touc...\n",
       "2    [i, 'll, never, know, why, i, had, to, go, \\n,...\n",
       "3    [making, somebody, happy, is, a, question, of,...\n",
       "4    [making, somebody, happy, is, a, question, of,...\n",
       "Name: text_list, dtype: object"
      ]
     },
     "execution_count": 8,
     "metadata": {},
     "output_type": "execute_result"
    }
   ],
   "source": [
    "cleaned.head()"
   ]
  },
  {
   "cell_type": "code",
   "execution_count": 11,
   "metadata": {},
   "outputs": [],
   "source": [
    "# try to remove non-english songs\n",
    "# n_eng = cleaned.apply(lambda x: len(set(x) & glove_words))"
   ]
  },
  {
   "cell_type": "code",
   "execution_count": 12,
   "metadata": {},
   "outputs": [],
   "source": [
    "#dat.loc[n_eng > 20].to_csv('eng_songdata.csv', index=False)"
   ]
  },
  {
   "cell_type": "code",
   "execution_count": 13,
   "metadata": {},
   "outputs": [],
   "source": [
    "cleaned_sets = cleaned.apply(set)"
   ]
  },
  {
   "cell_type": "code",
   "execution_count": 15,
   "metadata": {},
   "outputs": [],
   "source": [
    "vocab_size, unique_tokens = utils.get_unique_tokens(cleaned_sets)"
   ]
  },
  {
   "cell_type": "code",
   "execution_count": 16,
   "metadata": {},
   "outputs": [
    {
     "data": {
      "text/plain": [
       "81452"
      ]
     },
     "execution_count": 16,
     "metadata": {},
     "output_type": "execute_result"
    }
   ],
   "source": [
    "vocab_size"
   ]
  },
  {
   "cell_type": "code",
   "execution_count": 17,
   "metadata": {},
   "outputs": [
    {
     "data": {
      "text/plain": [
       "['\\n', '!', '\"', \"'\", \"'cause\"]"
      ]
     },
     "execution_count": 17,
     "metadata": {},
     "output_type": "execute_result"
    }
   ],
   "source": [
    "unique_tokens[:5]"
   ]
  },
  {
   "cell_type": "code",
   "execution_count": 30,
   "metadata": {},
   "outputs": [],
   "source": [
    "utils.save_unique_tokens(unique_tokens)"
   ]
  },
  {
   "cell_type": "code",
   "execution_count": 32,
   "metadata": {},
   "outputs": [],
   "source": [
    "word2ind, ind2word = utils.get_index_word_map(unique_tokens)"
   ]
  },
  {
   "cell_type": "code",
   "execution_count": 19,
   "metadata": {},
   "outputs": [],
   "source": [
    "word2ind, ind2word = utils.load_index_word_map()"
   ]
  },
  {
   "cell_type": "code",
   "execution_count": 34,
   "metadata": {},
   "outputs": [],
   "source": [
    "utils.save_index_word_map(word2ind, ind2word)"
   ]
  },
  {
   "cell_type": "code",
   "execution_count": 36,
   "metadata": {},
   "outputs": [],
   "source": [
    "emb = utils.create_emb(ind2word, glove)"
   ]
  },
  {
   "cell_type": "code",
   "execution_count": 38,
   "metadata": {},
   "outputs": [],
   "source": [
    "utils.save_embedding(emb)"
   ]
  },
  {
   "cell_type": "code",
   "execution_count": 21,
   "metadata": {},
   "outputs": [],
   "source": [
    "tokenised = utils.tokenise_cleaned_data(cleaned, word2ind)"
   ]
  },
  {
   "cell_type": "code",
   "execution_count": 22,
   "metadata": {},
   "outputs": [
    {
     "data": {
      "text/plain": [
       "0    [41434, 3741, 31893, 23851, 19, 36007, 12, 36,...\n",
       "1    [70486, 36007, 21300, 79589, 44029, 19, 54233,...\n",
       "2    [33764, 7, 48341, 38656, 79162, 33764, 30328, ...\n",
       "3    [42765, 66351, 30916, 35884, 36, 56819, 49792,...\n",
       "4    [42765, 66351, 30916, 35884, 36, 56819, 49792,...\n",
       "Name: text_list, dtype: object"
      ]
     },
     "execution_count": 22,
     "metadata": {},
     "output_type": "execute_result"
    }
   ],
   "source": [
    "tokenised.head()"
   ]
  },
  {
   "cell_type": "code",
   "execution_count": 25,
   "metadata": {},
   "outputs": [],
   "source": [
    "%%time\n",
    "samples = utils.make_training_samples(tokenised, input_length=20)"
   ]
  },
  {
   "cell_type": "code",
   "execution_count": 26,
   "metadata": {},
   "outputs": [
    {
     "data": {
      "text/plain": [
       "(15963818, 21)"
      ]
     },
     "execution_count": 26,
     "metadata": {},
     "output_type": "execute_result"
    }
   ],
   "source": [
    "samples.shape"
   ]
  },
  {
   "cell_type": "code",
   "execution_count": 27,
   "metadata": {},
   "outputs": [
    {
     "data": {
      "text/html": [
       "<div>\n",
       "<style scoped>\n",
       "    .dataframe tbody tr th:only-of-type {\n",
       "        vertical-align: middle;\n",
       "    }\n",
       "\n",
       "    .dataframe tbody tr th {\n",
       "        vertical-align: top;\n",
       "    }\n",
       "\n",
       "    .dataframe thead th {\n",
       "        text-align: right;\n",
       "    }\n",
       "</style>\n",
       "<table border=\"1\" class=\"dataframe\">\n",
       "  <thead>\n",
       "    <tr style=\"text-align: right;\">\n",
       "      <th></th>\n",
       "      <th>0</th>\n",
       "      <th>1</th>\n",
       "      <th>2</th>\n",
       "      <th>3</th>\n",
       "      <th>4</th>\n",
       "      <th>5</th>\n",
       "      <th>6</th>\n",
       "      <th>7</th>\n",
       "      <th>8</th>\n",
       "      <th>9</th>\n",
       "      <th>...</th>\n",
       "      <th>11</th>\n",
       "      <th>12</th>\n",
       "      <th>13</th>\n",
       "      <th>14</th>\n",
       "      <th>15</th>\n",
       "      <th>16</th>\n",
       "      <th>17</th>\n",
       "      <th>18</th>\n",
       "      <th>19</th>\n",
       "      <th>20</th>\n",
       "    </tr>\n",
       "  </thead>\n",
       "  <tbody>\n",
       "    <tr>\n",
       "      <th>0</th>\n",
       "      <td>41434</td>\n",
       "      <td>3741</td>\n",
       "      <td>31893</td>\n",
       "      <td>23851</td>\n",
       "      <td>19</td>\n",
       "      <td>36007</td>\n",
       "      <td>12</td>\n",
       "      <td>36</td>\n",
       "      <td>79788</td>\n",
       "      <td>23851</td>\n",
       "      <td>...</td>\n",
       "      <td>2348</td>\n",
       "      <td>36007</td>\n",
       "      <td>44070</td>\n",
       "      <td>66380</td>\n",
       "      <td>66904</td>\n",
       "      <td>72665</td>\n",
       "      <td>44029</td>\n",
       "      <td>0</td>\n",
       "      <td>41434</td>\n",
       "      <td>3741</td>\n",
       "    </tr>\n",
       "    <tr>\n",
       "      <th>1</th>\n",
       "      <td>3741</td>\n",
       "      <td>31893</td>\n",
       "      <td>23851</td>\n",
       "      <td>19</td>\n",
       "      <td>36007</td>\n",
       "      <td>12</td>\n",
       "      <td>36</td>\n",
       "      <td>79788</td>\n",
       "      <td>23851</td>\n",
       "      <td>0</td>\n",
       "      <td>...</td>\n",
       "      <td>36007</td>\n",
       "      <td>44070</td>\n",
       "      <td>66380</td>\n",
       "      <td>66904</td>\n",
       "      <td>72665</td>\n",
       "      <td>44029</td>\n",
       "      <td>0</td>\n",
       "      <td>41434</td>\n",
       "      <td>3741</td>\n",
       "      <td>71714</td>\n",
       "    </tr>\n",
       "    <tr>\n",
       "      <th>2</th>\n",
       "      <td>31893</td>\n",
       "      <td>23851</td>\n",
       "      <td>19</td>\n",
       "      <td>36007</td>\n",
       "      <td>12</td>\n",
       "      <td>36</td>\n",
       "      <td>79788</td>\n",
       "      <td>23851</td>\n",
       "      <td>0</td>\n",
       "      <td>2348</td>\n",
       "      <td>...</td>\n",
       "      <td>44070</td>\n",
       "      <td>66380</td>\n",
       "      <td>66904</td>\n",
       "      <td>72665</td>\n",
       "      <td>44029</td>\n",
       "      <td>0</td>\n",
       "      <td>41434</td>\n",
       "      <td>3741</td>\n",
       "      <td>71714</td>\n",
       "      <td>78316</td>\n",
       "    </tr>\n",
       "    <tr>\n",
       "      <th>3</th>\n",
       "      <td>23851</td>\n",
       "      <td>19</td>\n",
       "      <td>36007</td>\n",
       "      <td>12</td>\n",
       "      <td>36</td>\n",
       "      <td>79788</td>\n",
       "      <td>23851</td>\n",
       "      <td>0</td>\n",
       "      <td>2348</td>\n",
       "      <td>36007</td>\n",
       "      <td>...</td>\n",
       "      <td>66380</td>\n",
       "      <td>66904</td>\n",
       "      <td>72665</td>\n",
       "      <td>44029</td>\n",
       "      <td>0</td>\n",
       "      <td>41434</td>\n",
       "      <td>3741</td>\n",
       "      <td>71714</td>\n",
       "      <td>78316</td>\n",
       "      <td>71689</td>\n",
       "    </tr>\n",
       "    <tr>\n",
       "      <th>4</th>\n",
       "      <td>19</td>\n",
       "      <td>36007</td>\n",
       "      <td>12</td>\n",
       "      <td>36</td>\n",
       "      <td>79788</td>\n",
       "      <td>23851</td>\n",
       "      <td>0</td>\n",
       "      <td>2348</td>\n",
       "      <td>36007</td>\n",
       "      <td>44070</td>\n",
       "      <td>...</td>\n",
       "      <td>66904</td>\n",
       "      <td>72665</td>\n",
       "      <td>44029</td>\n",
       "      <td>0</td>\n",
       "      <td>41434</td>\n",
       "      <td>3741</td>\n",
       "      <td>71714</td>\n",
       "      <td>78316</td>\n",
       "      <td>71689</td>\n",
       "      <td>63594</td>\n",
       "    </tr>\n",
       "  </tbody>\n",
       "</table>\n",
       "<p>5 rows × 21 columns</p>\n",
       "</div>"
      ],
      "text/plain": [
       "      0      1      2      3      4      5      6      7      8      9   \\\n",
       "0  41434   3741  31893  23851     19  36007     12     36  79788  23851   \n",
       "1   3741  31893  23851     19  36007     12     36  79788  23851      0   \n",
       "2  31893  23851     19  36007     12     36  79788  23851      0   2348   \n",
       "3  23851     19  36007     12     36  79788  23851      0   2348  36007   \n",
       "4     19  36007     12     36  79788  23851      0   2348  36007  44070   \n",
       "\n",
       "   ...       11     12     13     14     15     16     17     18     19     20  \n",
       "0  ...     2348  36007  44070  66380  66904  72665  44029      0  41434   3741  \n",
       "1  ...    36007  44070  66380  66904  72665  44029      0  41434   3741  71714  \n",
       "2  ...    44070  66380  66904  72665  44029      0  41434   3741  71714  78316  \n",
       "3  ...    66380  66904  72665  44029      0  41434   3741  71714  78316  71689  \n",
       "4  ...    66904  72665  44029      0  41434   3741  71714  78316  71689  63594  \n",
       "\n",
       "[5 rows x 21 columns]"
      ]
     },
     "execution_count": 27,
     "metadata": {},
     "output_type": "execute_result"
    }
   ],
   "source": [
    "samples.head()"
   ]
  },
  {
   "cell_type": "code",
   "execution_count": 29,
   "metadata": {},
   "outputs": [],
   "source": [
    "utils.save_training_samples(samples)"
   ]
  },
  {
   "cell_type": "code",
   "execution_count": null,
   "metadata": {},
   "outputs": [],
   "source": []
  }
 ],
 "metadata": {
  "kernelspec": {
   "display_name": "Python 3",
   "language": "python",
   "name": "python3"
  },
  "language_info": {
   "codemirror_mode": {
    "name": "ipython",
    "version": 3
   },
   "file_extension": ".py",
   "mimetype": "text/x-python",
   "name": "python",
   "nbconvert_exporter": "python",
   "pygments_lexer": "ipython3",
   "version": "3.5.4"
  }
 },
 "nbformat": 4,
 "nbformat_minor": 2
}
