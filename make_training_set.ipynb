{
 "cells": [
  {
   "cell_type": "code",
   "execution_count": 20,
   "metadata": {},
   "outputs": [],
   "source": [
    "import numpy as np\n",
    "import pandas as pd"
   ]
  },
  {
   "cell_type": "code",
   "execution_count": 2,
   "metadata": {},
   "outputs": [],
   "source": [
    "dat = pd.read_csv('songdata.csv')"
   ]
  },
  {
   "cell_type": "code",
   "execution_count": 3,
   "metadata": {},
   "outputs": [
    {
     "data": {
      "text/html": [
       "<div>\n",
       "<style scoped>\n",
       "    .dataframe tbody tr th:only-of-type {\n",
       "        vertical-align: middle;\n",
       "    }\n",
       "\n",
       "    .dataframe tbody tr th {\n",
       "        vertical-align: top;\n",
       "    }\n",
       "\n",
       "    .dataframe thead th {\n",
       "        text-align: right;\n",
       "    }\n",
       "</style>\n",
       "<table border=\"1\" class=\"dataframe\">\n",
       "  <thead>\n",
       "    <tr style=\"text-align: right;\">\n",
       "      <th></th>\n",
       "      <th>artist</th>\n",
       "      <th>song</th>\n",
       "      <th>link</th>\n",
       "      <th>text</th>\n",
       "    </tr>\n",
       "  </thead>\n",
       "  <tbody>\n",
       "    <tr>\n",
       "      <th>0</th>\n",
       "      <td>ABBA</td>\n",
       "      <td>Ahe's My Kind Of Girl</td>\n",
       "      <td>/a/abba/ahes+my+kind+of+girl_20598417.html</td>\n",
       "      <td>Look at her face, it's a wonderful face  \\nAnd...</td>\n",
       "    </tr>\n",
       "    <tr>\n",
       "      <th>1</th>\n",
       "      <td>ABBA</td>\n",
       "      <td>Andante, Andante</td>\n",
       "      <td>/a/abba/andante+andante_20002708.html</td>\n",
       "      <td>Take it easy with me, please  \\nTouch me gentl...</td>\n",
       "    </tr>\n",
       "    <tr>\n",
       "      <th>2</th>\n",
       "      <td>ABBA</td>\n",
       "      <td>As Good As New</td>\n",
       "      <td>/a/abba/as+good+as+new_20003033.html</td>\n",
       "      <td>I'll never know why I had to go  \\nWhy I had t...</td>\n",
       "    </tr>\n",
       "    <tr>\n",
       "      <th>3</th>\n",
       "      <td>ABBA</td>\n",
       "      <td>Bang</td>\n",
       "      <td>/a/abba/bang_20598415.html</td>\n",
       "      <td>Making somebody happy is a question of give an...</td>\n",
       "    </tr>\n",
       "    <tr>\n",
       "      <th>4</th>\n",
       "      <td>ABBA</td>\n",
       "      <td>Bang-A-Boomerang</td>\n",
       "      <td>/a/abba/bang+a+boomerang_20002668.html</td>\n",
       "      <td>Making somebody happy is a question of give an...</td>\n",
       "    </tr>\n",
       "  </tbody>\n",
       "</table>\n",
       "</div>"
      ],
      "text/plain": [
       "  artist                   song                                        link  \\\n",
       "0   ABBA  Ahe's My Kind Of Girl  /a/abba/ahes+my+kind+of+girl_20598417.html   \n",
       "1   ABBA       Andante, Andante       /a/abba/andante+andante_20002708.html   \n",
       "2   ABBA         As Good As New        /a/abba/as+good+as+new_20003033.html   \n",
       "3   ABBA                   Bang                  /a/abba/bang_20598415.html   \n",
       "4   ABBA       Bang-A-Boomerang      /a/abba/bang+a+boomerang_20002668.html   \n",
       "\n",
       "                                                text  \n",
       "0  Look at her face, it's a wonderful face  \\nAnd...  \n",
       "1  Take it easy with me, please  \\nTouch me gentl...  \n",
       "2  I'll never know why I had to go  \\nWhy I had t...  \n",
       "3  Making somebody happy is a question of give an...  \n",
       "4  Making somebody happy is a question of give an...  "
      ]
     },
     "execution_count": 3,
     "metadata": {},
     "output_type": "execute_result"
    }
   ],
   "source": [
    "dat.head()"
   ]
  },
  {
   "cell_type": "code",
   "execution_count": 5,
   "metadata": {},
   "outputs": [
    {
     "data": {
      "text/plain": [
       "Index(['artist', 'song', 'link', 'text'], dtype='object')"
      ]
     },
     "execution_count": 5,
     "metadata": {},
     "output_type": "execute_result"
    }
   ],
   "source": [
    "dat.columns"
   ]
  },
  {
   "cell_type": "code",
   "execution_count": 6,
   "metadata": {},
   "outputs": [],
   "source": [
    "all_char = dat.text.sum()"
   ]
  },
  {
   "cell_type": "code",
   "execution_count": 8,
   "metadata": {},
   "outputs": [],
   "source": [
    "all_char_set = set(list(all_char))"
   ]
  },
  {
   "cell_type": "code",
   "execution_count": 9,
   "metadata": {},
   "outputs": [
    {
     "data": {
      "text/plain": [
       "{'\\n',\n",
       " ' ',\n",
       " '!',\n",
       " '\"',\n",
       " \"'\",\n",
       " '(',\n",
       " ')',\n",
       " ',',\n",
       " '-',\n",
       " '.',\n",
       " '0',\n",
       " '1',\n",
       " '2',\n",
       " '3',\n",
       " '4',\n",
       " '5',\n",
       " '6',\n",
       " '7',\n",
       " '8',\n",
       " '9',\n",
       " ':',\n",
       " '?',\n",
       " 'A',\n",
       " 'B',\n",
       " 'C',\n",
       " 'D',\n",
       " 'E',\n",
       " 'F',\n",
       " 'G',\n",
       " 'H',\n",
       " 'I',\n",
       " 'J',\n",
       " 'K',\n",
       " 'L',\n",
       " 'M',\n",
       " 'N',\n",
       " 'O',\n",
       " 'P',\n",
       " 'Q',\n",
       " 'R',\n",
       " 'S',\n",
       " 'T',\n",
       " 'U',\n",
       " 'V',\n",
       " 'W',\n",
       " 'X',\n",
       " 'Y',\n",
       " 'Z',\n",
       " '[',\n",
       " ']',\n",
       " 'a',\n",
       " 'b',\n",
       " 'c',\n",
       " 'd',\n",
       " 'e',\n",
       " 'f',\n",
       " 'g',\n",
       " 'h',\n",
       " 'i',\n",
       " 'j',\n",
       " 'k',\n",
       " 'l',\n",
       " 'm',\n",
       " 'n',\n",
       " 'o',\n",
       " 'p',\n",
       " 'q',\n",
       " 'r',\n",
       " 's',\n",
       " 't',\n",
       " 'u',\n",
       " 'v',\n",
       " 'w',\n",
       " 'x',\n",
       " 'y',\n",
       " 'z'}"
      ]
     },
     "execution_count": 9,
     "metadata": {},
     "output_type": "execute_result"
    }
   ],
   "source": [
    "all_char_set"
   ]
  },
  {
   "cell_type": "code",
   "execution_count": 4,
   "metadata": {},
   "outputs": [],
   "source": [
    "dat.loc[:, 'cleaned_text'] = dat.text.str.lower()"
   ]
  },
  {
   "cell_type": "code",
   "execution_count": 5,
   "metadata": {},
   "outputs": [],
   "source": [
    "dat.loc[:, 'cleaned_text'] = dat.cleaned_text.str.replace(r'[\\n!\"\\(\\),-.0-9:?\\[\\]]', lambda x: ' '+x.group(0)+' ')"
   ]
  },
  {
   "cell_type": "code",
   "execution_count": 6,
   "metadata": {},
   "outputs": [],
   "source": [
    "dat.loc[:, 'cleaned_text'] = dat.cleaned_text.str.replace(\"'\", \" '\")"
   ]
  },
  {
   "cell_type": "code",
   "execution_count": 7,
   "metadata": {},
   "outputs": [
    {
     "data": {
      "text/plain": [
       "0    look at her face ,  it 's a wonderful face   \\...\n",
       "1    take it easy with me ,  please   \\n touch me g...\n",
       "2    i 'll never know why i had to go   \\n why i ha...\n",
       "3    making somebody happy is a question of give an...\n",
       "4    making somebody happy is a question of give an...\n",
       "Name: cleaned_text, dtype: object"
      ]
     },
     "execution_count": 7,
     "metadata": {},
     "output_type": "execute_result"
    }
   ],
   "source": [
    "dat.iloc[:, 4].head()"
   ]
  },
  {
   "cell_type": "code",
   "execution_count": 8,
   "metadata": {},
   "outputs": [],
   "source": [
    "dat.loc[:, 'cleaned_text'] = dat.cleaned_text.str.replace(r' {2,}', ' ')"
   ]
  },
  {
   "cell_type": "code",
   "execution_count": 9,
   "metadata": {},
   "outputs": [
    {
     "data": {
      "text/plain": [
       "0    look at her face , it 's a wonderful face \\n a...\n",
       "1    take it easy with me , please \\n touch me gent...\n",
       "2    i 'll never know why i had to go \\n why i had ...\n",
       "3    making somebody happy is a question of give an...\n",
       "4    making somebody happy is a question of give an...\n",
       "Name: cleaned_text, dtype: object"
      ]
     },
     "execution_count": 9,
     "metadata": {},
     "output_type": "execute_result"
    }
   ],
   "source": [
    "dat.iloc[:, 4].head()"
   ]
  },
  {
   "cell_type": "code",
   "execution_count": 10,
   "metadata": {},
   "outputs": [],
   "source": [
    "dat.loc[:, 'text_list'] = dat.cleaned_text.str.split(' ')"
   ]
  },
  {
   "cell_type": "code",
   "execution_count": 11,
   "metadata": {},
   "outputs": [
    {
     "data": {
      "text/plain": [
       "0    [look, at, her, face, ,, it, 's, a, wonderful,...\n",
       "1    [take, it, easy, with, me, ,, please, \\n, touc...\n",
       "2    [i, 'll, never, know, why, i, had, to, go, \\n,...\n",
       "3    [making, somebody, happy, is, a, question, of,...\n",
       "4    [making, somebody, happy, is, a, question, of,...\n",
       "Name: text_list, dtype: object"
      ]
     },
     "execution_count": 11,
     "metadata": {},
     "output_type": "execute_result"
    }
   ],
   "source": [
    "dat.iloc[:, 5].head()"
   ]
  },
  {
   "cell_type": "code",
   "execution_count": 12,
   "metadata": {},
   "outputs": [],
   "source": [
    "input_length = 10"
   ]
  },
  {
   "cell_type": "code",
   "execution_count": 13,
   "metadata": {},
   "outputs": [],
   "source": [
    "def make_sample(text_list):\n",
    "    list_length = len(text_list)\n",
    "    res_list = []\n",
    "    for i in range(0, list_length-input_length):\n",
    "        res_list.append(text_list[i:i+input_length+1])\n",
    "    return res_list"
   ]
  },
  {
   "cell_type": "code",
   "execution_count": 14,
   "metadata": {},
   "outputs": [],
   "source": [
    "sample = dat.loc[:, 'text_list'].apply(make_sample)"
   ]
  },
  {
   "cell_type": "code",
   "execution_count": 15,
   "metadata": {},
   "outputs": [],
   "source": [
    "all_samples = pd.DataFrame(sample.sum())"
   ]
  },
  {
   "cell_type": "code",
   "execution_count": 16,
   "metadata": {},
   "outputs": [
    {
     "data": {
      "text/plain": [
       "16463624"
      ]
     },
     "execution_count": 16,
     "metadata": {},
     "output_type": "execute_result"
    }
   ],
   "source": [
    "len(all_samples)"
   ]
  },
  {
   "cell_type": "code",
   "execution_count": 17,
   "metadata": {},
   "outputs": [
    {
     "data": {
      "text/html": [
       "<div>\n",
       "<style scoped>\n",
       "    .dataframe tbody tr th:only-of-type {\n",
       "        vertical-align: middle;\n",
       "    }\n",
       "\n",
       "    .dataframe tbody tr th {\n",
       "        vertical-align: top;\n",
       "    }\n",
       "\n",
       "    .dataframe thead th {\n",
       "        text-align: right;\n",
       "    }\n",
       "</style>\n",
       "<table border=\"1\" class=\"dataframe\">\n",
       "  <thead>\n",
       "    <tr style=\"text-align: right;\">\n",
       "      <th></th>\n",
       "      <th>0</th>\n",
       "      <th>1</th>\n",
       "      <th>2</th>\n",
       "      <th>3</th>\n",
       "      <th>4</th>\n",
       "      <th>5</th>\n",
       "      <th>6</th>\n",
       "      <th>7</th>\n",
       "      <th>8</th>\n",
       "      <th>9</th>\n",
       "      <th>10</th>\n",
       "    </tr>\n",
       "  </thead>\n",
       "  <tbody>\n",
       "    <tr>\n",
       "      <th>0</th>\n",
       "      <td>look</td>\n",
       "      <td>at</td>\n",
       "      <td>her</td>\n",
       "      <td>face</td>\n",
       "      <td>,</td>\n",
       "      <td>it</td>\n",
       "      <td>'s</td>\n",
       "      <td>a</td>\n",
       "      <td>wonderful</td>\n",
       "      <td>face</td>\n",
       "      <td>\\n</td>\n",
       "    </tr>\n",
       "    <tr>\n",
       "      <th>1</th>\n",
       "      <td>at</td>\n",
       "      <td>her</td>\n",
       "      <td>face</td>\n",
       "      <td>,</td>\n",
       "      <td>it</td>\n",
       "      <td>'s</td>\n",
       "      <td>a</td>\n",
       "      <td>wonderful</td>\n",
       "      <td>face</td>\n",
       "      <td>\\n</td>\n",
       "      <td>and</td>\n",
       "    </tr>\n",
       "    <tr>\n",
       "      <th>2</th>\n",
       "      <td>her</td>\n",
       "      <td>face</td>\n",
       "      <td>,</td>\n",
       "      <td>it</td>\n",
       "      <td>'s</td>\n",
       "      <td>a</td>\n",
       "      <td>wonderful</td>\n",
       "      <td>face</td>\n",
       "      <td>\\n</td>\n",
       "      <td>and</td>\n",
       "      <td>it</td>\n",
       "    </tr>\n",
       "    <tr>\n",
       "      <th>3</th>\n",
       "      <td>face</td>\n",
       "      <td>,</td>\n",
       "      <td>it</td>\n",
       "      <td>'s</td>\n",
       "      <td>a</td>\n",
       "      <td>wonderful</td>\n",
       "      <td>face</td>\n",
       "      <td>\\n</td>\n",
       "      <td>and</td>\n",
       "      <td>it</td>\n",
       "      <td>means</td>\n",
       "    </tr>\n",
       "    <tr>\n",
       "      <th>4</th>\n",
       "      <td>,</td>\n",
       "      <td>it</td>\n",
       "      <td>'s</td>\n",
       "      <td>a</td>\n",
       "      <td>wonderful</td>\n",
       "      <td>face</td>\n",
       "      <td>\\n</td>\n",
       "      <td>and</td>\n",
       "      <td>it</td>\n",
       "      <td>means</td>\n",
       "      <td>something</td>\n",
       "    </tr>\n",
       "  </tbody>\n",
       "</table>\n",
       "</div>"
      ],
      "text/plain": [
       "     0     1     2     3          4          5          6          7   \\\n",
       "0  look    at   her  face          ,         it         's          a   \n",
       "1    at   her  face     ,         it         's          a  wonderful   \n",
       "2   her  face     ,    it         's          a  wonderful       face   \n",
       "3  face     ,    it    's          a  wonderful       face         \\n   \n",
       "4     ,    it    's     a  wonderful       face         \\n        and   \n",
       "\n",
       "          8      9          10  \n",
       "0  wonderful   face         \\n  \n",
       "1       face     \\n        and  \n",
       "2         \\n    and         it  \n",
       "3        and     it      means  \n",
       "4         it  means  something  "
      ]
     },
     "execution_count": 17,
     "metadata": {},
     "output_type": "execute_result"
    }
   ],
   "source": [
    "all_samples.head()"
   ]
  },
  {
   "cell_type": "code",
   "execution_count": 18,
   "metadata": {},
   "outputs": [],
   "source": [
    "all_samples.to_csv('train.dmp', sep='|', index=False)"
   ]
  },
  {
   "cell_type": "code",
   "execution_count": 25,
   "metadata": {},
   "outputs": [],
   "source": [
    "unique_tokens = []\n",
    "for i in range(input_length+1):\n",
    "    unique_tokens += all_samples.loc[:, i].unique().tolist()"
   ]
  },
  {
   "cell_type": "code",
   "execution_count": 34,
   "metadata": {},
   "outputs": [],
   "source": [
    "unique_tokens = pd.Series(np.unique(unique_tokens))"
   ]
  },
  {
   "cell_type": "code",
   "execution_count": 35,
   "metadata": {},
   "outputs": [],
   "source": [
    "unique_tokens.to_csv('unique_tokens.dmp', index=False, header=None)"
   ]
  },
  {
   "cell_type": "code",
   "execution_count": 36,
   "metadata": {},
   "outputs": [
    {
     "data": {
      "text/plain": [
       "0      \n",
       "1    \\n\n",
       "2     !\n",
       "3     \"\n",
       "4     '\n",
       "dtype: object"
      ]
     },
     "execution_count": 36,
     "metadata": {},
     "output_type": "execute_result"
    }
   ],
   "source": [
    "unique_tokens.head()"
   ]
  },
  {
   "cell_type": "code",
   "execution_count": 55,
   "metadata": {},
   "outputs": [
    {
     "data": {
      "text/plain": [
       "'The wheels on the bus go round and round  \\nRound and round, round and round  \\nThe wheels on the bus go round and round  \\nAll through the town.  \\n(Roll hands over each other)  \\n  \\nThe wipers on the bus go \"Swish, swish, swish,  \\nSwish, swish, swish, swish, swish, swish\"  \\nThe wipers on the bus go \"Swish, swish, swish\"  \\nAll through the town.  \\n(Put arms together in front of you and  \\n\\'swish\\' like windshield wipers)  \\n  \\nThe door on the bus goes open and shut  \\nOpen and shut, open and shut  \\nThe door on the bus goes open and shut  \\nAll through the town.  \\n(Cover eyes with hands on \\'shut\\' and  \\nUncover them on \\'open\\')  \\n  \\nThe horn on the bus goes \"Beep, beep, beep  \\nBeep, beep, beep, beep, beep, beep\"  \\nThe horn on the bus goes \"Beep, beep, beep\"  \\nAll through the town.  \\n(Pretend to honk horn)  \\n  \\nThe gas on the bus goes \"Glug, glug, glug  \\nGlug, glug, glug, glug, glug, glug\"  \\nThe gas on the bus goes \"Glug, glug, glug\"  \\nAll through the town.  \\n(Pretend to fill tank using pointer finger as gas nozzle)  \\n  \\nThe money on the bus goes \"Clink, clink, clink,  \\nClink, clink, clink, clink, clink, clink\"  \\nThe money on the bus goes \"Clink, clink, clink\"  \\nAll through the town.  \\n(Pretend to put money in cash box on bus)  \\n  \\nThe baby on the bus says, \"Wah, wah, wah!  \\nWah, wah, wah, wah, wah, wah! \"  \\nThe baby on the bus says, \"Wah, wah, wah!\"  \\nAll through the town.  \\n(Fisted hands in front of eyes  \\nAnd rub them like baby crying)  \\n  \\nThe people on the bus say, \"Shh, shh, shh,  \\nShh, shh, shh, shh, shh, shh\"  \\nThe people on the bus say, \"Shh, shh, shh\"  \\nAll through the town.  \\n(Put pointer finger to mouth to \\'shhh\\')  \\n  \\nThe mommy on the bus says, \"I love you,  \\nI love you, I love you\"  \\nThe daddy on the bus says, \"I love you, too\"  \\nAll through the town.  \\n(Point to self on \\'i\\',  \\nRight hand over heart on \\'love\\', and  \\nPoint to other on \\'you\\')\\n\\n'"
      ]
     },
     "execution_count": 55,
     "metadata": {},
     "output_type": "execute_result"
    }
   ],
   "source": [
    "dat.loc[dat.cleaned_text.str.contains(\"'love\"), 'text'].iloc[0]"
   ]
  },
  {
   "cell_type": "code",
   "execution_count": 52,
   "metadata": {},
   "outputs": [
    {
     "data": {
      "text/plain": [
       "0    False\n",
       "1    False\n",
       "2    False\n",
       "3    False\n",
       "4    False\n",
       "Name: cleaned_text, dtype: bool"
      ]
     },
     "execution_count": 52,
     "metadata": {},
     "output_type": "execute_result"
    }
   ],
   "source": [
    "dat.cleaned_text.str.contains(\"'love\").values"
   ]
  },
  {
   "cell_type": "code",
   "execution_count": 44,
   "metadata": {},
   "outputs": [
    {
     "data": {
      "text/html": [
       "<div>\n",
       "<style scoped>\n",
       "    .dataframe tbody tr th:only-of-type {\n",
       "        vertical-align: middle;\n",
       "    }\n",
       "\n",
       "    .dataframe tbody tr th {\n",
       "        vertical-align: top;\n",
       "    }\n",
       "\n",
       "    .dataframe thead th {\n",
       "        text-align: right;\n",
       "    }\n",
       "</style>\n",
       "<table border=\"1\" class=\"dataframe\">\n",
       "  <thead>\n",
       "    <tr style=\"text-align: right;\">\n",
       "      <th></th>\n",
       "      <th>artist</th>\n",
       "      <th>song</th>\n",
       "      <th>link</th>\n",
       "      <th>text</th>\n",
       "      <th>cleaned_text</th>\n",
       "      <th>text_list</th>\n",
       "    </tr>\n",
       "  </thead>\n",
       "  <tbody>\n",
       "    <tr>\n",
       "      <th>0</th>\n",
       "      <td>ABBA</td>\n",
       "      <td>Ahe's My Kind Of Girl</td>\n",
       "      <td>/a/abba/ahes+my+kind+of+girl_20598417.html</td>\n",
       "      <td>Look at her face, it's a wonderful face  \\nAnd...</td>\n",
       "      <td>look at her face , it 's a wonderful face \\n a...</td>\n",
       "      <td>[look, at, her, face, ,, it, 's, a, wonderful,...</td>\n",
       "    </tr>\n",
       "    <tr>\n",
       "      <th>1</th>\n",
       "      <td>ABBA</td>\n",
       "      <td>Andante, Andante</td>\n",
       "      <td>/a/abba/andante+andante_20002708.html</td>\n",
       "      <td>Take it easy with me, please  \\nTouch me gentl...</td>\n",
       "      <td>take it easy with me , please \\n touch me gent...</td>\n",
       "      <td>[take, it, easy, with, me, ,, please, \\n, touc...</td>\n",
       "    </tr>\n",
       "    <tr>\n",
       "      <th>2</th>\n",
       "      <td>ABBA</td>\n",
       "      <td>As Good As New</td>\n",
       "      <td>/a/abba/as+good+as+new_20003033.html</td>\n",
       "      <td>I'll never know why I had to go  \\nWhy I had t...</td>\n",
       "      <td>i 'll never know why i had to go \\n why i had ...</td>\n",
       "      <td>[i, 'll, never, know, why, i, had, to, go, \\n,...</td>\n",
       "    </tr>\n",
       "    <tr>\n",
       "      <th>3</th>\n",
       "      <td>ABBA</td>\n",
       "      <td>Bang</td>\n",
       "      <td>/a/abba/bang_20598415.html</td>\n",
       "      <td>Making somebody happy is a question of give an...</td>\n",
       "      <td>making somebody happy is a question of give an...</td>\n",
       "      <td>[making, somebody, happy, is, a, question, of,...</td>\n",
       "    </tr>\n",
       "    <tr>\n",
       "      <th>4</th>\n",
       "      <td>ABBA</td>\n",
       "      <td>Bang-A-Boomerang</td>\n",
       "      <td>/a/abba/bang+a+boomerang_20002668.html</td>\n",
       "      <td>Making somebody happy is a question of give an...</td>\n",
       "      <td>making somebody happy is a question of give an...</td>\n",
       "      <td>[making, somebody, happy, is, a, question, of,...</td>\n",
       "    </tr>\n",
       "  </tbody>\n",
       "</table>\n",
       "</div>"
      ],
      "text/plain": [
       "  artist                   song                                        link  \\\n",
       "0   ABBA  Ahe's My Kind Of Girl  /a/abba/ahes+my+kind+of+girl_20598417.html   \n",
       "1   ABBA       Andante, Andante       /a/abba/andante+andante_20002708.html   \n",
       "2   ABBA         As Good As New        /a/abba/as+good+as+new_20003033.html   \n",
       "3   ABBA                   Bang                  /a/abba/bang_20598415.html   \n",
       "4   ABBA       Bang-A-Boomerang      /a/abba/bang+a+boomerang_20002668.html   \n",
       "\n",
       "                                                text  \\\n",
       "0  Look at her face, it's a wonderful face  \\nAnd...   \n",
       "1  Take it easy with me, please  \\nTouch me gentl...   \n",
       "2  I'll never know why I had to go  \\nWhy I had t...   \n",
       "3  Making somebody happy is a question of give an...   \n",
       "4  Making somebody happy is a question of give an...   \n",
       "\n",
       "                                        cleaned_text  \\\n",
       "0  look at her face , it 's a wonderful face \\n a...   \n",
       "1  take it easy with me , please \\n touch me gent...   \n",
       "2  i 'll never know why i had to go \\n why i had ...   \n",
       "3  making somebody happy is a question of give an...   \n",
       "4  making somebody happy is a question of give an...   \n",
       "\n",
       "                                           text_list  \n",
       "0  [look, at, her, face, ,, it, 's, a, wonderful,...  \n",
       "1  [take, it, easy, with, me, ,, please, \\n, touc...  \n",
       "2  [i, 'll, never, know, why, i, had, to, go, \\n,...  \n",
       "3  [making, somebody, happy, is, a, question, of,...  \n",
       "4  [making, somebody, happy, is, a, question, of,...  "
      ]
     },
     "execution_count": 44,
     "metadata": {},
     "output_type": "execute_result"
    }
   ],
   "source": [
    "dat.head()"
   ]
  },
  {
   "cell_type": "code",
   "execution_count": 40,
   "metadata": {},
   "outputs": [
    {
     "data": {
      "text/plain": [
       "0                 \n",
       "1               \\n\n",
       "2                !\n",
       "3                \"\n",
       "4                '\n",
       "5               'a\n",
       "6             'aah\n",
       "7           'aamye\n",
       "8              'ab\n",
       "9             'aba\n",
       "10      'abandonne\n",
       "11         'abantu\n",
       "12          'abord\n",
       "13          'about\n",
       "14        'abraham\n",
       "15            'aby\n",
       "16       'accender\n",
       "17       'accepter\n",
       "18     'accompagne\n",
       "19         'accord\n",
       "20            'ach\n",
       "21         'achali\n",
       "22          'achar\n",
       "23        'achshav\n",
       "24            'act\n",
       "25             'ad\n",
       "26           'adam\n",
       "27        'adamdam\n",
       "28           'adeh\n",
       "29        'adenydd\n",
       "          ...     \n",
       "970          'litz\n",
       "971          'live\n",
       "972        'livery\n",
       "973      'lizabeth\n",
       "974            'll\n",
       "975          'llac\n",
       "976         'llacs\n",
       "977          'ller\n",
       "978          'llow\n",
       "979           'lls\n",
       "980       'llstand\n",
       "981           'lly\n",
       "982            'lo\n",
       "983          'lone\n",
       "984          'long\n",
       "985          'look\n",
       "986       'loololo\n",
       "987      'lopsided\n",
       "988          'lord\n",
       "989          'lost\n",
       "990         'lotsa\n",
       "991         'lotta\n",
       "992         'lotto\n",
       "993      'loughlin\n",
       "994       'loungin\n",
       "995          'love\n",
       "996         'lover\n",
       "997        'lovers\n",
       "998           'low\n",
       "999         'lowed\n",
       "Length: 1000, dtype: object"
      ]
     },
     "execution_count": 40,
     "metadata": {},
     "output_type": "execute_result"
    }
   ],
   "source": [
    "unique_tokens.head(1000)"
   ]
  },
  {
   "cell_type": "code",
   "execution_count": null,
   "metadata": {},
   "outputs": [],
   "source": []
  }
 ],
 "metadata": {
  "kernelspec": {
   "display_name": "Python 3",
   "language": "python",
   "name": "python3"
  },
  "language_info": {
   "codemirror_mode": {
    "name": "ipython",
    "version": 3
   },
   "file_extension": ".py",
   "mimetype": "text/x-python",
   "name": "python",
   "nbconvert_exporter": "python",
   "pygments_lexer": "ipython3",
   "version": "3.5.4"
  }
 },
 "nbformat": 4,
 "nbformat_minor": 2
}
