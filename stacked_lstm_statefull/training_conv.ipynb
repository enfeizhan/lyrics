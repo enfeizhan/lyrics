{
 "cells": [
  {
   "cell_type": "code",
   "execution_count": 1,
   "metadata": {},
   "outputs": [],
   "source": [
    "import importlib\n",
    "import numpy as np\n",
    "import pandas as pd\n",
    "import utils"
   ]
  },
  {
   "cell_type": "code",
   "execution_count": 2,
   "metadata": {},
   "outputs": [
    {
     "data": {
      "text/plain": [
       "<module 'utils' from '/home/fei/Documents/projects/lyrics/stacked_lstm_statefull/utils.py'>"
      ]
     },
     "execution_count": 2,
     "metadata": {},
     "output_type": "execute_result"
    }
   ],
   "source": [
    "importlib.reload(utils)"
   ]
  },
  {
   "cell_type": "code",
   "execution_count": 3,
   "metadata": {},
   "outputs": [
    {
     "name": "stderr",
     "output_type": "stream",
     "text": [
      "Using TensorFlow backend.\n"
     ]
    }
   ],
   "source": [
    "from keras.models import Sequential, load_model\n",
    "from keras.layers import Embedding, LSTM, Dense, Dropout, Flatten, Conv1D, MaxPooling1D, BatchNormalization, Bidirectional\n",
    "from keras.preprocessing.sequence import pad_sequences\n",
    "# from keras.optimizers import Adam"
   ]
  },
  {
   "cell_type": "code",
   "execution_count": 4,
   "metadata": {},
   "outputs": [],
   "source": [
    "word2ind, ind2word = utils.load_index_word_map()"
   ]
  },
  {
   "cell_type": "code",
   "execution_count": 5,
   "metadata": {},
   "outputs": [],
   "source": [
    "vocab_size = len(word2ind)"
   ]
  },
  {
   "cell_type": "code",
   "execution_count": 6,
   "metadata": {},
   "outputs": [],
   "source": [
    "batchs = pd.read_csv('data/batch_sizes.csv', index_col=0, header=None)"
   ]
  },
  {
   "cell_type": "code",
   "execution_count": 7,
   "metadata": {},
   "outputs": [
    {
     "data": {
      "text/plain": [
       "3128"
      ]
     },
     "execution_count": 7,
     "metadata": {},
     "output_type": "execute_result"
    }
   ],
   "source": [
    "lyrics_len = np.random.choice(batchs.index.tolist(), size=1)[0]\n",
    "lyrics_len"
   ]
  },
  {
   "cell_type": "code",
   "execution_count": 8,
   "metadata": {},
   "outputs": [],
   "source": [
    "dataset = pd.read_csv('data/train_{}.csv'.format(lyrics_len))"
   ]
  },
  {
   "cell_type": "code",
   "execution_count": 9,
   "metadata": {},
   "outputs": [
    {
     "data": {
      "text/html": [
       "<div>\n",
       "<style scoped>\n",
       "    .dataframe tbody tr th:only-of-type {\n",
       "        vertical-align: middle;\n",
       "    }\n",
       "\n",
       "    .dataframe tbody tr th {\n",
       "        vertical-align: top;\n",
       "    }\n",
       "\n",
       "    .dataframe thead th {\n",
       "        text-align: right;\n",
       "    }\n",
       "</style>\n",
       "<table border=\"1\" class=\"dataframe\">\n",
       "  <thead>\n",
       "    <tr style=\"text-align: right;\">\n",
       "      <th></th>\n",
       "      <th>0</th>\n",
       "      <th>1</th>\n",
       "      <th>2</th>\n",
       "      <th>3</th>\n",
       "      <th>4</th>\n",
       "      <th>5</th>\n",
       "      <th>6</th>\n",
       "      <th>7</th>\n",
       "      <th>8</th>\n",
       "      <th>9</th>\n",
       "      <th>...</th>\n",
       "      <th>291</th>\n",
       "      <th>292</th>\n",
       "      <th>293</th>\n",
       "      <th>294</th>\n",
       "      <th>295</th>\n",
       "      <th>296</th>\n",
       "      <th>297</th>\n",
       "      <th>298</th>\n",
       "      <th>299</th>\n",
       "      <th>300</th>\n",
       "    </tr>\n",
       "  </thead>\n",
       "  <tbody>\n",
       "    <tr>\n",
       "      <th>0</th>\n",
       "      <td>48</td>\n",
       "      <td>59</td>\n",
       "      <td>50</td>\n",
       "      <td>74</td>\n",
       "      <td>8</td>\n",
       "      <td>75</td>\n",
       "      <td>49</td>\n",
       "      <td>1</td>\n",
       "      <td>1</td>\n",
       "      <td>0</td>\n",
       "      <td>...</td>\n",
       "      <td>44</td>\n",
       "      <td>54</td>\n",
       "      <td>1</td>\n",
       "      <td>55</td>\n",
       "      <td>61</td>\n",
       "      <td>74</td>\n",
       "      <td>1</td>\n",
       "      <td>57</td>\n",
       "      <td>58</td>\n",
       "      <td>56</td>\n",
       "    </tr>\n",
       "    <tr>\n",
       "      <th>1</th>\n",
       "      <td>59</td>\n",
       "      <td>50</td>\n",
       "      <td>74</td>\n",
       "      <td>8</td>\n",
       "      <td>75</td>\n",
       "      <td>49</td>\n",
       "      <td>1</td>\n",
       "      <td>1</td>\n",
       "      <td>0</td>\n",
       "      <td>39</td>\n",
       "      <td>...</td>\n",
       "      <td>54</td>\n",
       "      <td>1</td>\n",
       "      <td>55</td>\n",
       "      <td>61</td>\n",
       "      <td>74</td>\n",
       "      <td>1</td>\n",
       "      <td>57</td>\n",
       "      <td>58</td>\n",
       "      <td>56</td>\n",
       "      <td>57</td>\n",
       "    </tr>\n",
       "    <tr>\n",
       "      <th>2</th>\n",
       "      <td>50</td>\n",
       "      <td>74</td>\n",
       "      <td>8</td>\n",
       "      <td>75</td>\n",
       "      <td>49</td>\n",
       "      <td>1</td>\n",
       "      <td>1</td>\n",
       "      <td>0</td>\n",
       "      <td>39</td>\n",
       "      <td>54</td>\n",
       "      <td>...</td>\n",
       "      <td>1</td>\n",
       "      <td>55</td>\n",
       "      <td>61</td>\n",
       "      <td>74</td>\n",
       "      <td>1</td>\n",
       "      <td>57</td>\n",
       "      <td>58</td>\n",
       "      <td>56</td>\n",
       "      <td>57</td>\n",
       "      <td>1</td>\n",
       "    </tr>\n",
       "    <tr>\n",
       "      <th>3</th>\n",
       "      <td>74</td>\n",
       "      <td>8</td>\n",
       "      <td>75</td>\n",
       "      <td>49</td>\n",
       "      <td>1</td>\n",
       "      <td>1</td>\n",
       "      <td>0</td>\n",
       "      <td>39</td>\n",
       "      <td>54</td>\n",
       "      <td>62</td>\n",
       "      <td>...</td>\n",
       "      <td>55</td>\n",
       "      <td>61</td>\n",
       "      <td>74</td>\n",
       "      <td>1</td>\n",
       "      <td>57</td>\n",
       "      <td>58</td>\n",
       "      <td>56</td>\n",
       "      <td>57</td>\n",
       "      <td>1</td>\n",
       "      <td>69</td>\n",
       "    </tr>\n",
       "    <tr>\n",
       "      <th>4</th>\n",
       "      <td>8</td>\n",
       "      <td>75</td>\n",
       "      <td>49</td>\n",
       "      <td>1</td>\n",
       "      <td>1</td>\n",
       "      <td>0</td>\n",
       "      <td>39</td>\n",
       "      <td>54</td>\n",
       "      <td>62</td>\n",
       "      <td>58</td>\n",
       "      <td>...</td>\n",
       "      <td>61</td>\n",
       "      <td>74</td>\n",
       "      <td>1</td>\n",
       "      <td>57</td>\n",
       "      <td>58</td>\n",
       "      <td>56</td>\n",
       "      <td>57</td>\n",
       "      <td>1</td>\n",
       "      <td>69</td>\n",
       "      <td>64</td>\n",
       "    </tr>\n",
       "  </tbody>\n",
       "</table>\n",
       "<p>5 rows × 301 columns</p>\n",
       "</div>"
      ],
      "text/plain": [
       "    0   1   2   3   4   5   6   7   8   9 ...   291  292  293  294  295  296  \\\n",
       "0  48  59  50  74   8  75  49   1   1   0 ...    44   54    1   55   61   74   \n",
       "1  59  50  74   8  75  49   1   1   0  39 ...    54    1   55   61   74    1   \n",
       "2  50  74   8  75  49   1   1   0  39  54 ...     1   55   61   74    1   57   \n",
       "3  74   8  75  49   1   1   0  39  54  62 ...    55   61   74    1   57   58   \n",
       "4   8  75  49   1   1   0  39  54  62  58 ...    61   74    1   57   58   56   \n",
       "\n",
       "   297  298  299  300  \n",
       "0    1   57   58   56  \n",
       "1   57   58   56   57  \n",
       "2   58   56   57    1  \n",
       "3   56   57    1   69  \n",
       "4   57    1   69   64  \n",
       "\n",
       "[5 rows x 301 columns]"
      ]
     },
     "execution_count": 9,
     "metadata": {},
     "output_type": "execute_result"
    }
   ],
   "source": [
    "dataset.head()"
   ]
  },
  {
   "cell_type": "code",
   "execution_count": 10,
   "metadata": {},
   "outputs": [
    {
     "data": {
      "text/plain": [
       "(2828, 301)"
      ]
     },
     "execution_count": 10,
     "metadata": {},
     "output_type": "execute_result"
    }
   ],
   "source": [
    "dataset.shape"
   ]
  },
  {
   "cell_type": "code",
   "execution_count": 11,
   "metadata": {},
   "outputs": [],
   "source": [
    "emb_dim = 128\n",
    "input_length = 300\n",
    "batch_size = batchs.loc[lyrics_len, 1]"
   ]
  },
  {
   "cell_type": "code",
   "execution_count": 12,
   "metadata": {},
   "outputs": [
    {
     "data": {
      "text/plain": [
       "1"
      ]
     },
     "execution_count": 12,
     "metadata": {},
     "output_type": "execute_result"
    }
   ],
   "source": [
    "batch_size"
   ]
  },
  {
   "cell_type": "code",
   "execution_count": 13,
   "metadata": {},
   "outputs": [],
   "source": [
    "model = Sequential()\n",
    "model.add(Embedding(input_dim=vocab_size, output_dim=emb_dim, input_length=input_length, batch_input_shape=(batch_size, input_length)))\n",
    "model.add(Conv1D(filters=256, kernel_size=4, padding='same', activation='relu'))\n",
    "model.add(MaxPooling1D(pool_size=2, padding='same'))\n",
    "model.add(Dropout(.2))\n",
    "model.add(Conv1D(filters=32, kernel_size=4, padding='same', activation='relu'))\n",
    "model.add(MaxPooling1D(pool_size=2, padding='same'))\n",
    "model.add(Bidirectional(LSTM(100, return_sequences=True, dropout=.2, recurrent_dropout=.2, stateful=True)))\n",
    "model.add(BatchNormalization())\n",
    "model.add(Bidirectional(LSTM(100, dropout=.2, recurrent_dropout=.2, stateful=True)))\n",
    "model.add(BatchNormalization())\n",
    "model.add(Dropout(.2))\n",
    "model.add(Dense(vocab_size, activation='softmax'))"
   ]
  },
  {
   "cell_type": "code",
   "execution_count": 14,
   "metadata": {},
   "outputs": [
    {
     "name": "stdout",
     "output_type": "stream",
     "text": [
      "_________________________________________________________________\n",
      "Layer (type)                 Output Shape              Param #   \n",
      "=================================================================\n",
      "embedding_1 (Embedding)      (1, 300, 128)             9728      \n",
      "_________________________________________________________________\n",
      "conv1d_1 (Conv1D)            (1, 300, 256)             131328    \n",
      "_________________________________________________________________\n",
      "max_pooling1d_1 (MaxPooling1 (1, 150, 256)             0         \n",
      "_________________________________________________________________\n",
      "dropout_1 (Dropout)          (1, 150, 256)             0         \n",
      "_________________________________________________________________\n",
      "conv1d_2 (Conv1D)            (1, 150, 32)              32800     \n",
      "_________________________________________________________________\n",
      "max_pooling1d_2 (MaxPooling1 (1, 75, 32)               0         \n",
      "_________________________________________________________________\n",
      "bidirectional_1 (Bidirection (1, 75, 200)              106400    \n",
      "_________________________________________________________________\n",
      "batch_normalization_1 (Batch (1, 75, 200)              800       \n",
      "_________________________________________________________________\n",
      "bidirectional_2 (Bidirection (1, 200)                  240800    \n",
      "_________________________________________________________________\n",
      "batch_normalization_2 (Batch (1, 200)                  800       \n",
      "_________________________________________________________________\n",
      "dropout_2 (Dropout)          (1, 200)                  0         \n",
      "_________________________________________________________________\n",
      "dense_1 (Dense)              (1, 76)                   15276     \n",
      "=================================================================\n",
      "Total params: 537,932\n",
      "Trainable params: 537,132\n",
      "Non-trainable params: 800\n",
      "_________________________________________________________________\n"
     ]
    }
   ],
   "source": [
    "model.summary()"
   ]
  },
  {
   "cell_type": "code",
   "execution_count": 15,
   "metadata": {},
   "outputs": [],
   "source": [
    "model.set_weights(load_model('model_300.h5').get_weights())"
   ]
  },
  {
   "cell_type": "code",
   "execution_count": 16,
   "metadata": {},
   "outputs": [],
   "source": [
    "model.compile(optimizer='adam', loss='sparse_categorical_crossentropy', metrics=['accuracy'])"
   ]
  },
  {
   "cell_type": "code",
   "execution_count": 17,
   "metadata": {},
   "outputs": [
    {
     "name": "stdout",
     "output_type": "stream",
     "text": [
      "0\n",
      "Epoch 1/1\n",
      "2828/2828 [==============================] - 502s - loss: 3.1099 - acc: 0.2281   \n",
      "1\n",
      "Epoch 1/1\n",
      "2828/2828 [==============================] - 501s - loss: 3.0599 - acc: 0.2281   \n",
      "2\n",
      "Epoch 1/1\n",
      "2828/2828 [==============================] - 500s - loss: 3.0599 - acc: 0.2281   \n",
      "3\n",
      "Epoch 1/1\n",
      "2828/2828 [==============================] - 499s - loss: 3.0561 - acc: 0.2281   \n",
      "4\n",
      "Epoch 1/1\n",
      "2828/2828 [==============================] - 498s - loss: 3.0534 - acc: 0.2281   \n"
     ]
    }
   ],
   "source": [
    "for _ in range(5):\n",
    "    print(_)\n",
    "    model.reset_states()\n",
    "    model_hist = model.fit(dataset.iloc[:, :-1].values, dataset.iloc[:, [-1]].values, epochs=1, batch_size=batch_size)\n",
    "    if model_hist.history['acc'][0] > .55: break"
   ]
  },
  {
   "cell_type": "code",
   "execution_count": 18,
   "metadata": {},
   "outputs": [],
   "source": [
    "# save model\n",
    "model.save('model_300.h5')"
   ]
  },
  {
   "cell_type": "code",
   "execution_count": 19,
   "metadata": {},
   "outputs": [],
   "source": [
    "pred_model = Sequential()\n",
    "pred_model.add(Embedding(input_dim=vocab_size, output_dim=emb_dim, input_length=input_length, batch_input_shape=(1, input_length)))\n",
    "pred_model.add(Conv1D(filters=256, kernel_size=4, padding='same', activation='relu'))\n",
    "pred_model.add(MaxPooling1D(pool_size=2, padding='same'))\n",
    "pred_model.add(Conv1D(filters=32, kernel_size=4, padding='same', activation='relu'))\n",
    "pred_model.add(MaxPooling1D(pool_size=2, padding='same'))\n",
    "pred_model.add(Bidirectional(LSTM(100, return_sequences=True, dropout=.2, recurrent_dropout=.2, stateful=True)))\n",
    "pred_model.add(BatchNormalization())\n",
    "pred_model.add(Bidirectional(LSTM(100, dropout=.2, recurrent_dropout=.2, stateful=True)))\n",
    "pred_model.add(BatchNormalization())\n",
    "pred_model.add(Dense(vocab_size, activation='softmax'))"
   ]
  },
  {
   "cell_type": "code",
   "execution_count": 20,
   "metadata": {},
   "outputs": [],
   "source": [
    "pred_model.set_weights(model.get_weights())"
   ]
  },
  {
   "cell_type": "code",
   "execution_count": 21,
   "metadata": {},
   "outputs": [],
   "source": [
    "def implement(seed_text, maxlen=100, must_stop=2000, n_likely=5):\n",
    "    cleaned = list(seed_text)\n",
    "    padded_input_tokens = utils.tokenise(word2ind, cleaned)\n",
    "    res_tokens = [token for token in padded_input_tokens]\n",
    "    pred_model.reset_states()\n",
    "    while must_stop > 0:\n",
    "        padded_input_tokens = pad_sequences([padded_input_tokens], maxlen=maxlen)\n",
    "        probs = pred_model.predict(padded_input_tokens, batch_size=1)[0]\n",
    "        first_n = np.argsort(probs)[-n_likely:]\n",
    "        probs = probs[first_n] / np.sum(probs[first_n])\n",
    "        predicted = np.random.choice(first_n, p=probs)\n",
    "        padded_input_tokens = padded_input_tokens[0].tolist()\n",
    "        padded_input_tokens.append(predicted)\n",
    "        res_tokens.append(predicted)\n",
    "        must_stop -= 1\n",
    "    detokenised = utils.detokenise(ind2word, res_tokens)\n",
    "    return ''.join(detokenised)"
   ]
  },
  {
   "cell_type": "code",
   "execution_count": 22,
   "metadata": {},
   "outputs": [],
   "source": [
    "res = implement('We are friends, good friends', 300, 800, 5)"
   ]
  },
  {
   "cell_type": "code",
   "execution_count": 23,
   "metadata": {},
   "outputs": [
    {
     "name": "stdout",
     "output_type": "stream",
     "text": [
      "We are friends, good friends\n",
      "Fux[Fre\n",
      "]\n",
      "\n",
      "q(exque...GaKquy)\n",
      "\n",
      "(end)))\n",
      "\n",
      "(end)\n",
      "(Free)\n",
      "\n",
      "(end)))\n",
      "\n",
      "(end)\n",
      "(Free)\n",
      "\n",
      "(end)\n",
      "(Free\n",
      "\n",
      "(end)\n",
      "(GeK\n",
      "\n",
      "que.\n",
      "\n",
      "(end)))\n",
      "\n",
      "(end)))\n",
      "\n",
      "(end)\n",
      "(Free)\n",
      "\n",
      "(end)\n",
      "(Free)\n",
      "\n",
      "(end)])\n",
      "\n",
      "(end)\n",
      "(Free)\n",
      "\n",
      "(end)\n",
      "(Free.\n",
      "\n",
      "(enK]\n",
      "(\n",
      "(GeKque'FneKque.......G]....\n",
      "\n",
      "(end)))\n",
      "\n",
      "(end)\n",
      "(Free.\n",
      "\n",
      "(end)\n",
      "((FreeKque'HL])\n",
      "(:KKque'Fne!\n",
      "\n",
      "(enx-juxK\n",
      "\n",
      "(enx)\n",
      "(Ge?\n",
      "\n",
      "(end)\n",
      "(GetKy)\n",
      "\n",
      "(enxFy)\n",
      "\n",
      "(end)))\n",
      "\n",
      "(end)\n",
      "(GeK]\n",
      "\n",
      "(enxFy)\n",
      "\n",
      "(enxFexK]\n",
      "\n",
      "(end)))\n",
      "\n",
      "(end)\n",
      "(Feelque's jux)\n",
      "\n",
      "(enK]\n",
      "\n",
      "(end)))\n",
      "\n",
      "(end)\n",
      "(\n",
      "FuxGixGe2Kque'Kque..\n",
      "\n",
      "(enK])\n",
      "\n",
      "(enx)\n",
      "(GeK]\n",
      "\n",
      "(enxD])\n",
      "\n",
      "(enx)))\n",
      "\n",
      "(end)\n",
      "(\n",
      "Goqued\n",
      "\n",
      "(end)\n",
      "(\n",
      "Goque.\n",
      "\n",
      "(end)\n",
      "(GeKque'FneKque........GoKKKKKKFKque!...\n",
      "\n",
      "(end)\n",
      "(GeK]\n",
      "\n",
      "(end)))\n",
      "\n",
      "(end)\n",
      "(\n",
      "FuxGe-2'FLe.)\n",
      "\n",
      "(enxFexFy)\n",
      "\n",
      "(end)\n",
      "(GeK\n",
      "\n",
      "(enxFexFy)]\n",
      "\n",
      "(enxFexK]\n",
      "\n",
      "(end)))\n",
      "\n",
      "(end)\n",
      "(GeK\n",
      "\n",
      "(enxLoK]\n",
      "\n",
      "(end)\n",
      "((Free 2]\n",
      "\n",
      "que!\n",
      "\n",
      "(end)\n",
      "(FelxK]\n",
      "\n",
      "(enx-juxK\n",
      "\n",
      "(enx:])\n",
      "\n",
      "(end)))\n",
      "\n",
      "(end)\n",
      "(GetKy\n",
      "\n",
      "(enx)\n",
      "(Ge?\n",
      "\n",
      "(enx)\n",
      "(\n",
      "(\n"
     ]
    }
   ],
   "source": [
    "print(res)"
   ]
  },
  {
   "cell_type": "code",
   "execution_count": null,
   "metadata": {},
   "outputs": [],
   "source": []
  }
 ],
 "metadata": {
  "kernelspec": {
   "display_name": "Python 3",
   "language": "python",
   "name": "python3"
  },
  "language_info": {
   "codemirror_mode": {
    "name": "ipython",
    "version": 3
   },
   "file_extension": ".py",
   "mimetype": "text/x-python",
   "name": "python",
   "nbconvert_exporter": "python",
   "pygments_lexer": "ipython3",
   "version": "3.5.4"
  }
 },
 "nbformat": 4,
 "nbformat_minor": 2
}
