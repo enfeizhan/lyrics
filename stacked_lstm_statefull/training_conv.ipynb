{
 "cells": [
  {
   "cell_type": "code",
   "execution_count": 1,
   "metadata": {},
   "outputs": [],
   "source": [
    "import importlib\n",
    "import numpy as np\n",
    "import pandas as pd\n",
    "import utils\n",
    "from glob import glob"
   ]
  },
  {
   "cell_type": "code",
   "execution_count": 2,
   "metadata": {},
   "outputs": [
    {
     "data": {
      "text/plain": [
       "<module 'utils' from '/home/fei/Documents/projects/lyrics/stacked_lstm_statefull/utils.py'>"
      ]
     },
     "execution_count": 2,
     "metadata": {},
     "output_type": "execute_result"
    }
   ],
   "source": [
    "importlib.reload(utils)"
   ]
  },
  {
   "cell_type": "code",
   "execution_count": 3,
   "metadata": {},
   "outputs": [
    {
     "name": "stderr",
     "output_type": "stream",
     "text": [
      "Using TensorFlow backend.\n"
     ]
    }
   ],
   "source": [
    "from keras.models import Sequential, load_model\n",
    "from keras.layers import Embedding, LSTM, Dense, Dropout, Flatten, Conv1D, MaxPooling1D, BatchNormalization, Bidirectional\n",
    "from keras.preprocessing.sequence import pad_sequences\n",
    "# from keras.optimizers import Adam"
   ]
  },
  {
   "cell_type": "code",
   "execution_count": 4,
   "metadata": {},
   "outputs": [],
   "source": [
    "word2ind, ind2word = utils.load_index_word_map()"
   ]
  },
  {
   "cell_type": "code",
   "execution_count": 5,
   "metadata": {},
   "outputs": [],
   "source": [
    "vocab_size = len(word2ind)"
   ]
  },
  {
   "cell_type": "code",
   "execution_count": 6,
   "metadata": {},
   "outputs": [
    {
     "data": {
      "text/plain": [
       "667"
      ]
     },
     "execution_count": 6,
     "metadata": {},
     "output_type": "execute_result"
    }
   ],
   "source": [
    "batch_size = 0\n",
    "\n",
    "while batch_size < 500:\n",
    "    train_filename = np.random.choice(glob('data/train_*.csv'), size=1)[0]\n",
    "    before_scan = pd.read_csv(train_filename)\n",
    "    batch_size = before_scan.shape[0]\n",
    "batch_size"
   ]
  },
  {
   "cell_type": "code",
   "execution_count": 7,
   "metadata": {},
   "outputs": [],
   "source": [
    "def scanning(array, input_length):\n",
    "    batches = []\n",
    "    text_length = array.shape[1]\n",
    "    for i in range(text_length-input_length):\n",
    "        batches.append(array[:, i:i+input_length+1])\n",
    "    return np.concatenate(batches)"
   ]
  },
  {
   "cell_type": "code",
   "execution_count": 8,
   "metadata": {},
   "outputs": [],
   "source": [
    "emb_dim = 128\n",
    "input_length = 300"
   ]
  },
  {
   "cell_type": "code",
   "execution_count": 9,
   "metadata": {},
   "outputs": [],
   "source": [
    "dataset = scanning(before_scan.values, input_length)"
   ]
  },
  {
   "cell_type": "code",
   "execution_count": 10,
   "metadata": {},
   "outputs": [
    {
     "data": {
      "text/plain": [
       "(411539, 301)"
      ]
     },
     "execution_count": 10,
     "metadata": {},
     "output_type": "execute_result"
    }
   ],
   "source": [
    "dataset.shape"
   ]
  },
  {
   "cell_type": "code",
   "execution_count": 11,
   "metadata": {},
   "outputs": [],
   "source": [
    "model = Sequential()\n",
    "model.add(Embedding(input_dim=vocab_size, output_dim=emb_dim, input_length=input_length, batch_input_shape=(batch_size, input_length)))\n",
    "model.add(Conv1D(filters=256, kernel_size=4, padding='same', activation='relu'))\n",
    "model.add(MaxPooling1D(pool_size=2, padding='same'))\n",
    "model.add(Dropout(.2))\n",
    "model.add(Conv1D(filters=32, kernel_size=4, padding='same', activation='relu'))\n",
    "model.add(MaxPooling1D(pool_size=2, padding='same'))\n",
    "model.add(Bidirectional(LSTM(100, return_sequences=True, dropout=.2, recurrent_dropout=.2, stateful=True)))\n",
    "model.add(BatchNormalization())\n",
    "model.add(Bidirectional(LSTM(100, dropout=.2, recurrent_dropout=.2, stateful=True)))\n",
    "model.add(BatchNormalization())\n",
    "model.add(Dropout(.2))\n",
    "model.add(Dense(vocab_size, activation='softmax'))"
   ]
  },
  {
   "cell_type": "code",
   "execution_count": 12,
   "metadata": {},
   "outputs": [
    {
     "name": "stdout",
     "output_type": "stream",
     "text": [
      "_________________________________________________________________\n",
      "Layer (type)                 Output Shape              Param #   \n",
      "=================================================================\n",
      "embedding_1 (Embedding)      (667, 300, 128)           12800     \n",
      "_________________________________________________________________\n",
      "conv1d_1 (Conv1D)            (667, 300, 256)           131328    \n",
      "_________________________________________________________________\n",
      "max_pooling1d_1 (MaxPooling1 (667, 150, 256)           0         \n",
      "_________________________________________________________________\n",
      "dropout_1 (Dropout)          (667, 150, 256)           0         \n",
      "_________________________________________________________________\n",
      "conv1d_2 (Conv1D)            (667, 150, 32)            32800     \n",
      "_________________________________________________________________\n",
      "max_pooling1d_2 (MaxPooling1 (667, 75, 32)             0         \n",
      "_________________________________________________________________\n",
      "bidirectional_1 (Bidirection (667, 75, 200)            106400    \n",
      "_________________________________________________________________\n",
      "batch_normalization_1 (Batch (667, 75, 200)            800       \n",
      "_________________________________________________________________\n",
      "bidirectional_2 (Bidirection (667, 200)                240800    \n",
      "_________________________________________________________________\n",
      "batch_normalization_2 (Batch (667, 200)                800       \n",
      "_________________________________________________________________\n",
      "dropout_2 (Dropout)          (667, 200)                0         \n",
      "_________________________________________________________________\n",
      "dense_1 (Dense)              (667, 100)                20100     \n",
      "=================================================================\n",
      "Total params: 545,828\n",
      "Trainable params: 545,028\n",
      "Non-trainable params: 800\n",
      "_________________________________________________________________\n"
     ]
    }
   ],
   "source": [
    "model.summary()"
   ]
  },
  {
   "cell_type": "code",
   "execution_count": 13,
   "metadata": {},
   "outputs": [],
   "source": [
    "model.set_weights(load_model('model_300.h5').get_weights())"
   ]
  },
  {
   "cell_type": "code",
   "execution_count": 14,
   "metadata": {},
   "outputs": [],
   "source": [
    "model.compile(optimizer='adam', loss='sparse_categorical_crossentropy', metrics=['accuracy'])"
   ]
  },
  {
   "cell_type": "code",
   "execution_count": 15,
   "metadata": {},
   "outputs": [
    {
     "name": "stdout",
     "output_type": "stream",
     "text": [
      "0\n",
      "Epoch 1/1\n",
      "411539/411539 [==============================] - 206s - loss: 1.8179 - acc: 0.4702   \n",
      "1\n",
      "Epoch 1/1\n",
      "411539/411539 [==============================] - 204s - loss: 1.7303 - acc: 0.4903   \n"
     ]
    }
   ],
   "source": [
    "for _ in range(2):\n",
    "    print(_)\n",
    "    model.reset_states()\n",
    "    model_hist = model.fit(dataset[:, :-1], dataset[:, [-1]], epochs=1, batch_size=batch_size)\n",
    "    if model_hist.history['acc'][0] > .55: break"
   ]
  },
  {
   "cell_type": "code",
   "execution_count": 16,
   "metadata": {},
   "outputs": [],
   "source": [
    "# save model\n",
    "model.save('model_300.h5')"
   ]
  },
  {
   "cell_type": "code",
   "execution_count": 17,
   "metadata": {},
   "outputs": [],
   "source": [
    "pred_model = Sequential()\n",
    "pred_model.add(Embedding(input_dim=vocab_size, output_dim=emb_dim, input_length=input_length, batch_input_shape=(1, input_length)))\n",
    "pred_model.add(Conv1D(filters=256, kernel_size=4, padding='same', activation='relu'))\n",
    "pred_model.add(MaxPooling1D(pool_size=2, padding='same'))\n",
    "pred_model.add(Conv1D(filters=32, kernel_size=4, padding='same', activation='relu'))\n",
    "pred_model.add(MaxPooling1D(pool_size=2, padding='same'))\n",
    "pred_model.add(Bidirectional(LSTM(100, return_sequences=True, dropout=.2, recurrent_dropout=.2, stateful=True)))\n",
    "pred_model.add(BatchNormalization())\n",
    "pred_model.add(Bidirectional(LSTM(100, dropout=.2, recurrent_dropout=.2, stateful=True)))\n",
    "pred_model.add(BatchNormalization())\n",
    "pred_model.add(Dense(vocab_size, activation='softmax'))"
   ]
  },
  {
   "cell_type": "code",
   "execution_count": 18,
   "metadata": {},
   "outputs": [],
   "source": [
    "pred_model.set_weights(model.get_weights())"
   ]
  },
  {
   "cell_type": "code",
   "execution_count": 19,
   "metadata": {},
   "outputs": [],
   "source": [
    "def implement(seed_text, maxlen=100, must_stop=2000, n_likely=5):\n",
    "    cleaned = list(seed_text)\n",
    "    padded_input_tokens = utils.tokenise(word2ind, cleaned)\n",
    "    res_tokens = [token for token in padded_input_tokens]\n",
    "    pred_model.reset_states()\n",
    "    while must_stop > 0:\n",
    "        padded_input_tokens = pad_sequences([padded_input_tokens], maxlen=maxlen)\n",
    "        probs = pred_model.predict(padded_input_tokens, batch_size=1)[0]\n",
    "        first_n = np.argsort(probs)[-n_likely:]\n",
    "        probs = probs[first_n] / np.sum(probs[first_n])\n",
    "        predicted = np.random.choice(first_n, p=probs)\n",
    "        padded_input_tokens = padded_input_tokens[0].tolist()\n",
    "        padded_input_tokens.append(predicted)\n",
    "        res_tokens.append(predicted)\n",
    "        must_stop -= 1\n",
    "    detokenised = utils.detokenise(ind2word, res_tokens)\n",
    "    return ''.join(detokenised)"
   ]
  },
  {
   "cell_type": "code",
   "execution_count": 20,
   "metadata": {},
   "outputs": [],
   "source": [
    "res = implement('We are friends, good friends', 300, 800, 2)"
   ]
  },
  {
   "cell_type": "code",
   "execution_count": 21,
   "metadata": {},
   "outputs": [
    {
     "name": "stdout",
     "output_type": "stream",
     "text": [
      "We are friends, good friends the world the sear\n",
      "I wanna so to the song\n",
      "I know I'm so the was the world of the was\n",
      "I can't loner in the song on the see\n",
      "And I can the see you\n",
      "I'm not in love in you\n",
      "I'm gonna word of my live\n",
      "And I know I'm never like the see you can't see\n",
      "And I like a see\n",
      "I know you can't let\n",
      "I can the wait a like the way it to love\n",
      "I know your set it\n",
      "It's the ways a pay it see\n",
      "I could star on\n",
      "The world tomora\n",
      "One mare\n",
      "I'm not in long in you\n",
      "I'm not in love in my long\n",
      "I gone  \n",
      "And I've got in the was the wait the world\n",
      "I kneus a sean the sear to\n",
      "I know\n",
      "The words on your soul the sean\n",
      "I've got to the would the wait\n",
      "I get in your somewe to like a sear to that's to love\n",
      "I'm not in love  \n",
      "I'm not in love it no love  \n",
      "I'm not in love in my love\n",
      "I'm not in love in you don't love in you\n",
      "I'm not in love you kno\n"
     ]
    }
   ],
   "source": [
    "print(res)"
   ]
  },
  {
   "cell_type": "code",
   "execution_count": null,
   "metadata": {},
   "outputs": [],
   "source": []
  }
 ],
 "metadata": {
  "kernelspec": {
   "display_name": "Python 3",
   "language": "python",
   "name": "python3"
  },
  "language_info": {
   "codemirror_mode": {
    "name": "ipython",
    "version": 3
   },
   "file_extension": ".py",
   "mimetype": "text/x-python",
   "name": "python",
   "nbconvert_exporter": "python",
   "pygments_lexer": "ipython3",
   "version": "3.5.4"
  }
 },
 "nbformat": 4,
 "nbformat_minor": 2
}
