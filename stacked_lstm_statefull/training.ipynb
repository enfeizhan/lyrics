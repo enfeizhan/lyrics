{
 "cells": [
  {
   "cell_type": "code",
   "execution_count": 2,
   "metadata": {},
   "outputs": [],
   "source": [
    "import importlib\n",
    "import numpy as np\n",
    "import pandas as pd\n",
    "import utils"
   ]
  },
  {
   "cell_type": "code",
   "execution_count": 3,
   "metadata": {},
   "outputs": [
    {
     "data": {
      "text/plain": [
       "<module 'utils' from '/home/fei/Documents/projects/lyrics/stacked_lstm_statefull/utils.py'>"
      ]
     },
     "execution_count": 3,
     "metadata": {},
     "output_type": "execute_result"
    }
   ],
   "source": [
    "importlib.reload(utils)"
   ]
  },
  {
   "cell_type": "code",
   "execution_count": 4,
   "metadata": {},
   "outputs": [
    {
     "name": "stderr",
     "output_type": "stream",
     "text": [
      "Using TensorFlow backend.\n"
     ]
    }
   ],
   "source": [
    "from keras.models import Sequential, load_model\n",
    "from keras.layers import Embedding, LSTM, Dense, Dropout, Flatten, Conv1D, MaxPooling1D, BatchNormalization, Bidirectional\n",
    "from keras.preprocessing.sequence import pad_sequences\n",
    "# from keras.optimizers import Adam"
   ]
  },
  {
   "cell_type": "code",
   "execution_count": 5,
   "metadata": {},
   "outputs": [],
   "source": [
    "word2ind, ind2word = utils.load_index_word_map()"
   ]
  },
  {
   "cell_type": "code",
   "execution_count": 6,
   "metadata": {},
   "outputs": [],
   "source": [
    "vocab_size = len(word2ind)"
   ]
  },
  {
   "cell_type": "code",
   "execution_count": 9,
   "metadata": {},
   "outputs": [],
   "source": [
    "dataset = pd.read_csv('data/train_1002.csv')"
   ]
  },
  {
   "cell_type": "code",
   "execution_count": 10,
   "metadata": {},
   "outputs": [
    {
     "data": {
      "text/html": [
       "<div>\n",
       "<style scoped>\n",
       "    .dataframe tbody tr th:only-of-type {\n",
       "        vertical-align: middle;\n",
       "    }\n",
       "\n",
       "    .dataframe tbody tr th {\n",
       "        vertical-align: top;\n",
       "    }\n",
       "\n",
       "    .dataframe thead th {\n",
       "        text-align: right;\n",
       "    }\n",
       "</style>\n",
       "<table border=\"1\" class=\"dataframe\">\n",
       "  <thead>\n",
       "    <tr style=\"text-align: right;\">\n",
       "      <th></th>\n",
       "      <th>0</th>\n",
       "      <th>1</th>\n",
       "      <th>2</th>\n",
       "      <th>3</th>\n",
       "      <th>4</th>\n",
       "      <th>5</th>\n",
       "      <th>6</th>\n",
       "      <th>7</th>\n",
       "      <th>8</th>\n",
       "      <th>9</th>\n",
       "      <th>...</th>\n",
       "      <th>91</th>\n",
       "      <th>92</th>\n",
       "      <th>93</th>\n",
       "      <th>94</th>\n",
       "      <th>95</th>\n",
       "      <th>96</th>\n",
       "      <th>97</th>\n",
       "      <th>98</th>\n",
       "      <th>99</th>\n",
       "      <th>100</th>\n",
       "    </tr>\n",
       "  </thead>\n",
       "  <tbody>\n",
       "    <tr>\n",
       "      <th>0</th>\n",
       "      <td>36</td>\n",
       "      <td>70</td>\n",
       "      <td>67</td>\n",
       "      <td>1</td>\n",
       "      <td>61</td>\n",
       "      <td>64</td>\n",
       "      <td>71</td>\n",
       "      <td>54</td>\n",
       "      <td>1</td>\n",
       "      <td>58</td>\n",
       "      <td>...</td>\n",
       "      <td>68</td>\n",
       "      <td>65</td>\n",
       "      <td>58</td>\n",
       "      <td>61</td>\n",
       "      <td>61</td>\n",
       "      <td>68</td>\n",
       "      <td>1</td>\n",
       "      <td>68</td>\n",
       "      <td>64</td>\n",
       "      <td>62</td>\n",
       "    </tr>\n",
       "    <tr>\n",
       "      <th>1</th>\n",
       "      <td>36</td>\n",
       "      <td>57</td>\n",
       "      <td>7</td>\n",
       "      <td>1</td>\n",
       "      <td>72</td>\n",
       "      <td>54</td>\n",
       "      <td>1</td>\n",
       "      <td>50</td>\n",
       "      <td>67</td>\n",
       "      <td>54</td>\n",
       "      <td>...</td>\n",
       "      <td>53</td>\n",
       "      <td>1</td>\n",
       "      <td>50</td>\n",
       "      <td>1</td>\n",
       "      <td>57</td>\n",
       "      <td>54</td>\n",
       "      <td>50</td>\n",
       "      <td>67</td>\n",
       "      <td>69</td>\n",
       "      <td>1</td>\n",
       "    </tr>\n",
       "    <tr>\n",
       "      <th>2</th>\n",
       "      <td>40</td>\n",
       "      <td>70</td>\n",
       "      <td>68</td>\n",
       "      <td>65</td>\n",
       "      <td>58</td>\n",
       "      <td>52</td>\n",
       "      <td>58</td>\n",
       "      <td>64</td>\n",
       "      <td>63</td>\n",
       "      <td>68</td>\n",
       "      <td>...</td>\n",
       "      <td>54</td>\n",
       "      <td>53</td>\n",
       "      <td>1</td>\n",
       "      <td>1</td>\n",
       "      <td>0</td>\n",
       "      <td>46</td>\n",
       "      <td>64</td>\n",
       "      <td>70</td>\n",
       "      <td>1</td>\n",
       "      <td>68</td>\n",
       "    </tr>\n",
       "    <tr>\n",
       "      <th>3</th>\n",
       "      <td>5</td>\n",
       "      <td>22</td>\n",
       "      <td>63</td>\n",
       "      <td>56</td>\n",
       "      <td>54</td>\n",
       "      <td>61</td>\n",
       "      <td>1</td>\n",
       "      <td>51</td>\n",
       "      <td>50</td>\n",
       "      <td>51</td>\n",
       "      <td>...</td>\n",
       "      <td>68</td>\n",
       "      <td>69</td>\n",
       "      <td>50</td>\n",
       "      <td>67</td>\n",
       "      <td>69</td>\n",
       "      <td>68</td>\n",
       "      <td>1</td>\n",
       "      <td>62</td>\n",
       "      <td>54</td>\n",
       "      <td>1</td>\n",
       "    </tr>\n",
       "    <tr>\n",
       "      <th>4</th>\n",
       "      <td>44</td>\n",
       "      <td>57</td>\n",
       "      <td>54</td>\n",
       "      <td>63</td>\n",
       "      <td>1</td>\n",
       "      <td>74</td>\n",
       "      <td>64</td>\n",
       "      <td>70</td>\n",
       "      <td>4</td>\n",
       "      <td>67</td>\n",
       "      <td>...</td>\n",
       "      <td>57</td>\n",
       "      <td>1</td>\n",
       "      <td>68</td>\n",
       "      <td>57</td>\n",
       "      <td>50</td>\n",
       "      <td>52</td>\n",
       "      <td>60</td>\n",
       "      <td>1</td>\n",
       "      <td>1</td>\n",
       "      <td>0</td>\n",
       "    </tr>\n",
       "  </tbody>\n",
       "</table>\n",
       "<p>5 rows × 101 columns</p>\n",
       "</div>"
      ],
      "text/plain": [
       "    0   1   2   3   4   5   6   7   8   9 ...   91  92  93  94  95  96  97  \\\n",
       "0  36  70  67   1  61  64  71  54   1  58 ...   68  65  58  61  61  68   1   \n",
       "1  36  57   7   1  72  54   1  50  67  54 ...   53   1  50   1  57  54  50   \n",
       "2  40  70  68  65  58  52  58  64  63  68 ...   54  53   1   1   0  46  64   \n",
       "3   5  22  63  56  54  61   1  51  50  51 ...   68  69  50  67  69  68   1   \n",
       "4  44  57  54  63   1  74  64  70   4  67 ...   57   1  68  57  50  52  60   \n",
       "\n",
       "   98  99  100  \n",
       "0  68  64   62  \n",
       "1  67  69    1  \n",
       "2  70   1   68  \n",
       "3  62  54    1  \n",
       "4   1   1    0  \n",
       "\n",
       "[5 rows x 101 columns]"
      ]
     },
     "execution_count": 10,
     "metadata": {},
     "output_type": "execute_result"
    }
   ],
   "source": [
    "dataset.head()"
   ]
  },
  {
   "cell_type": "code",
   "execution_count": 11,
   "metadata": {},
   "outputs": [
    {
     "data": {
      "text/plain": [
       "(49610, 101)"
      ]
     },
     "execution_count": 11,
     "metadata": {},
     "output_type": "execute_result"
    }
   ],
   "source": [
    "dataset.shape"
   ]
  },
  {
   "cell_type": "code",
   "execution_count": 12,
   "metadata": {},
   "outputs": [],
   "source": [
    "emb_dim = 100\n",
    "input_length = 100\n",
    "batch_size = 55"
   ]
  },
  {
   "cell_type": "code",
   "execution_count": 13,
   "metadata": {},
   "outputs": [],
   "source": [
    "model = Sequential()\n",
    "model.add(Embedding(input_dim=vocab_size, output_dim=emb_dim, input_length=input_length, batch_input_shape=(batch_size, input_length)))\n",
    "model.add(Conv1D(filters=256, kernel_size=4, padding='same', activation='relu'))\n",
    "model.add(MaxPooling1D(pool_size=2, padding='same'))\n",
    "model.add(Dropout(.2))\n",
    "model.add(Conv1D(filters=32, kernel_size=4, padding='same', activation='relu'))\n",
    "model.add(MaxPooling1D(pool_size=2, padding='same'))\n",
    "model.add(Bidirectional(LSTM(100, return_sequences=True, dropout=.2, recurrent_dropout=.2, stateful=True)))\n",
    "model.add(BatchNormalization())\n",
    "model.add(Bidirectional(LSTM(100, dropout=.2, recurrent_dropout=.2, stateful=True)))\n",
    "model.add(BatchNormalization())\n",
    "model.add(Dropout(.2))\n",
    "model.add(Dense(vocab_size, activation='softmax'))"
   ]
  },
  {
   "cell_type": "code",
   "execution_count": 14,
   "metadata": {},
   "outputs": [
    {
     "name": "stdout",
     "output_type": "stream",
     "text": [
      "_________________________________________________________________\n",
      "Layer (type)                 Output Shape              Param #   \n",
      "=================================================================\n",
      "embedding_1 (Embedding)      (55, 100, 100)            7600      \n",
      "_________________________________________________________________\n",
      "conv1d_1 (Conv1D)            (55, 100, 256)            102656    \n",
      "_________________________________________________________________\n",
      "max_pooling1d_1 (MaxPooling1 (55, 50, 256)             0         \n",
      "_________________________________________________________________\n",
      "dropout_1 (Dropout)          (55, 50, 256)             0         \n",
      "_________________________________________________________________\n",
      "conv1d_2 (Conv1D)            (55, 50, 32)              32800     \n",
      "_________________________________________________________________\n",
      "max_pooling1d_2 (MaxPooling1 (55, 25, 32)              0         \n",
      "_________________________________________________________________\n",
      "bidirectional_1 (Bidirection (55, 25, 200)             106400    \n",
      "_________________________________________________________________\n",
      "batch_normalization_1 (Batch (55, 25, 200)             800       \n",
      "_________________________________________________________________\n",
      "bidirectional_2 (Bidirection (55, 200)                 240800    \n",
      "_________________________________________________________________\n",
      "batch_normalization_2 (Batch (55, 200)                 800       \n",
      "_________________________________________________________________\n",
      "dropout_2 (Dropout)          (55, 200)                 0         \n",
      "_________________________________________________________________\n",
      "dense_1 (Dense)              (55, 76)                  15276     \n",
      "=================================================================\n",
      "Total params: 507,132\n",
      "Trainable params: 506,332\n",
      "Non-trainable params: 800\n",
      "_________________________________________________________________\n"
     ]
    }
   ],
   "source": [
    "model.summary()"
   ]
  },
  {
   "cell_type": "code",
   "execution_count": 15,
   "metadata": {},
   "outputs": [],
   "source": [
    "model.set_weights(load_model('model.h5').get_weights())"
   ]
  },
  {
   "cell_type": "code",
   "execution_count": 16,
   "metadata": {},
   "outputs": [],
   "source": [
    "model.compile(optimizer='adam', loss='sparse_categorical_crossentropy', metrics=['accuracy'])"
   ]
  },
  {
   "cell_type": "code",
   "execution_count": 17,
   "metadata": {},
   "outputs": [
    {
     "name": "stdout",
     "output_type": "stream",
     "text": [
      "Epoch 1/1\n",
      "49610/49610 [==============================] - 56s - loss: 1.7724 - acc: 0.5066    \n",
      "Epoch 1/1\n",
      "49610/49610 [==============================] - 53s - loss: 1.6192 - acc: 0.5350    \n",
      "Epoch 1/1\n",
      "49610/49610 [==============================] - 53s - loss: 1.5595 - acc: 0.5485    \n",
      "Epoch 1/1\n",
      "49610/49610 [==============================] - 53s - loss: 1.5126 - acc: 0.5582    \n",
      "Epoch 1/1\n",
      "49610/49610 [==============================] - 53s - loss: 1.4834 - acc: 0.5670    \n",
      "Epoch 1/1\n",
      "49610/49610 [==============================] - 53s - loss: 1.4512 - acc: 0.5741    \n",
      "Epoch 1/1\n",
      "49610/49610 [==============================] - 52s - loss: 1.4309 - acc: 0.5763    \n",
      "Epoch 1/1\n",
      "49610/49610 [==============================] - 53s - loss: 1.4031 - acc: 0.5851    \n",
      "Epoch 1/1\n",
      "49610/49610 [==============================] - 52s - loss: 1.3868 - acc: 0.5906    \n",
      "Epoch 1/1\n",
      "49610/49610 [==============================] - 52s - loss: 1.3596 - acc: 0.5979    \n",
      "Epoch 1/1\n",
      "49610/49610 [==============================] - 53s - loss: 1.3520 - acc: 0.5975    \n",
      "Epoch 1/1\n",
      "49610/49610 [==============================] - 53s - loss: 1.3310 - acc: 0.6051    \n",
      "Epoch 1/1\n",
      "49610/49610 [==============================] - 52s - loss: 1.3162 - acc: 0.6076    \n",
      "Epoch 1/1\n",
      "49610/49610 [==============================] - 54s - loss: 1.3036 - acc: 0.6128    \n",
      "Epoch 1/1\n",
      "49610/49610 [==============================] - 54s - loss: 1.2896 - acc: 0.6151    \n",
      "Epoch 1/1\n",
      "49610/49610 [==============================] - 54s - loss: 1.2752 - acc: 0.6201    \n",
      "Epoch 1/1\n",
      "49610/49610 [==============================] - 54s - loss: 1.2703 - acc: 0.6196    \n",
      "Epoch 1/1\n",
      "49610/49610 [==============================] - 52s - loss: 1.2601 - acc: 0.6210    \n",
      "Epoch 1/1\n",
      "49610/49610 [==============================] - 52s - loss: 1.2503 - acc: 0.6277    \n",
      "Epoch 1/1\n",
      "49610/49610 [==============================] - 51s - loss: 1.2350 - acc: 0.6307    \n",
      "Epoch 1/1\n",
      "49610/49610 [==============================] - 52s - loss: 1.2235 - acc: 0.6321    \n",
      "Epoch 1/1\n",
      "49610/49610 [==============================] - 52s - loss: 1.2170 - acc: 0.6344    \n",
      "Epoch 1/1\n",
      "49610/49610 [==============================] - 52s - loss: 1.2070 - acc: 0.6355    \n",
      "Epoch 1/1\n",
      "49610/49610 [==============================] - 52s - loss: 1.2019 - acc: 0.6402    \n",
      "Epoch 1/1\n",
      "49610/49610 [==============================] - 51s - loss: 1.1918 - acc: 0.6396    \n",
      "Epoch 1/1\n",
      "49610/49610 [==============================] - 51s - loss: 1.1829 - acc: 0.6438    \n",
      "Epoch 1/1\n",
      "49610/49610 [==============================] - 51s - loss: 1.1782 - acc: 0.6461    \n",
      "Epoch 1/1\n",
      "49610/49610 [==============================] - 51s - loss: 1.1660 - acc: 0.6478    \n",
      "Epoch 1/1\n",
      "49610/49610 [==============================] - 51s - loss: 1.1611 - acc: 0.6501    \n",
      "Epoch 1/1\n",
      "49610/49610 [==============================] - 52s - loss: 1.1533 - acc: 0.6528    \n",
      "Epoch 1/1\n",
      "49610/49610 [==============================] - 51s - loss: 1.1460 - acc: 0.6520    \n",
      "Epoch 1/1\n",
      "49610/49610 [==============================] - 51s - loss: 1.1392 - acc: 0.6564    \n",
      "Epoch 1/1\n",
      "49610/49610 [==============================] - 51s - loss: 1.1320 - acc: 0.6549    \n",
      "Epoch 1/1\n",
      "49610/49610 [==============================] - 51s - loss: 1.1265 - acc: 0.6577    \n",
      "Epoch 1/1\n",
      "49610/49610 [==============================] - 51s - loss: 1.1191 - acc: 0.6626    \n",
      "Epoch 1/1\n",
      "49610/49610 [==============================] - 51s - loss: 1.1183 - acc: 0.6600    \n",
      "Epoch 1/1\n",
      "49610/49610 [==============================] - 51s - loss: 1.1033 - acc: 0.6641    \n",
      "Epoch 1/1\n",
      "49610/49610 [==============================] - 51s - loss: 1.1072 - acc: 0.6636    \n",
      "Epoch 1/1\n",
      "49610/49610 [==============================] - 51s - loss: 1.0991 - acc: 0.6664    \n",
      "Epoch 1/1\n",
      "49610/49610 [==============================] - 51s - loss: 1.0904 - acc: 0.6682    \n",
      "Epoch 1/1\n",
      "49610/49610 [==============================] - 52s - loss: 1.0900 - acc: 0.6702    \n",
      "Epoch 1/1\n",
      "49610/49610 [==============================] - 52s - loss: 1.0864 - acc: 0.6707    \n",
      "Epoch 1/1\n",
      "49610/49610 [==============================] - 51s - loss: 1.0745 - acc: 0.6729    \n",
      "Epoch 1/1\n",
      "49610/49610 [==============================] - 51s - loss: 1.0714 - acc: 0.6743    \n",
      "Epoch 1/1\n",
      "49610/49610 [==============================] - 51s - loss: 1.0674 - acc: 0.6749    \n",
      "Epoch 1/1\n",
      "49610/49610 [==============================] - 52s - loss: 1.0692 - acc: 0.6730    \n",
      "Epoch 1/1\n",
      "49610/49610 [==============================] - 51s - loss: 1.0594 - acc: 0.6767    \n",
      "Epoch 1/1\n",
      "49610/49610 [==============================] - 51s - loss: 1.0578 - acc: 0.6768    \n",
      "Epoch 1/1\n",
      "49610/49610 [==============================] - 51s - loss: 1.0516 - acc: 0.6792    \n",
      "Epoch 1/1\n",
      "49610/49610 [==============================] - 51s - loss: 1.0514 - acc: 0.6781    \n"
     ]
    }
   ],
   "source": [
    "for _ in range(50):\n",
    "    model.reset_states()\n",
    "    model.fit(dataset.iloc[:, :100].values, dataset.iloc[:, [100]].values, epochs=1, batch_size=batch_size)"
   ]
  },
  {
   "cell_type": "code",
   "execution_count": 18,
   "metadata": {},
   "outputs": [],
   "source": [
    "# save model\n",
    "model.save('model.h5')"
   ]
  },
  {
   "cell_type": "code",
   "execution_count": 19,
   "metadata": {},
   "outputs": [],
   "source": [
    "pred_model = Sequential()\n",
    "pred_model.add(Embedding(input_dim=vocab_size, output_dim=emb_dim, input_length=input_length, batch_input_shape=(1, input_length)))\n",
    "pred_model.add(Conv1D(filters=256, kernel_size=4, padding='same', activation='relu'))\n",
    "pred_model.add(MaxPooling1D(pool_size=2, padding='same'))\n",
    "pred_model.add(Conv1D(filters=32, kernel_size=4, padding='same', activation='relu'))\n",
    "pred_model.add(MaxPooling1D(pool_size=2, padding='same'))\n",
    "pred_model.add(Bidirectional(LSTM(100, return_sequences=True, dropout=.2, recurrent_dropout=.2, stateful=True)))\n",
    "pred_model.add(BatchNormalization())\n",
    "pred_model.add(Bidirectional(LSTM(100, dropout=.2, recurrent_dropout=.2, stateful=True)))\n",
    "pred_model.add(BatchNormalization())\n",
    "pred_model.add(Dense(vocab_size, activation='softmax'))"
   ]
  },
  {
   "cell_type": "code",
   "execution_count": 20,
   "metadata": {},
   "outputs": [],
   "source": [
    "pred_model.set_weights(model.get_weights())"
   ]
  },
  {
   "cell_type": "code",
   "execution_count": 21,
   "metadata": {},
   "outputs": [],
   "source": [
    "def implement(seed_text, maxlen=100, must_stop=2000):\n",
    "    cleaned = list(seed_text)\n",
    "    padded_input_tokens = utils.tokenise(word2ind, cleaned)\n",
    "    res_tokens = [token for token in padded_input_tokens]\n",
    "    while must_stop > 0:\n",
    "        padded_input_tokens = pad_sequences([padded_input_tokens], maxlen=maxlen)\n",
    "        probs = pred_model.predict(padded_input_tokens, batch_size=1)[0]\n",
    "        first_n = np.argsort(probs)[-3:]\n",
    "        probs = probs[first_n] / np.sum(probs[first_n])\n",
    "        predicted = np.random.choice(first_n, p=probs)\n",
    "        padded_input_tokens = padded_input_tokens[0].tolist()\n",
    "        padded_input_tokens.append(predicted)\n",
    "        res_tokens.append(predicted)\n",
    "        must_stop -= 1\n",
    "    detokenised = utils.detokenise(ind2word, res_tokens)\n",
    "    return ''.join(detokenised)"
   ]
  },
  {
   "cell_type": "code",
   "execution_count": 22,
   "metadata": {},
   "outputs": [],
   "source": [
    "res = implement('We are friends, good friends', 100, 200)"
   ]
  },
  {
   "cell_type": "code",
   "execution_count": 23,
   "metadata": {},
   "outputs": [
    {
     "name": "stdout",
     "output_type": "stream",
     "text": [
      "We are friends, good friends,, some me and I mean a man, mach my,, can't pack to pack  \n",
      "I'm we loving and they long all the little the logs that you can  \n",
      "Happine in shadows got that there withing her shill  \n",
      "Angel baby, yeah  \n",
      "\n"
     ]
    }
   ],
   "source": [
    "print(res)"
   ]
  },
  {
   "cell_type": "code",
   "execution_count": null,
   "metadata": {},
   "outputs": [],
   "source": []
  }
 ],
 "metadata": {
  "kernelspec": {
   "display_name": "Python 3",
   "language": "python",
   "name": "python3"
  },
  "language_info": {
   "codemirror_mode": {
    "name": "ipython",
    "version": 3
   },
   "file_extension": ".py",
   "mimetype": "text/x-python",
   "name": "python",
   "nbconvert_exporter": "python",
   "pygments_lexer": "ipython3",
   "version": "3.5.4"
  }
 },
 "nbformat": 4,
 "nbformat_minor": 2
}
