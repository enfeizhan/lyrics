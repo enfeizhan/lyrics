{
 "cells": [
  {
   "cell_type": "code",
   "execution_count": 1,
   "metadata": {},
   "outputs": [],
   "source": [
    "import importlib\n",
    "import numpy as np\n",
    "import pandas as pd\n",
    "import utils"
   ]
  },
  {
   "cell_type": "code",
   "execution_count": 2,
   "metadata": {},
   "outputs": [
    {
     "data": {
      "text/plain": [
       "<module 'utils' from '/home/fei/Documents/projects/lyrics/stacked_lstm_statefull/utils.py'>"
      ]
     },
     "execution_count": 2,
     "metadata": {},
     "output_type": "execute_result"
    }
   ],
   "source": [
    "importlib.reload(utils)"
   ]
  },
  {
   "cell_type": "code",
   "execution_count": 3,
   "metadata": {},
   "outputs": [
    {
     "name": "stderr",
     "output_type": "stream",
     "text": [
      "Using TensorFlow backend.\n"
     ]
    }
   ],
   "source": [
    "from keras.models import Sequential, load_model\n",
    "from keras.layers import Embedding, LSTM, Dense, Dropout, Flatten, Conv1D, MaxPooling1D\n",
    "# from keras.optimizers import Adam"
   ]
  },
  {
   "cell_type": "code",
   "execution_count": 4,
   "metadata": {},
   "outputs": [
    {
     "ename": "FileNotFoundError",
     "evalue": "[Errno 2] No such file or directory: 'word2ind'",
     "output_type": "error",
     "traceback": [
      "\u001b[0;31m---------------------------------------------------------------------------\u001b[0m",
      "\u001b[0;31mFileNotFoundError\u001b[0m                         Traceback (most recent call last)",
      "\u001b[0;32m<ipython-input-4-fd0157dd342d>\u001b[0m in \u001b[0;36m<module>\u001b[0;34m()\u001b[0m\n\u001b[0;32m----> 1\u001b[0;31m \u001b[0mword2ind\u001b[0m\u001b[0;34m,\u001b[0m \u001b[0mind2word\u001b[0m \u001b[0;34m=\u001b[0m \u001b[0mutils\u001b[0m\u001b[0;34m.\u001b[0m\u001b[0mload_index_word_map\u001b[0m\u001b[0;34m(\u001b[0m\u001b[0;34m)\u001b[0m\u001b[0;34m\u001b[0m\u001b[0m\n\u001b[0m",
      "\u001b[0;32m~/Documents/projects/lyrics/stacked_lstm_statefull/utils.py\u001b[0m in \u001b[0;36mload_index_word_map\u001b[0;34m(word2ind_filename, ind2word_filename)\u001b[0m\n\u001b[1;32m     20\u001b[0m         \u001b[0mind2word_filename\u001b[0m\u001b[0;34m=\u001b[0m\u001b[0;34m'ind2word'\u001b[0m\u001b[0;34m\u001b[0m\u001b[0m\n\u001b[1;32m     21\u001b[0m         ):\n\u001b[0;32m---> 22\u001b[0;31m     \u001b[0mword2ind\u001b[0m \u001b[0;34m=\u001b[0m \u001b[0mload_dict\u001b[0m\u001b[0;34m(\u001b[0m\u001b[0mword2ind_filename\u001b[0m\u001b[0;34m)\u001b[0m\u001b[0;34m\u001b[0m\u001b[0m\n\u001b[0m\u001b[1;32m     23\u001b[0m     \u001b[0mind2word\u001b[0m \u001b[0;34m=\u001b[0m \u001b[0mload_dict\u001b[0m\u001b[0;34m(\u001b[0m\u001b[0mind2word_filename\u001b[0m\u001b[0;34m)\u001b[0m\u001b[0;34m\u001b[0m\u001b[0m\n\u001b[1;32m     24\u001b[0m     \u001b[0;32mreturn\u001b[0m \u001b[0mword2ind\u001b[0m\u001b[0;34m,\u001b[0m \u001b[0mind2word\u001b[0m\u001b[0;34m\u001b[0m\u001b[0m\n",
      "\u001b[0;32m~/Documents/projects/lyrics/stacked_lstm_statefull/utils.py\u001b[0m in \u001b[0;36mload_dict\u001b[0;34m(filename)\u001b[0m\n\u001b[1;32m     12\u001b[0m \u001b[0;34m\u001b[0m\u001b[0m\n\u001b[1;32m     13\u001b[0m \u001b[0;32mdef\u001b[0m \u001b[0mload_dict\u001b[0m\u001b[0;34m(\u001b[0m\u001b[0mfilename\u001b[0m\u001b[0;34m)\u001b[0m\u001b[0;34m:\u001b[0m\u001b[0;34m\u001b[0m\u001b[0m\n\u001b[0;32m---> 14\u001b[0;31m     \u001b[0;32mwith\u001b[0m \u001b[0mopen\u001b[0m\u001b[0;34m(\u001b[0m\u001b[0mfilename\u001b[0m\u001b[0;34m,\u001b[0m \u001b[0;34m'r'\u001b[0m\u001b[0;34m)\u001b[0m \u001b[0;32mas\u001b[0m \u001b[0mf\u001b[0m\u001b[0;34m:\u001b[0m\u001b[0;34m\u001b[0m\u001b[0m\n\u001b[0m\u001b[1;32m     15\u001b[0m         \u001b[0;32mreturn\u001b[0m \u001b[0mjson\u001b[0m\u001b[0;34m.\u001b[0m\u001b[0mload\u001b[0m\u001b[0;34m(\u001b[0m\u001b[0mf\u001b[0m\u001b[0;34m)\u001b[0m\u001b[0;34m\u001b[0m\u001b[0m\n\u001b[1;32m     16\u001b[0m \u001b[0;34m\u001b[0m\u001b[0m\n",
      "\u001b[0;31mFileNotFoundError\u001b[0m: [Errno 2] No such file or directory: 'word2ind'"
     ]
    }
   ],
   "source": [
    "word2ind, ind2word = utils.load_index_word_map()"
   ]
  },
  {
   "cell_type": "code",
   "execution_count": 6,
   "metadata": {},
   "outputs": [],
   "source": [
    "vocab_size = len(word2ind)"
   ]
  },
  {
   "cell_type": "code",
   "execution_count": 7,
   "metadata": {},
   "outputs": [],
   "source": [
    "dataset = utils.load_training_samples()"
   ]
  },
  {
   "cell_type": "code",
   "execution_count": 5,
   "metadata": {},
   "outputs": [],
   "source": [
    "vocab_size = 76\n",
    "emb_dim = 100\n",
    "input_length = 200\n",
    "batch_size = 64"
   ]
  },
  {
   "cell_type": "code",
   "execution_count": 6,
   "metadata": {},
   "outputs": [],
   "source": [
    "model = Sequential()\n",
    "model.add(Embedding(input_dim=vocab_size, output_dim=emb_dim, input_length=input_length, batch_input_shape=(batch_size, input_length)))\n",
    "model.add(Conv1D(filters=256, kernel_size=4, padding='same', activation='relu'))\n",
    "model.add(MaxPooling1D(pool_size=2, padding='same'))\n",
    "model.add(Dropout(.2))\n",
    "model.add(Conv1D(filters=32, kernel_size=4, padding='same', activation='relu'))\n",
    "model.add(MaxPooling1D(pool_size=2, padding='same'))\n",
    "model.add(LSTM(100, activation='relu', return_sequences=True, dropout=.2, recurrent_dropout=.2, stateful=True))\n",
    "model.add(LSTM(100, activation='relu', dropout=.2, recurrent_dropout=.2, stateful=True))\n",
    "model.add(Dropout(.2))\n",
    "model.add(Dense(vocab_size, activation='softmax'))"
   ]
  },
  {
   "cell_type": "code",
   "execution_count": 7,
   "metadata": {},
   "outputs": [
    {
     "name": "stdout",
     "output_type": "stream",
     "text": [
      "_________________________________________________________________\n",
      "Layer (type)                 Output Shape              Param #   \n",
      "=================================================================\n",
      "embedding_1 (Embedding)      (64, 200, 100)            7600      \n",
      "_________________________________________________________________\n",
      "conv1d_1 (Conv1D)            (64, 200, 256)            102656    \n",
      "_________________________________________________________________\n",
      "max_pooling1d_1 (MaxPooling1 (64, 100, 256)            0         \n",
      "_________________________________________________________________\n",
      "dropout_1 (Dropout)          (64, 100, 256)            0         \n",
      "_________________________________________________________________\n",
      "conv1d_2 (Conv1D)            (64, 100, 32)             32800     \n",
      "_________________________________________________________________\n",
      "max_pooling1d_2 (MaxPooling1 (64, 50, 32)              0         \n",
      "_________________________________________________________________\n",
      "lstm_1 (LSTM)                (64, 50, 100)             53200     \n",
      "_________________________________________________________________\n",
      "lstm_2 (LSTM)                (64, 100)                 80400     \n",
      "_________________________________________________________________\n",
      "dropout_2 (Dropout)          (64, 100)                 0         \n",
      "_________________________________________________________________\n",
      "dense_1 (Dense)              (64, 76)                  7676      \n",
      "=================================================================\n",
      "Total params: 284,332\n",
      "Trainable params: 284,332\n",
      "Non-trainable params: 0\n",
      "_________________________________________________________________\n"
     ]
    }
   ],
   "source": [
    "model.summary()"
   ]
  },
  {
   "cell_type": "code",
   "execution_count": 19,
   "metadata": {},
   "outputs": [],
   "source": [
    "model.compile(optimizer='adam', loss='sparse_categorical_crossentropy', metrics=['accuracy'])"
   ]
  },
  {
   "cell_type": "code",
   "execution_count": 18,
   "metadata": {},
   "outputs": [
    {
     "name": "stdout",
     "output_type": "stream",
     "text": [
      "Train on 7961414 samples, validate on 3412034 samples\n",
      "Epoch 1/4\n",
      "7961414/7961414 [==============================] - 1886s - loss: 4.0878 - acc: 0.2866 - val_loss: 3.9152 - val_acc: 0.3029\n",
      "Epoch 2/4\n",
      "7961414/7961414 [==============================] - 1871s - loss: 4.0669 - acc: 0.2886 - val_loss: 3.9094 - val_acc: 0.3049\n",
      "Epoch 3/4\n",
      "7961414/7961414 [==============================] - 1864s - loss: 4.0510 - acc: 0.2902 - val_loss: 3.9051 - val_acc: 0.3063\n",
      "Epoch 4/4\n",
      "7961414/7961414 [==============================] - 1860s - loss: 4.0371 - acc: 0.2915 - val_loss: 3.9041 - val_acc: 0.3078\n"
     ]
    },
    {
     "data": {
      "text/plain": [
       "<keras.callbacks.History at 0x7fe1ffa96dd8>"
      ]
     },
     "execution_count": 18,
     "metadata": {},
     "output_type": "execute_result"
    }
   ],
   "source": [
    "model.fit(train_x, train_y, validation_data=(val_x, val_y), epochs=4, batch_size=3000)"
   ]
  },
  {
   "cell_type": "code",
   "execution_count": 19,
   "metadata": {},
   "outputs": [],
   "source": [
    "# save model\n",
    "model.save('model20180127_4.h5')"
   ]
  },
  {
   "cell_type": "code",
   "execution_count": 23,
   "metadata": {},
   "outputs": [
    {
     "name": "stdout",
     "output_type": "stream",
     "text": [
      "Train on 7961414 samples, validate on 3412034 samples\n",
      "Epoch 1/5\n",
      "7961414/7961414 [==============================] - 1871s - loss: 4.2292 - acc: 0.2726 - val_loss: 4.0779 - val_acc: 0.2891\n",
      "Epoch 2/5\n",
      "7961414/7961414 [==============================] - 1878s - loss: 4.1750 - acc: 0.2778 - val_loss: 4.0438 - val_acc: 0.2924\n",
      "Epoch 3/5\n",
      "7961414/7961414 [==============================] - 1869s - loss: 4.1376 - acc: 0.2809 - val_loss: 4.0152 - val_acc: 0.2953\n",
      "Epoch 4/5\n",
      "7961414/7961414 [==============================] - 1883s - loss: 4.1090 - acc: 0.2835 - val_loss: 3.9963 - val_acc: 0.2978\n",
      "Epoch 5/5\n",
      "7961414/7961414 [==============================] - 1896s - loss: 4.0864 - acc: 0.2854 - val_loss: 3.9771 - val_acc: 0.2998\n"
     ]
    },
    {
     "data": {
      "text/plain": [
       "<keras.callbacks.History at 0x7f611bc14198>"
      ]
     },
     "execution_count": 23,
     "metadata": {},
     "output_type": "execute_result"
    }
   ],
   "source": [
    "model.fit(train_x, train_y, validation_data=(val_x, val_y), epochs=5, batch_size=3000)"
   ]
  },
  {
   "cell_type": "code",
   "execution_count": 24,
   "metadata": {},
   "outputs": [],
   "source": [
    "# save model\n",
    "model.save('model20180127_3.h5')"
   ]
  },
  {
   "cell_type": "code",
   "execution_count": 37,
   "metadata": {},
   "outputs": [
    {
     "name": "stdout",
     "output_type": "stream",
     "text": [
      "Train on 10972446 samples, validate on 4702476 samples\n",
      "Epoch 1/5\n",
      "10972446/10972446 [==============================] - 2129s - loss: 4.2568 - acc: 0.2670 - val_loss: 4.0676 - val_acc: 0.2876\n",
      "Epoch 2/5\n",
      "10972446/10972446 [==============================] - 2166s - loss: 4.2542 - acc: 0.2670 - val_loss: 4.0639 - val_acc: 0.2885\n",
      "Epoch 3/5\n",
      "10972446/10972446 [==============================] - 2154s - loss: 4.2525 - acc: 0.2671 - val_loss: 4.0619 - val_acc: 0.2886\n",
      "Epoch 4/5\n",
      "10972446/10972446 [==============================] - 2159s - loss: 4.2502 - acc: 0.2673 - val_loss: 4.0615 - val_acc: 0.2882\n",
      "Epoch 5/5\n",
      "10972446/10972446 [==============================] - 2160s - loss: 4.2483 - acc: 0.2673 - val_loss: 4.0613 - val_acc: 0.2884\n"
     ]
    },
    {
     "data": {
      "text/plain": [
       "<keras.callbacks.History at 0x7f385491a9b0>"
      ]
     },
     "execution_count": 37,
     "metadata": {},
     "output_type": "execute_result"
    }
   ],
   "source": [
    "model.fit(train_x, train_y, validation_data=(val_x, val_y), epochs=4, batch_size=3000)"
   ]
  },
  {
   "cell_type": "code",
   "execution_count": 38,
   "metadata": {},
   "outputs": [],
   "source": [
    "# save model\n",
    "model.save('model20180127_4.h5')"
   ]
  },
  {
   "cell_type": "code",
   "execution_count": null,
   "metadata": {},
   "outputs": [],
   "source": []
  }
 ],
 "metadata": {
  "kernelspec": {
   "display_name": "Python 3",
   "language": "python",
   "name": "python3"
  },
  "language_info": {
   "codemirror_mode": {
    "name": "ipython",
    "version": 3
   },
   "file_extension": ".py",
   "mimetype": "text/x-python",
   "name": "python",
   "nbconvert_exporter": "python",
   "pygments_lexer": "ipython3",
   "version": "3.5.4"
  }
 },
 "nbformat": 4,
 "nbformat_minor": 2
}
