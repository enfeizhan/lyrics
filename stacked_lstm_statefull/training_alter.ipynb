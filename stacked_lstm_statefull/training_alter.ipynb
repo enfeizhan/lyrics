{
 "cells": [
  {
   "cell_type": "code",
   "execution_count": 1,
   "metadata": {},
   "outputs": [],
   "source": [
    "import importlib\n",
    "from glob import glob\n",
    "import numpy as np\n",
    "import pandas as pd\n",
    "import utils"
   ]
  },
  {
   "cell_type": "code",
   "execution_count": 2,
   "metadata": {},
   "outputs": [
    {
     "data": {
      "text/plain": [
       "<module 'utils' from '/home/fei/Documents/projects/lyrics/stacked_lstm_statefull/utils.py'>"
      ]
     },
     "execution_count": 2,
     "metadata": {},
     "output_type": "execute_result"
    }
   ],
   "source": [
    "importlib.reload(utils)"
   ]
  },
  {
   "cell_type": "code",
   "execution_count": 3,
   "metadata": {},
   "outputs": [
    {
     "name": "stderr",
     "output_type": "stream",
     "text": [
      "Using TensorFlow backend.\n"
     ]
    }
   ],
   "source": [
    "from keras.models import Sequential, load_model\n",
    "from keras.layers import Embedding, LSTM, Dense, Dropout, Flatten, Conv1D, MaxPooling1D, BatchNormalization, Bidirectional\n",
    "from keras.preprocessing.sequence import pad_sequences\n",
    "# from keras.optimizers import Adam"
   ]
  },
  {
   "cell_type": "code",
   "execution_count": 4,
   "metadata": {},
   "outputs": [],
   "source": [
    "word2ind, ind2word = utils.load_index_word_map()"
   ]
  },
  {
   "cell_type": "code",
   "execution_count": 5,
   "metadata": {},
   "outputs": [],
   "source": [
    "vocab_size = len(word2ind)"
   ]
  },
  {
   "cell_type": "code",
   "execution_count": 6,
   "metadata": {},
   "outputs": [],
   "source": [
    "batch_size = 0\n",
    "\n",
    "while batch_size < 500:\n",
    "    train_filename = np.random.choice(glob('data/train_*.csv'), size=1)[0]\n",
    "    before_scan = pd.read_csv(train_filename)\n",
    "    batch_size = before_scan.shape[0]\n",
    "batch_size"
   ]
  },
  {
   "cell_type": "code",
   "execution_count": 8,
   "metadata": {},
   "outputs": [],
   "source": [
    "def scanning(array, input_length):\n",
    "    batches = []\n",
    "    text_length = array.shape[1]\n",
    "    for i in range(text_length-input_length):\n",
    "        batches.append(array[:, i:i+input_length+1])\n",
    "    return np.concatenate(batches)"
   ]
  },
  {
   "cell_type": "code",
   "execution_count": 9,
   "metadata": {},
   "outputs": [],
   "source": [
    "emb_dim = 128\n",
    "input_length = 300"
   ]
  },
  {
   "cell_type": "code",
   "execution_count": 10,
   "metadata": {},
   "outputs": [],
   "source": [
    "dataset = scanning(before_scan.values, input_length)"
   ]
  },
  {
   "cell_type": "code",
   "execution_count": 11,
   "metadata": {},
   "outputs": [
    {
     "data": {
      "text/plain": [
       "(347571, 301)"
      ]
     },
     "execution_count": 11,
     "metadata": {},
     "output_type": "execute_result"
    }
   ],
   "source": [
    "dataset.shape"
   ]
  },
  {
   "cell_type": "code",
   "execution_count": 12,
   "metadata": {},
   "outputs": [],
   "source": [
    "model = Sequential()\n",
    "model.add(Embedding(input_dim=vocab_size, output_dim=emb_dim, input_length=input_length, batch_input_shape=(batch_size, input_length)))\n",
    "model.add(Conv1D(filters=256, kernel_size=4, padding='same', activation='relu'))\n",
    "model.add(MaxPooling1D(pool_size=2, padding='same'))\n",
    "model.add(Dropout(.2))\n",
    "model.add(Bidirectional(LSTM(50, activation='softmax', return_sequences=True, dropout=.2, recurrent_dropout=.2, stateful=True)))\n",
    "model.add(BatchNormalization())\n",
    "model.add(Conv1D(filters=256, kernel_size=4, padding='same', activation='relu'))\n",
    "model.add(MaxPooling1D(pool_size=2, padding='same'))\n",
    "model.add(Dropout(.2))\n",
    "model.add(Bidirectional(LSTM(100, activation='softmax', dropout=.2, recurrent_dropout=.2, stateful=True)))\n",
    "model.add(BatchNormalization())\n",
    "model.add(Dropout(.2))\n",
    "model.add(Dense(vocab_size, activation='softmax'))"
   ]
  },
  {
   "cell_type": "code",
   "execution_count": 13,
   "metadata": {},
   "outputs": [
    {
     "name": "stdout",
     "output_type": "stream",
     "text": [
      "_________________________________________________________________\n",
      "Layer (type)                 Output Shape              Param #   \n",
      "=================================================================\n",
      "embedding_1 (Embedding)      (613, 300, 128)           12800     \n",
      "_________________________________________________________________\n",
      "conv1d_1 (Conv1D)            (613, 300, 256)           131328    \n",
      "_________________________________________________________________\n",
      "max_pooling1d_1 (MaxPooling1 (613, 150, 256)           0         \n",
      "_________________________________________________________________\n",
      "dropout_1 (Dropout)          (613, 150, 256)           0         \n",
      "_________________________________________________________________\n",
      "bidirectional_1 (Bidirection (613, 150, 100)           122800    \n",
      "_________________________________________________________________\n",
      "batch_normalization_1 (Batch (613, 150, 100)           400       \n",
      "_________________________________________________________________\n",
      "conv1d_2 (Conv1D)            (613, 150, 256)           102656    \n",
      "_________________________________________________________________\n",
      "max_pooling1d_2 (MaxPooling1 (613, 75, 256)            0         \n",
      "_________________________________________________________________\n",
      "dropout_2 (Dropout)          (613, 75, 256)            0         \n",
      "_________________________________________________________________\n",
      "bidirectional_2 (Bidirection (613, 200)                285600    \n",
      "_________________________________________________________________\n",
      "batch_normalization_2 (Batch (613, 200)                800       \n",
      "_________________________________________________________________\n",
      "dropout_3 (Dropout)          (613, 200)                0         \n",
      "_________________________________________________________________\n",
      "dense_1 (Dense)              (613, 100)                20100     \n",
      "=================================================================\n",
      "Total params: 676,484\n",
      "Trainable params: 675,884\n",
      "Non-trainable params: 600\n",
      "_________________________________________________________________\n"
     ]
    }
   ],
   "source": [
    "model.summary()"
   ]
  },
  {
   "cell_type": "code",
   "execution_count": 14,
   "metadata": {},
   "outputs": [],
   "source": [
    "model.set_weights(load_model('model_alter.h5').get_weights())"
   ]
  },
  {
   "cell_type": "code",
   "execution_count": 15,
   "metadata": {},
   "outputs": [],
   "source": [
    "model.compile(optimizer='adam', loss='sparse_categorical_crossentropy', metrics=['accuracy'])"
   ]
  },
  {
   "cell_type": "code",
   "execution_count": 16,
   "metadata": {},
   "outputs": [
    {
     "name": "stdout",
     "output_type": "stream",
     "text": [
      "0\n",
      "Epoch 1/1\n",
      "347571/347571 [==============================] - 276s - loss: 1.8291 - acc: 0.4638   \n",
      "1\n",
      "Epoch 1/1\n",
      "347571/347571 [==============================] - 274s - loss: 1.7730 - acc: 0.4753   \n"
     ]
    }
   ],
   "source": [
    "for _ in range(2):\n",
    "    print(_)\n",
    "    model.reset_states()\n",
    "    model_hist = model.fit(dataset[:, :-1], dataset[:, [-1]], epochs=1, batch_size=batch_size)\n",
    "    if model_hist.history['acc'][0] > .55: break"
   ]
  },
  {
   "cell_type": "code",
   "execution_count": 17,
   "metadata": {},
   "outputs": [],
   "source": [
    "# save model\n",
    "model.save('model_alter.h5')"
   ]
  },
  {
   "cell_type": "code",
   "execution_count": 18,
   "metadata": {},
   "outputs": [],
   "source": [
    "pred_model = Sequential()\n",
    "pred_model.add(Embedding(input_dim=vocab_size, output_dim=emb_dim, input_length=input_length, batch_input_shape=(1, input_length)))\n",
    "pred_model.add(Conv1D(filters=256, kernel_size=4, padding='same', activation='relu'))\n",
    "pred_model.add(MaxPooling1D(pool_size=2, padding='same'))\n",
    "pred_model.add(Dropout(.2))\n",
    "pred_model.add(Bidirectional(LSTM(50, activation='softmax', return_sequences=True, dropout=.2, recurrent_dropout=.2, stateful=True)))\n",
    "pred_model.add(BatchNormalization())\n",
    "pred_model.add(Conv1D(filters=256, kernel_size=4, padding='same', activation='relu'))\n",
    "pred_model.add(MaxPooling1D(pool_size=2, padding='same'))\n",
    "pred_model.add(Dropout(.2))\n",
    "pred_model.add(Bidirectional(LSTM(100, activation='softmax', dropout=.2, recurrent_dropout=.2, stateful=True)))\n",
    "pred_model.add(BatchNormalization())\n",
    "pred_model.add(Dropout(.2))\n",
    "pred_model.add(Dense(vocab_size, activation='softmax'))"
   ]
  },
  {
   "cell_type": "code",
   "execution_count": 19,
   "metadata": {},
   "outputs": [],
   "source": [
    "pred_model.set_weights(model.get_weights())"
   ]
  },
  {
   "cell_type": "code",
   "execution_count": 20,
   "metadata": {},
   "outputs": [],
   "source": [
    "def implement(seed_text, maxlen=100, must_stop=2000, n_likely=5):\n",
    "    cleaned = list(seed_text)\n",
    "    padded_input_tokens = utils.tokenise(word2ind, cleaned)\n",
    "    res_tokens = [token for token in padded_input_tokens]\n",
    "    pred_model.reset_states()\n",
    "    while must_stop > 0:\n",
    "        padded_input_tokens = pad_sequences([padded_input_tokens], maxlen=maxlen)\n",
    "        probs = pred_model.predict(padded_input_tokens, batch_size=1)[0]\n",
    "        first_n = np.argsort(probs)[-n_likely:]\n",
    "        probs = probs[first_n] / np.sum(probs[first_n])\n",
    "        predicted = np.random.choice(first_n, p=probs)\n",
    "        padded_input_tokens = padded_input_tokens[0].tolist()\n",
    "        padded_input_tokens.append(predicted)\n",
    "        res_tokens.append(predicted)\n",
    "        must_stop -= 1\n",
    "    detokenised = utils.detokenise(ind2word, res_tokens)\n",
    "    return ''.join(detokenised)"
   ]
  },
  {
   "cell_type": "code",
   "execution_count": 21,
   "metadata": {},
   "outputs": [],
   "source": [
    "res = implement('We are friends, good friends', 300, 600, 2)"
   ]
  },
  {
   "cell_type": "code",
   "execution_count": 23,
   "metadata": {},
   "outputs": [
    {
     "name": "stdout",
     "output_type": "stream",
     "text": [
      "We are friends, good friends\r",
      "t    rEO-EE\r",
      " lolllllloolrlrIroooolololloolo-oroorrrrrrorolrorrr\n",
      "o\n",
      "roorloolrooloollooolollolollolroo-r-o-roo-roooolrlooorooorror OOr OIo\n",
      "EIIIrIrrIEI\n",
      "IEEEIEEEEEEIIIrrEEI\n",
      "EIIIrIIIIIIrEIEIIrIIIEEEIIErEIEIEEIEIIIrIIIEIEEIIIIIEIEIEIIrEEIEIIIrEEEIIEEIIIIEEIIIIIIrIIIIIIIIIIIIIIIIIEEIEIEIIIIIIEIIIEIIIIEIIEIEIIIIIIIIEIIEIIIIIIIIEIIIEIIEEIEEIEIEEIEIEEEUEEENENNEEEENEEEEEENENEEEEPEEEEPEPPEEPE\n",
      "PPQPEPEEQPPPEPP\n",
      "QPPPPPPPE\n",
      "PQPQPQQQPQQPPQQQPPQQQPPQPQPPQQQPQQQQQQPPPQQQPQQQQN           )   )           )  )          )          ))         )        )))       )    )  )      )  )   )  )   )    )        )              \n"
     ]
    }
   ],
   "source": [
    "print(res)"
   ]
  },
  {
   "cell_type": "code",
   "execution_count": null,
   "metadata": {},
   "outputs": [],
   "source": []
  }
 ],
 "metadata": {
  "kernelspec": {
   "display_name": "Python 3",
   "language": "python",
   "name": "python3"
  },
  "language_info": {
   "codemirror_mode": {
    "name": "ipython",
    "version": 3
   },
   "file_extension": ".py",
   "mimetype": "text/x-python",
   "name": "python",
   "nbconvert_exporter": "python",
   "pygments_lexer": "ipython3",
   "version": "3.5.4"
  }
 },
 "nbformat": 4,
 "nbformat_minor": 2
}
