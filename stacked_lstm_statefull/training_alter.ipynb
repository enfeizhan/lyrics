{
 "cells": [
  {
   "cell_type": "code",
   "execution_count": 1,
   "metadata": {},
   "outputs": [],
   "source": [
    "import importlib\n",
    "import numpy as np\n",
    "import pandas as pd\n",
    "import utils"
   ]
  },
  {
   "cell_type": "code",
   "execution_count": 2,
   "metadata": {},
   "outputs": [
    {
     "data": {
      "text/plain": [
       "<module 'utils' from '/home/fei/Documents/projects/lyrics/stacked_lstm_statefull/utils.py'>"
      ]
     },
     "execution_count": 2,
     "metadata": {},
     "output_type": "execute_result"
    }
   ],
   "source": [
    "importlib.reload(utils)"
   ]
  },
  {
   "cell_type": "code",
   "execution_count": 3,
   "metadata": {},
   "outputs": [
    {
     "name": "stderr",
     "output_type": "stream",
     "text": [
      "Using TensorFlow backend.\n"
     ]
    }
   ],
   "source": [
    "from keras.models import Sequential, load_model\n",
    "from keras.layers import Embedding, LSTM, Dense, Dropout, Flatten, Conv1D, MaxPooling1D, BatchNormalization, Bidirectional\n",
    "from keras.preprocessing.sequence import pad_sequences\n",
    "# from keras.optimizers import Adam"
   ]
  },
  {
   "cell_type": "code",
   "execution_count": 4,
   "metadata": {},
   "outputs": [],
   "source": [
    "word2ind, ind2word = utils.load_index_word_map()"
   ]
  },
  {
   "cell_type": "code",
   "execution_count": 5,
   "metadata": {},
   "outputs": [],
   "source": [
    "vocab_size = len(word2ind)"
   ]
  },
  {
   "cell_type": "code",
   "execution_count": 6,
   "metadata": {},
   "outputs": [],
   "source": [
    "batchs = pd.read_csv('data/batch_sizes.csv', index_col=0, header=None)"
   ]
  },
  {
   "cell_type": "code",
   "execution_count": 14,
   "metadata": {},
   "outputs": [
    {
     "data": {
      "text/plain": [
       "542"
      ]
     },
     "execution_count": 14,
     "metadata": {},
     "output_type": "execute_result"
    }
   ],
   "source": [
    "lyrics_len = np.random.choice(batchs.index.tolist(), size=1)[0]\n",
    "lyrics_len"
   ]
  },
  {
   "cell_type": "code",
   "execution_count": 15,
   "metadata": {},
   "outputs": [],
   "source": [
    "dataset = pd.read_csv('data/train_{}.csv'.format(lyrics_len))"
   ]
  },
  {
   "cell_type": "code",
   "execution_count": 16,
   "metadata": {},
   "outputs": [
    {
     "data": {
      "text/html": [
       "<div>\n",
       "<style scoped>\n",
       "    .dataframe tbody tr th:only-of-type {\n",
       "        vertical-align: middle;\n",
       "    }\n",
       "\n",
       "    .dataframe tbody tr th {\n",
       "        vertical-align: top;\n",
       "    }\n",
       "\n",
       "    .dataframe thead th {\n",
       "        text-align: right;\n",
       "    }\n",
       "</style>\n",
       "<table border=\"1\" class=\"dataframe\">\n",
       "  <thead>\n",
       "    <tr style=\"text-align: right;\">\n",
       "      <th></th>\n",
       "      <th>0</th>\n",
       "      <th>1</th>\n",
       "      <th>2</th>\n",
       "      <th>3</th>\n",
       "      <th>4</th>\n",
       "      <th>5</th>\n",
       "      <th>6</th>\n",
       "      <th>7</th>\n",
       "      <th>8</th>\n",
       "      <th>9</th>\n",
       "      <th>...</th>\n",
       "      <th>291</th>\n",
       "      <th>292</th>\n",
       "      <th>293</th>\n",
       "      <th>294</th>\n",
       "      <th>295</th>\n",
       "      <th>296</th>\n",
       "      <th>297</th>\n",
       "      <th>298</th>\n",
       "      <th>299</th>\n",
       "      <th>300</th>\n",
       "    </tr>\n",
       "  </thead>\n",
       "  <tbody>\n",
       "    <tr>\n",
       "      <th>0</th>\n",
       "      <td>35</td>\n",
       "      <td>64</td>\n",
       "      <td>72</td>\n",
       "      <td>1</td>\n",
       "      <td>58</td>\n",
       "      <td>69</td>\n",
       "      <td>4</td>\n",
       "      <td>68</td>\n",
       "      <td>1</td>\n",
       "      <td>69</td>\n",
       "      <td>...</td>\n",
       "      <td>56</td>\n",
       "      <td>57</td>\n",
       "      <td>69</td>\n",
       "      <td>1</td>\n",
       "      <td>1</td>\n",
       "      <td>0</td>\n",
       "      <td>24</td>\n",
       "      <td>61</td>\n",
       "      <td>64</td>\n",
       "      <td>68</td>\n",
       "    </tr>\n",
       "    <tr>\n",
       "      <th>1</th>\n",
       "      <td>41</td>\n",
       "      <td>57</td>\n",
       "      <td>54</td>\n",
       "      <td>1</td>\n",
       "      <td>61</td>\n",
       "      <td>54</td>\n",
       "      <td>50</td>\n",
       "      <td>71</td>\n",
       "      <td>54</td>\n",
       "      <td>68</td>\n",
       "      <td>...</td>\n",
       "      <td>54</td>\n",
       "      <td>65</td>\n",
       "      <td>69</td>\n",
       "      <td>54</td>\n",
       "      <td>62</td>\n",
       "      <td>51</td>\n",
       "      <td>54</td>\n",
       "      <td>67</td>\n",
       "      <td>1</td>\n",
       "      <td>1</td>\n",
       "    </tr>\n",
       "    <tr>\n",
       "      <th>2</th>\n",
       "      <td>30</td>\n",
       "      <td>1</td>\n",
       "      <td>53</td>\n",
       "      <td>64</td>\n",
       "      <td>63</td>\n",
       "      <td>4</td>\n",
       "      <td>69</td>\n",
       "      <td>1</td>\n",
       "      <td>52</td>\n",
       "      <td>50</td>\n",
       "      <td>...</td>\n",
       "      <td>1</td>\n",
       "      <td>68</td>\n",
       "      <td>64</td>\n",
       "      <td>62</td>\n",
       "      <td>54</td>\n",
       "      <td>53</td>\n",
       "      <td>50</td>\n",
       "      <td>74</td>\n",
       "      <td>7</td>\n",
       "      <td>1</td>\n",
       "    </tr>\n",
       "    <tr>\n",
       "      <th>3</th>\n",
       "      <td>33</td>\n",
       "      <td>64</td>\n",
       "      <td>72</td>\n",
       "      <td>1</td>\n",
       "      <td>50</td>\n",
       "      <td>63</td>\n",
       "      <td>53</td>\n",
       "      <td>1</td>\n",
       "      <td>61</td>\n",
       "      <td>64</td>\n",
       "      <td>...</td>\n",
       "      <td>64</td>\n",
       "      <td>64</td>\n",
       "      <td>1</td>\n",
       "      <td>1</td>\n",
       "      <td>0</td>\n",
       "      <td>46</td>\n",
       "      <td>64</td>\n",
       "      <td>70</td>\n",
       "      <td>4</td>\n",
       "      <td>67</td>\n",
       "    </tr>\n",
       "    <tr>\n",
       "      <th>4</th>\n",
       "      <td>24</td>\n",
       "      <td>50</td>\n",
       "      <td>63</td>\n",
       "      <td>4</td>\n",
       "      <td>69</td>\n",
       "      <td>1</td>\n",
       "      <td>67</td>\n",
       "      <td>70</td>\n",
       "      <td>63</td>\n",
       "      <td>1</td>\n",
       "      <td>...</td>\n",
       "      <td>0</td>\n",
       "      <td>41</td>\n",
       "      <td>57</td>\n",
       "      <td>54</td>\n",
       "      <td>1</td>\n",
       "      <td>68</td>\n",
       "      <td>72</td>\n",
       "      <td>54</td>\n",
       "      <td>54</td>\n",
       "      <td>69</td>\n",
       "    </tr>\n",
       "  </tbody>\n",
       "</table>\n",
       "<p>5 rows × 301 columns</p>\n",
       "</div>"
      ],
      "text/plain": [
       "    0   1   2   3   4   5   6   7   8   9 ...   291  292  293  294  295  296  \\\n",
       "0  35  64  72   1  58  69   4  68   1  69 ...    56   57   69    1    1    0   \n",
       "1  41  57  54   1  61  54  50  71  54  68 ...    54   65   69   54   62   51   \n",
       "2  30   1  53  64  63   4  69   1  52  50 ...     1   68   64   62   54   53   \n",
       "3  33  64  72   1  50  63  53   1  61  64 ...    64   64    1    1    0   46   \n",
       "4  24  50  63   4  69   1  67  70  63   1 ...     0   41   57   54    1   68   \n",
       "\n",
       "   297  298  299  300  \n",
       "0   24   61   64   68  \n",
       "1   54   67    1    1  \n",
       "2   50   74    7    1  \n",
       "3   64   70    4   67  \n",
       "4   72   54   54   69  \n",
       "\n",
       "[5 rows x 301 columns]"
      ]
     },
     "execution_count": 16,
     "metadata": {},
     "output_type": "execute_result"
    }
   ],
   "source": [
    "dataset.head()"
   ]
  },
  {
   "cell_type": "code",
   "execution_count": 17,
   "metadata": {},
   "outputs": [
    {
     "data": {
      "text/plain": [
       "(9438, 301)"
      ]
     },
     "execution_count": 17,
     "metadata": {},
     "output_type": "execute_result"
    }
   ],
   "source": [
    "dataset.shape"
   ]
  },
  {
   "cell_type": "code",
   "execution_count": 18,
   "metadata": {},
   "outputs": [],
   "source": [
    "emb_dim = 128\n",
    "input_length = 300\n",
    "batch_size = batchs.loc[lyrics_len, 1]"
   ]
  },
  {
   "cell_type": "code",
   "execution_count": 19,
   "metadata": {},
   "outputs": [
    {
     "data": {
      "text/plain": [
       "39"
      ]
     },
     "execution_count": 19,
     "metadata": {},
     "output_type": "execute_result"
    }
   ],
   "source": [
    "batch_size"
   ]
  },
  {
   "cell_type": "code",
   "execution_count": 20,
   "metadata": {},
   "outputs": [],
   "source": [
    "model = Sequential()\n",
    "model.add(Embedding(input_dim=vocab_size, output_dim=emb_dim, input_length=input_length, batch_input_shape=(batch_size, input_length)))\n",
    "model.add(Conv1D(filters=256, kernel_size=4, padding='same', activation='relu'))\n",
    "model.add(MaxPooling1D(pool_size=2, padding='same'))\n",
    "model.add(Dropout(.2))\n",
    "model.add(Bidirectional(LSTM(50, activation='softmax', return_sequences=True, dropout=.2, recurrent_dropout=.2, stateful=True)))\n",
    "model.add(BatchNormalization())\n",
    "model.add(Conv1D(filters=256, kernel_size=4, padding='same', activation='relu'))\n",
    "model.add(MaxPooling1D(pool_size=2, padding='same'))\n",
    "model.add(Dropout(.2))\n",
    "model.add(Bidirectional(LSTM(100, activation='softmax', dropout=.2, recurrent_dropout=.2, stateful=True)))\n",
    "model.add(BatchNormalization())\n",
    "model.add(Dropout(.2))\n",
    "model.add(Dense(vocab_size, activation='softmax'))"
   ]
  },
  {
   "cell_type": "code",
   "execution_count": 21,
   "metadata": {},
   "outputs": [
    {
     "name": "stdout",
     "output_type": "stream",
     "text": [
      "_________________________________________________________________\n",
      "Layer (type)                 Output Shape              Param #   \n",
      "=================================================================\n",
      "embedding_2 (Embedding)      (39, 300, 128)            9728      \n",
      "_________________________________________________________________\n",
      "conv1d_3 (Conv1D)            (39, 300, 256)            131328    \n",
      "_________________________________________________________________\n",
      "max_pooling1d_3 (MaxPooling1 (39, 150, 256)            0         \n",
      "_________________________________________________________________\n",
      "dropout_4 (Dropout)          (39, 150, 256)            0         \n",
      "_________________________________________________________________\n",
      "bidirectional_3 (Bidirection (39, 150, 100)            122800    \n",
      "_________________________________________________________________\n",
      "batch_normalization_3 (Batch (39, 150, 100)            400       \n",
      "_________________________________________________________________\n",
      "conv1d_4 (Conv1D)            (39, 150, 256)            102656    \n",
      "_________________________________________________________________\n",
      "max_pooling1d_4 (MaxPooling1 (39, 75, 256)             0         \n",
      "_________________________________________________________________\n",
      "dropout_5 (Dropout)          (39, 75, 256)             0         \n",
      "_________________________________________________________________\n",
      "bidirectional_4 (Bidirection (39, 200)                 285600    \n",
      "_________________________________________________________________\n",
      "batch_normalization_4 (Batch (39, 200)                 800       \n",
      "_________________________________________________________________\n",
      "dropout_6 (Dropout)          (39, 200)                 0         \n",
      "_________________________________________________________________\n",
      "dense_2 (Dense)              (39, 76)                  15276     \n",
      "=================================================================\n",
      "Total params: 668,588\n",
      "Trainable params: 667,988\n",
      "Non-trainable params: 600\n",
      "_________________________________________________________________\n"
     ]
    }
   ],
   "source": [
    "model.summary()"
   ]
  },
  {
   "cell_type": "code",
   "execution_count": 22,
   "metadata": {},
   "outputs": [],
   "source": [
    "model.set_weights(load_model('model_alter.h5').get_weights())"
   ]
  },
  {
   "cell_type": "code",
   "execution_count": 23,
   "metadata": {},
   "outputs": [],
   "source": [
    "model.compile(optimizer='adam', loss='sparse_categorical_crossentropy', metrics=['accuracy'])"
   ]
  },
  {
   "cell_type": "code",
   "execution_count": 24,
   "metadata": {},
   "outputs": [
    {
     "name": "stdout",
     "output_type": "stream",
     "text": [
      "0\n",
      "Epoch 1/1\n",
      "9438/9438 [==============================] - 65s - loss: 2.0997 - acc: 0.4280    \n",
      "1\n",
      "Epoch 1/1\n",
      "9438/9438 [==============================] - 64s - loss: 2.0045 - acc: 0.4476    \n",
      "2\n",
      "Epoch 1/1\n",
      "9438/9438 [==============================] - 64s - loss: 1.9372 - acc: 0.4667    \n",
      "3\n",
      "Epoch 1/1\n",
      "9438/9438 [==============================] - 64s - loss: 1.8928 - acc: 0.4749    \n",
      "4\n",
      "Epoch 1/1\n",
      "9438/9438 [==============================] - 64s - loss: 1.8474 - acc: 0.4840    \n"
     ]
    }
   ],
   "source": [
    "for _ in range(5):\n",
    "    print(_)\n",
    "    model.reset_states()\n",
    "    model_hist = model.fit(dataset.iloc[:, :-1].values, dataset.iloc[:, [-1]].values, epochs=1, batch_size=batch_size)\n",
    "    if model_hist.history['acc'][0] > .55: break"
   ]
  },
  {
   "cell_type": "code",
   "execution_count": 25,
   "metadata": {},
   "outputs": [],
   "source": [
    "# save model\n",
    "model.save('model_alter.h5')"
   ]
  },
  {
   "cell_type": "code",
   "execution_count": 26,
   "metadata": {},
   "outputs": [],
   "source": [
    "pred_model = Sequential()\n",
    "pred_model.add(Embedding(input_dim=vocab_size, output_dim=emb_dim, input_length=input_length, batch_input_shape=(1, input_length)))\n",
    "pred_model.add(Conv1D(filters=256, kernel_size=4, padding='same', activation='relu'))\n",
    "pred_model.add(MaxPooling1D(pool_size=2, padding='same'))\n",
    "pred_model.add(Dropout(.2))\n",
    "pred_model.add(Bidirectional(LSTM(50, activation='softmax', return_sequences=True, dropout=.2, recurrent_dropout=.2, stateful=True)))\n",
    "pred_model.add(BatchNormalization())\n",
    "pred_model.add(Conv1D(filters=256, kernel_size=4, padding='same', activation='relu'))\n",
    "pred_model.add(MaxPooling1D(pool_size=2, padding='same'))\n",
    "pred_model.add(Dropout(.2))\n",
    "pred_model.add(Bidirectional(LSTM(100, activation='softmax', dropout=.2, recurrent_dropout=.2, stateful=True)))\n",
    "pred_model.add(BatchNormalization())\n",
    "pred_model.add(Dropout(.2))\n",
    "pred_model.add(Dense(vocab_size, activation='softmax'))"
   ]
  },
  {
   "cell_type": "code",
   "execution_count": 27,
   "metadata": {},
   "outputs": [],
   "source": [
    "pred_model.set_weights(model.get_weights())"
   ]
  },
  {
   "cell_type": "code",
   "execution_count": 28,
   "metadata": {},
   "outputs": [],
   "source": [
    "def implement(seed_text, maxlen=100, must_stop=2000, n_likely=5):\n",
    "    cleaned = list(seed_text)\n",
    "    padded_input_tokens = utils.tokenise(word2ind, cleaned)\n",
    "    res_tokens = [token for token in padded_input_tokens]\n",
    "    pred_model.reset_states()\n",
    "    while must_stop > 0:\n",
    "        padded_input_tokens = pad_sequences([padded_input_tokens], maxlen=maxlen)\n",
    "        probs = pred_model.predict(padded_input_tokens, batch_size=1)[0]\n",
    "        first_n = np.argsort(probs)[-n_likely:]\n",
    "        probs = probs[first_n] / np.sum(probs[first_n])\n",
    "        predicted = np.random.choice(first_n, p=probs)\n",
    "        padded_input_tokens = padded_input_tokens[0].tolist()\n",
    "        padded_input_tokens.append(predicted)\n",
    "        res_tokens.append(predicted)\n",
    "        must_stop -= 1\n",
    "    detokenised = utils.detokenise(ind2word, res_tokens)\n",
    "    return ''.join(detokenised)"
   ]
  },
  {
   "cell_type": "code",
   "execution_count": 29,
   "metadata": {},
   "outputs": [],
   "source": [
    "res = implement('We are friends, good friends', 300, 800, 5)"
   ]
  },
  {
   "cell_type": "code",
   "execution_count": 30,
   "metadata": {},
   "outputs": [
    {
     "name": "stdout",
     "output_type": "stream",
     "text": [
      "We are friends, good friends ale oh\n",
      "\n",
      "\n",
      "(  \n",
      "\n",
      "( \n",
      "\n",
      "(e\n",
      "\n",
      "\n",
      "(e\n",
      "(\n",
      "(\n",
      "(  \n",
      "\n",
      "(e\n",
      "(( \n",
      "\n",
      "(eh I heao ( oneee((((\n",
      "((\n",
      "((eouu(((\n",
      "((((((((\n",
      "(((ouueueieueiuueueeieeeeuuuieeeeuuueeeueieuieeueeieeyeyeeiieeyeeeuiueiiieeiueeeeeieieeeeyeieeuiuiieeieee eieiuiieeeueieeeeoeieeyy oeeeeeeeeeieiuieueeeeeoeeuieeieueeueeeuuieueieeeeeeieiueiueieiieeueieuieeeeeeiieeeeiieieeeyeyeeeeiieueieeeaiueyeeeeeeueiieieuieeyoeeuynninuuieiiennnnnnnnnnnnnnnnnnuuunrrrrrraurninnoatniitniitnnntnnnnnnnnnnnnnnnnnnnnnnnnnnnnnnnnnnnnnnnnnnroniaanaainiiiniiiniiiniiinoainiainaiini cniiandiano inna nniinnnnnnnnnnnnnnnnnnnnnnnnnnnnnnnnnnnnnnnnnnnnnnnnnnnnnnnnnnnnnnnnnnntntnnnnnnnnnnnnnnnnnnnnnnnnnnnnnnnnnnnnntniiiii iniiin-rrrarrr-rrrarrr-rrmrrrriai--] --mmmp\n",
      "\n",
      "--\n",
      "\n",
      "--\n",
      "\n",
      "--eem\n",
      "\n",
      "ne \n",
      "yy \n",
      "en \n",
      "y e\n",
      "yeen\n",
      "e\n",
      "e\n",
      "ep\n",
      " e\n",
      " nee\n",
      "ynee\n",
      "e\n",
      "e\n",
      "\n",
      " eeen  en \n",
      "e  y na\n",
      "n een  a\n",
      "y y e\n",
      " ye \n",
      "eeene\n",
      "\n",
      "yyeeenne\n",
      "\n",
      "yee \n"
     ]
    }
   ],
   "source": [
    "print(res)"
   ]
  },
  {
   "cell_type": "code",
   "execution_count": null,
   "metadata": {},
   "outputs": [],
   "source": []
  }
 ],
 "metadata": {
  "kernelspec": {
   "display_name": "Python 3",
   "language": "python",
   "name": "python3"
  },
  "language_info": {
   "codemirror_mode": {
    "name": "ipython",
    "version": 3
   },
   "file_extension": ".py",
   "mimetype": "text/x-python",
   "name": "python",
   "nbconvert_exporter": "python",
   "pygments_lexer": "ipython3",
   "version": "3.5.4"
  }
 },
 "nbformat": 4,
 "nbformat_minor": 2
}
