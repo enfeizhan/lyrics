{
 "cells": [
  {
   "cell_type": "code",
   "execution_count": 1,
   "metadata": {},
   "outputs": [],
   "source": [
    "import numpy as np\n",
    "import pandas as pd"
   ]
  },
  {
   "cell_type": "code",
   "execution_count": 10,
   "metadata": {},
   "outputs": [],
   "source": [
    "import json"
   ]
  },
  {
   "cell_type": "code",
   "execution_count": 17,
   "metadata": {},
   "outputs": [],
   "source": [
    "from sklearn.model_selection import train_test_split"
   ]
  },
  {
   "cell_type": "code",
   "execution_count": 2,
   "metadata": {},
   "outputs": [
    {
     "name": "stderr",
     "output_type": "stream",
     "text": [
      "Using TensorFlow backend.\n"
     ]
    }
   ],
   "source": [
    "from keras.models import Sequential\n",
    "from keras.layers import Embedding, LSTM, Dense"
   ]
  },
  {
   "cell_type": "code",
   "execution_count": 3,
   "metadata": {},
   "outputs": [],
   "source": [
    "def load_embedding(filename='embedding.csv'):\n",
    "    return pd.read_csv(filename, header=None)"
   ]
  },
  {
   "cell_type": "code",
   "execution_count": 4,
   "metadata": {},
   "outputs": [],
   "source": [
    "emb = load_embedding()"
   ]
  },
  {
   "cell_type": "code",
   "execution_count": 5,
   "metadata": {},
   "outputs": [
    {
     "data": {
      "text/html": [
       "<div>\n",
       "<style scoped>\n",
       "    .dataframe tbody tr th:only-of-type {\n",
       "        vertical-align: middle;\n",
       "    }\n",
       "\n",
       "    .dataframe tbody tr th {\n",
       "        vertical-align: top;\n",
       "    }\n",
       "\n",
       "    .dataframe thead th {\n",
       "        text-align: right;\n",
       "    }\n",
       "</style>\n",
       "<table border=\"1\" class=\"dataframe\">\n",
       "  <thead>\n",
       "    <tr style=\"text-align: right;\">\n",
       "      <th></th>\n",
       "      <th>0</th>\n",
       "      <th>1</th>\n",
       "      <th>2</th>\n",
       "      <th>3</th>\n",
       "      <th>4</th>\n",
       "      <th>5</th>\n",
       "      <th>6</th>\n",
       "      <th>7</th>\n",
       "      <th>8</th>\n",
       "      <th>9</th>\n",
       "      <th>...</th>\n",
       "      <th>40</th>\n",
       "      <th>41</th>\n",
       "      <th>42</th>\n",
       "      <th>43</th>\n",
       "      <th>44</th>\n",
       "      <th>45</th>\n",
       "      <th>46</th>\n",
       "      <th>47</th>\n",
       "      <th>48</th>\n",
       "      <th>49</th>\n",
       "    </tr>\n",
       "  </thead>\n",
       "  <tbody>\n",
       "    <tr>\n",
       "      <th>0</th>\n",
       "      <td>-0.060974</td>\n",
       "      <td>-0.317879</td>\n",
       "      <td>-0.550560</td>\n",
       "      <td>-0.202091</td>\n",
       "      <td>0.760389</td>\n",
       "      <td>-1.226085</td>\n",
       "      <td>0.875159</td>\n",
       "      <td>0.459753</td>\n",
       "      <td>-1.196949</td>\n",
       "      <td>1.053209</td>\n",
       "      <td>...</td>\n",
       "      <td>-0.597071</td>\n",
       "      <td>-0.066059</td>\n",
       "      <td>0.345023</td>\n",
       "      <td>-0.429354</td>\n",
       "      <td>0.384491</td>\n",
       "      <td>-0.397192</td>\n",
       "      <td>-0.155742</td>\n",
       "      <td>0.372814</td>\n",
       "      <td>0.742573</td>\n",
       "      <td>0.722736</td>\n",
       "    </tr>\n",
       "    <tr>\n",
       "      <th>1</th>\n",
       "      <td>-0.095839</td>\n",
       "      <td>-0.077554</td>\n",
       "      <td>-0.355692</td>\n",
       "      <td>1.049146</td>\n",
       "      <td>-0.590769</td>\n",
       "      <td>0.929406</td>\n",
       "      <td>-0.162880</td>\n",
       "      <td>-0.456715</td>\n",
       "      <td>-0.988432</td>\n",
       "      <td>-0.104014</td>\n",
       "      <td>...</td>\n",
       "      <td>-1.097297</td>\n",
       "      <td>-0.756459</td>\n",
       "      <td>-0.336356</td>\n",
       "      <td>0.792779</td>\n",
       "      <td>-0.133896</td>\n",
       "      <td>-0.490780</td>\n",
       "      <td>0.375516</td>\n",
       "      <td>-0.164238</td>\n",
       "      <td>1.186742</td>\n",
       "      <td>0.085916</td>\n",
       "    </tr>\n",
       "    <tr>\n",
       "      <th>2</th>\n",
       "      <td>-0.584020</td>\n",
       "      <td>0.390310</td>\n",
       "      <td>0.652820</td>\n",
       "      <td>-0.340300</td>\n",
       "      <td>0.194930</td>\n",
       "      <td>-0.834890</td>\n",
       "      <td>0.119290</td>\n",
       "      <td>-0.572910</td>\n",
       "      <td>-0.568440</td>\n",
       "      <td>0.729890</td>\n",
       "      <td>...</td>\n",
       "      <td>0.285860</td>\n",
       "      <td>-0.052162</td>\n",
       "      <td>-0.508180</td>\n",
       "      <td>-0.634590</td>\n",
       "      <td>0.338890</td>\n",
       "      <td>0.284160</td>\n",
       "      <td>-0.203400</td>\n",
       "      <td>-1.233800</td>\n",
       "      <td>0.467150</td>\n",
       "      <td>0.788580</td>\n",
       "    </tr>\n",
       "    <tr>\n",
       "      <th>3</th>\n",
       "      <td>0.257690</td>\n",
       "      <td>0.456290</td>\n",
       "      <td>-0.769740</td>\n",
       "      <td>-0.376790</td>\n",
       "      <td>0.592720</td>\n",
       "      <td>-0.063527</td>\n",
       "      <td>0.205450</td>\n",
       "      <td>-0.573850</td>\n",
       "      <td>-0.290090</td>\n",
       "      <td>-0.136620</td>\n",
       "      <td>...</td>\n",
       "      <td>0.030498</td>\n",
       "      <td>-0.395430</td>\n",
       "      <td>-0.385150</td>\n",
       "      <td>-1.000200</td>\n",
       "      <td>0.087599</td>\n",
       "      <td>-0.310090</td>\n",
       "      <td>-0.346770</td>\n",
       "      <td>-0.314380</td>\n",
       "      <td>0.750040</td>\n",
       "      <td>0.970650</td>\n",
       "    </tr>\n",
       "    <tr>\n",
       "      <th>4</th>\n",
       "      <td>-0.695426</td>\n",
       "      <td>0.591739</td>\n",
       "      <td>-0.397985</td>\n",
       "      <td>1.042686</td>\n",
       "      <td>0.069218</td>\n",
       "      <td>1.111737</td>\n",
       "      <td>-0.025059</td>\n",
       "      <td>0.280132</td>\n",
       "      <td>0.155576</td>\n",
       "      <td>-0.393120</td>\n",
       "      <td>...</td>\n",
       "      <td>0.651884</td>\n",
       "      <td>-0.799066</td>\n",
       "      <td>0.226521</td>\n",
       "      <td>0.059271</td>\n",
       "      <td>0.521701</td>\n",
       "      <td>-0.369458</td>\n",
       "      <td>0.217679</td>\n",
       "      <td>-0.987510</td>\n",
       "      <td>-0.522543</td>\n",
       "      <td>0.546550</td>\n",
       "    </tr>\n",
       "  </tbody>\n",
       "</table>\n",
       "<p>5 rows × 50 columns</p>\n",
       "</div>"
      ],
      "text/plain": [
       "         0         1         2         3         4         5         6   \\\n",
       "0 -0.060974 -0.317879 -0.550560 -0.202091  0.760389 -1.226085  0.875159   \n",
       "1 -0.095839 -0.077554 -0.355692  1.049146 -0.590769  0.929406 -0.162880   \n",
       "2 -0.584020  0.390310  0.652820 -0.340300  0.194930 -0.834890  0.119290   \n",
       "3  0.257690  0.456290 -0.769740 -0.376790  0.592720 -0.063527  0.205450   \n",
       "4 -0.695426  0.591739 -0.397985  1.042686  0.069218  1.111737 -0.025059   \n",
       "\n",
       "         7         8         9     ...           40        41        42  \\\n",
       "0  0.459753 -1.196949  1.053209    ...    -0.597071 -0.066059  0.345023   \n",
       "1 -0.456715 -0.988432 -0.104014    ...    -1.097297 -0.756459 -0.336356   \n",
       "2 -0.572910 -0.568440  0.729890    ...     0.285860 -0.052162 -0.508180   \n",
       "3 -0.573850 -0.290090 -0.136620    ...     0.030498 -0.395430 -0.385150   \n",
       "4  0.280132  0.155576 -0.393120    ...     0.651884 -0.799066  0.226521   \n",
       "\n",
       "         43        44        45        46        47        48        49  \n",
       "0 -0.429354  0.384491 -0.397192 -0.155742  0.372814  0.742573  0.722736  \n",
       "1  0.792779 -0.133896 -0.490780  0.375516 -0.164238  1.186742  0.085916  \n",
       "2 -0.634590  0.338890  0.284160 -0.203400 -1.233800  0.467150  0.788580  \n",
       "3 -1.000200  0.087599 -0.310090 -0.346770 -0.314380  0.750040  0.970650  \n",
       "4  0.059271  0.521701 -0.369458  0.217679 -0.987510 -0.522543  0.546550  \n",
       "\n",
       "[5 rows x 50 columns]"
      ]
     },
     "execution_count": 5,
     "metadata": {},
     "output_type": "execute_result"
    }
   ],
   "source": [
    "emb.head()"
   ]
  },
  {
   "cell_type": "code",
   "execution_count": 6,
   "metadata": {},
   "outputs": [],
   "source": [
    "emb_dim = emb.shape[1]"
   ]
  },
  {
   "cell_type": "code",
   "execution_count": 12,
   "metadata": {},
   "outputs": [],
   "source": [
    "def load_dict(filename):\n",
    "    with open(filename, 'r') as f:\n",
    "        return json.load(f)\n",
    "\n",
    "def load_index_word_map(word2ind_filename='word2ind', ind2word_filename='ind2word'):\n",
    "    word2ind = load_dict(word2ind_filename)\n",
    "    ind2word = load_dict(ind2word_filename)\n",
    "    return word2ind, ind2word"
   ]
  },
  {
   "cell_type": "code",
   "execution_count": 13,
   "metadata": {},
   "outputs": [],
   "source": [
    "word2ind, ind2word = load_index_word_map()"
   ]
  },
  {
   "cell_type": "code",
   "execution_count": 14,
   "metadata": {},
   "outputs": [],
   "source": [
    "vocab_size = len(word2ind)"
   ]
  },
  {
   "cell_type": "code",
   "execution_count": 7,
   "metadata": {},
   "outputs": [],
   "source": [
    "def load_training_samples(filename='train.csv'):\n",
    "    return pd.read_csv(filename, header=None)"
   ]
  },
  {
   "cell_type": "code",
   "execution_count": 8,
   "metadata": {},
   "outputs": [],
   "source": [
    "dataset = load_training_samples()"
   ]
  },
  {
   "cell_type": "code",
   "execution_count": 9,
   "metadata": {},
   "outputs": [],
   "source": [
    "def make_features_and_hotted_labels(dataset, vocab_size, label_first_ind=-1):\n",
    "    n_samples = dataset.shape[0]\n",
    "    indices = list(range(n_samples))\n",
    "    features = dataset.iloc[:, :label_first_ind]\n",
    "    hotted_labels = np.zeros((n_samples, vocab_size))\n",
    "    for label_ind in range(label_first_ind, label_first_ind+1):\n",
    "        hotted_labels[indices, dataset.iloc[:, label_ind]] = 1\n",
    "    return features, hotted_labels"
   ]
  },
  {
   "cell_type": "code",
   "execution_count": null,
   "metadata": {},
   "outputs": [],
   "source": [
    "x, y = make_features_and_hotted_labels(dataset, vocab_size)"
   ]
  },
  {
   "cell_type": "code",
   "execution_count": null,
   "metadata": {},
   "outputs": [],
   "source": [
    "train_x, val_x, train_y, val_y = train_test_split(x, y, test_size=0.3, random_state=43)"
   ]
  },
  {
   "cell_type": "code",
   "execution_count": 7,
   "metadata": {},
   "outputs": [],
   "source": [
    "model = Sequential()"
   ]
  },
  {
   "cell_type": "code",
   "execution_count": 10,
   "metadata": {},
   "outputs": [],
   "source": [
    "model.add(Embedding(input_dim=vocab_size, output_dim=emb_dim, input_length=input_length))\n",
    "model.add(LSTM(1000, activation='relu', return_sequences=True))\n",
    "model.add(LSTM(1000, activation='relu'))\n",
    "model.add(Dense(1000, activation='relu'))\n",
    "model.add(Dense(vocab_size, activation='softmax'))"
   ]
  },
  {
   "cell_type": "code",
   "execution_count": 11,
   "metadata": {},
   "outputs": [
    {
     "name": "stdout",
     "output_type": "stream",
     "text": [
      "_________________________________________________________________\n",
      "Layer (type)                 Output Shape              Param #   \n",
      "=================================================================\n",
      "embedding_1 (Embedding)      (None, 10, 50)            50000     \n",
      "_________________________________________________________________\n",
      "lstm_1 (LSTM)                (None, 10, 1000)          4204000   \n",
      "_________________________________________________________________\n",
      "lstm_2 (LSTM)                (None, 1000)              8004000   \n",
      "_________________________________________________________________\n",
      "dense_1 (Dense)              (None, 1000)              1001000   \n",
      "_________________________________________________________________\n",
      "dense_2 (Dense)              (None, 1000)              1001000   \n",
      "=================================================================\n",
      "Total params: 14,260,000\n",
      "Trainable params: 14,260,000\n",
      "Non-trainable params: 0\n",
      "_________________________________________________________________\n"
     ]
    }
   ],
   "source": [
    "model.summary()"
   ]
  },
  {
   "cell_type": "code",
   "execution_count": null,
   "metadata": {},
   "outputs": [],
   "source": []
  }
 ],
 "metadata": {
  "kernelspec": {
   "display_name": "Python 3",
   "language": "python",
   "name": "python3"
  },
  "language_info": {
   "codemirror_mode": {
    "name": "ipython",
    "version": 3
   },
   "file_extension": ".py",
   "mimetype": "text/x-python",
   "name": "python",
   "nbconvert_exporter": "python",
   "pygments_lexer": "ipython3",
   "version": "3.6.3"
  }
 },
 "nbformat": 4,
 "nbformat_minor": 2
}
