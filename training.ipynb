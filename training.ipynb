{
 "cells": [
  {
   "cell_type": "code",
   "execution_count": 1,
   "metadata": {},
   "outputs": [],
   "source": [
    "import pandas as pd\n",
    "from keras.models import Sequential\n",
    "from keras.layers import Embedding, LSTM, Dense"
   ]
  },
  {
   "cell_type": "code",
   "execution_count": 2,
   "metadata": {},
   "outputs": [],
   "source": [
    "train = pd.read_table('train.dmp', sep='|')"
   ]
  },
  {
   "cell_type": "code",
   "execution_count": 3,
   "metadata": {},
   "outputs": [
    {
     "data": {
      "text/plain": [
       "(1660, 11)"
      ]
     },
     "execution_count": 3,
     "metadata": {},
     "output_type": "execute_result"
    }
   ],
   "source": [
    "train.shape"
   ]
  },
  {
   "cell_type": "code",
   "execution_count": 4,
   "metadata": {},
   "outputs": [
    {
     "data": {
      "text/html": [
       "<div>\n",
       "<style scoped>\n",
       "    .dataframe tbody tr th:only-of-type {\n",
       "        vertical-align: middle;\n",
       "    }\n",
       "\n",
       "    .dataframe tbody tr th {\n",
       "        vertical-align: top;\n",
       "    }\n",
       "\n",
       "    .dataframe thead th {\n",
       "        text-align: right;\n",
       "    }\n",
       "</style>\n",
       "<table border=\"1\" class=\"dataframe\">\n",
       "  <thead>\n",
       "    <tr style=\"text-align: right;\">\n",
       "      <th></th>\n",
       "      <th>0</th>\n",
       "      <th>1</th>\n",
       "      <th>2</th>\n",
       "      <th>3</th>\n",
       "      <th>4</th>\n",
       "      <th>5</th>\n",
       "      <th>6</th>\n",
       "      <th>7</th>\n",
       "      <th>8</th>\n",
       "      <th>9</th>\n",
       "      <th>10</th>\n",
       "    </tr>\n",
       "  </thead>\n",
       "  <tbody>\n",
       "    <tr>\n",
       "      <th>0</th>\n",
       "      <td>i</td>\n",
       "      <td>was</td>\n",
       "      <td>out</td>\n",
       "      <td>with</td>\n",
       "      <td>the</td>\n",
       "      <td>morning</td>\n",
       "      <td>sun</td>\n",
       "      <td>\\n</td>\n",
       "      <td>couldn</td>\n",
       "      <td>'t</td>\n",
       "      <td>sleep</td>\n",
       "    </tr>\n",
       "    <tr>\n",
       "      <th>1</th>\n",
       "      <td>was</td>\n",
       "      <td>out</td>\n",
       "      <td>with</td>\n",
       "      <td>the</td>\n",
       "      <td>morning</td>\n",
       "      <td>sun</td>\n",
       "      <td>\\n</td>\n",
       "      <td>couldn</td>\n",
       "      <td>'t</td>\n",
       "      <td>sleep</td>\n",
       "      <td>,</td>\n",
       "    </tr>\n",
       "    <tr>\n",
       "      <th>2</th>\n",
       "      <td>out</td>\n",
       "      <td>with</td>\n",
       "      <td>the</td>\n",
       "      <td>morning</td>\n",
       "      <td>sun</td>\n",
       "      <td>\\n</td>\n",
       "      <td>couldn</td>\n",
       "      <td>'t</td>\n",
       "      <td>sleep</td>\n",
       "      <td>,</td>\n",
       "      <td>so</td>\n",
       "    </tr>\n",
       "    <tr>\n",
       "      <th>3</th>\n",
       "      <td>with</td>\n",
       "      <td>the</td>\n",
       "      <td>morning</td>\n",
       "      <td>sun</td>\n",
       "      <td>\\n</td>\n",
       "      <td>couldn</td>\n",
       "      <td>'t</td>\n",
       "      <td>sleep</td>\n",
       "      <td>,</td>\n",
       "      <td>so</td>\n",
       "      <td>i</td>\n",
       "    </tr>\n",
       "    <tr>\n",
       "      <th>4</th>\n",
       "      <td>the</td>\n",
       "      <td>morning</td>\n",
       "      <td>sun</td>\n",
       "      <td>\\n</td>\n",
       "      <td>couldn</td>\n",
       "      <td>'t</td>\n",
       "      <td>sleep</td>\n",
       "      <td>,</td>\n",
       "      <td>so</td>\n",
       "      <td>i</td>\n",
       "      <td>thought</td>\n",
       "    </tr>\n",
       "  </tbody>\n",
       "</table>\n",
       "</div>"
      ],
      "text/plain": [
       "      0        1        2        3        4        5       6       7       8  \\\n",
       "0     i      was      out     with      the  morning     sun      \\n  couldn   \n",
       "1   was      out     with      the  morning      sun      \\n  couldn      't   \n",
       "2   out     with      the  morning      sun       \\n  couldn      't   sleep   \n",
       "3  with      the  morning      sun       \\n   couldn      't   sleep       ,   \n",
       "4   the  morning      sun       \\n   couldn       't   sleep       ,      so   \n",
       "\n",
       "       9       10  \n",
       "0     't    sleep  \n",
       "1  sleep        ,  \n",
       "2      ,       so  \n",
       "3     so        i  \n",
       "4      i  thought  "
      ]
     },
     "execution_count": 4,
     "metadata": {},
     "output_type": "execute_result"
    }
   ],
   "source": [
    "train.head()"
   ]
  },
  {
   "cell_type": "code",
   "execution_count": 6,
   "metadata": {},
   "outputs": [],
   "source": [
    "input_length = train.shape[1] - 1"
   ]
  },
  {
   "cell_type": "code",
   "execution_count": 8,
   "metadata": {},
   "outputs": [],
   "source": [
    "vocab_size = 1000"
   ]
  },
  {
   "cell_type": "code",
   "execution_count": 9,
   "metadata": {},
   "outputs": [],
   "source": [
    "emb_dim = 50"
   ]
  },
  {
   "cell_type": "code",
   "execution_count": 7,
   "metadata": {},
   "outputs": [],
   "source": [
    "model = Sequential()"
   ]
  },
  {
   "cell_type": "code",
   "execution_count": 10,
   "metadata": {},
   "outputs": [],
   "source": [
    "model.add(Embedding(input_dim=vocab_size, output_dim=emb_dim, input_length=input_length))\n",
    "model.add(LSTM(1000, activation='relu', return_sequences=True))\n",
    "model.add(LSTM(1000, activation='relu'))\n",
    "model.add(Dense(1000, activation='relu'))\n",
    "model.add(Dense(vocab_size, activation='softmax'))"
   ]
  },
  {
   "cell_type": "code",
   "execution_count": 11,
   "metadata": {},
   "outputs": [
    {
     "name": "stdout",
     "output_type": "stream",
     "text": [
      "_________________________________________________________________\n",
      "Layer (type)                 Output Shape              Param #   \n",
      "=================================================================\n",
      "embedding_1 (Embedding)      (None, 10, 50)            50000     \n",
      "_________________________________________________________________\n",
      "lstm_1 (LSTM)                (None, 10, 1000)          4204000   \n",
      "_________________________________________________________________\n",
      "lstm_2 (LSTM)                (None, 1000)              8004000   \n",
      "_________________________________________________________________\n",
      "dense_1 (Dense)              (None, 1000)              1001000   \n",
      "_________________________________________________________________\n",
      "dense_2 (Dense)              (None, 1000)              1001000   \n",
      "=================================================================\n",
      "Total params: 14,260,000\n",
      "Trainable params: 14,260,000\n",
      "Non-trainable params: 0\n",
      "_________________________________________________________________\n"
     ]
    }
   ],
   "source": [
    "model.summary()"
   ]
  },
  {
   "cell_type": "code",
   "execution_count": null,
   "metadata": {},
   "outputs": [],
   "source": []
  }
 ],
 "metadata": {
  "kernelspec": {
   "display_name": "Python 3",
   "language": "python",
   "name": "python3"
  },
  "language_info": {
   "codemirror_mode": {
    "name": "ipython",
    "version": 3
   },
   "file_extension": ".py",
   "mimetype": "text/x-python",
   "name": "python",
   "nbconvert_exporter": "python",
   "pygments_lexer": "ipython3",
   "version": "3.6.3"
  }
 },
 "nbformat": 4,
 "nbformat_minor": 2
}
