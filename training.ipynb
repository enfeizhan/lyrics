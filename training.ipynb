{
 "cells": [
  {
   "cell_type": "code",
   "execution_count": 1,
   "metadata": {},
   "outputs": [],
   "source": [
    "import numpy as np\n",
    "import pandas as pd"
   ]
  },
  {
   "cell_type": "code",
   "execution_count": 2,
   "metadata": {},
   "outputs": [],
   "source": [
    "import json"
   ]
  },
  {
   "cell_type": "code",
   "execution_count": 3,
   "metadata": {},
   "outputs": [
    {
     "name": "stderr",
     "output_type": "stream",
     "text": [
      "Using TensorFlow backend.\n"
     ]
    }
   ],
   "source": [
    "from keras.models import Sequential\n",
    "from keras.layers import Embedding, LSTM, Dense, Dropout, Flatten"
   ]
  },
  {
   "cell_type": "code",
   "execution_count": 4,
   "metadata": {},
   "outputs": [],
   "source": [
    "def load_embedding(filename='embedding.csv'):\n",
    "    return pd.read_csv(filename, header=None)"
   ]
  },
  {
   "cell_type": "code",
   "execution_count": 5,
   "metadata": {},
   "outputs": [],
   "source": [
    "emb = load_embedding()"
   ]
  },
  {
   "cell_type": "code",
   "execution_count": 6,
   "metadata": {},
   "outputs": [
    {
     "data": {
      "text/html": [
       "<div>\n",
       "<style scoped>\n",
       "    .dataframe tbody tr th:only-of-type {\n",
       "        vertical-align: middle;\n",
       "    }\n",
       "\n",
       "    .dataframe tbody tr th {\n",
       "        vertical-align: top;\n",
       "    }\n",
       "\n",
       "    .dataframe thead th {\n",
       "        text-align: right;\n",
       "    }\n",
       "</style>\n",
       "<table border=\"1\" class=\"dataframe\">\n",
       "  <thead>\n",
       "    <tr style=\"text-align: right;\">\n",
       "      <th></th>\n",
       "      <th>0</th>\n",
       "      <th>1</th>\n",
       "      <th>2</th>\n",
       "      <th>3</th>\n",
       "      <th>4</th>\n",
       "      <th>5</th>\n",
       "      <th>6</th>\n",
       "      <th>7</th>\n",
       "      <th>8</th>\n",
       "      <th>9</th>\n",
       "      <th>...</th>\n",
       "      <th>40</th>\n",
       "      <th>41</th>\n",
       "      <th>42</th>\n",
       "      <th>43</th>\n",
       "      <th>44</th>\n",
       "      <th>45</th>\n",
       "      <th>46</th>\n",
       "      <th>47</th>\n",
       "      <th>48</th>\n",
       "      <th>49</th>\n",
       "    </tr>\n",
       "  </thead>\n",
       "  <tbody>\n",
       "    <tr>\n",
       "      <th>0</th>\n",
       "      <td>0.111872</td>\n",
       "      <td>-0.971596</td>\n",
       "      <td>0.700518</td>\n",
       "      <td>-1.178770</td>\n",
       "      <td>-0.453448</td>\n",
       "      <td>0.395390</td>\n",
       "      <td>0.901024</td>\n",
       "      <td>-0.846670</td>\n",
       "      <td>-1.037827</td>\n",
       "      <td>-0.752525</td>\n",
       "      <td>...</td>\n",
       "      <td>-0.873244</td>\n",
       "      <td>-1.067232</td>\n",
       "      <td>0.899962</td>\n",
       "      <td>-0.466667</td>\n",
       "      <td>-0.155070</td>\n",
       "      <td>-0.447545</td>\n",
       "      <td>1.538786</td>\n",
       "      <td>-0.614972</td>\n",
       "      <td>-0.221534</td>\n",
       "      <td>0.282051</td>\n",
       "    </tr>\n",
       "    <tr>\n",
       "      <th>1</th>\n",
       "      <td>-0.584020</td>\n",
       "      <td>0.390310</td>\n",
       "      <td>0.652820</td>\n",
       "      <td>-0.340300</td>\n",
       "      <td>0.194930</td>\n",
       "      <td>-0.834890</td>\n",
       "      <td>0.119290</td>\n",
       "      <td>-0.572910</td>\n",
       "      <td>-0.568440</td>\n",
       "      <td>0.729890</td>\n",
       "      <td>...</td>\n",
       "      <td>0.285860</td>\n",
       "      <td>-0.052162</td>\n",
       "      <td>-0.508180</td>\n",
       "      <td>-0.634590</td>\n",
       "      <td>0.338890</td>\n",
       "      <td>0.284160</td>\n",
       "      <td>-0.203400</td>\n",
       "      <td>-1.233800</td>\n",
       "      <td>0.467150</td>\n",
       "      <td>0.788580</td>\n",
       "    </tr>\n",
       "    <tr>\n",
       "      <th>2</th>\n",
       "      <td>0.257690</td>\n",
       "      <td>0.456290</td>\n",
       "      <td>-0.769740</td>\n",
       "      <td>-0.376790</td>\n",
       "      <td>0.592720</td>\n",
       "      <td>-0.063527</td>\n",
       "      <td>0.205450</td>\n",
       "      <td>-0.573850</td>\n",
       "      <td>-0.290090</td>\n",
       "      <td>-0.136620</td>\n",
       "      <td>...</td>\n",
       "      <td>0.030498</td>\n",
       "      <td>-0.395430</td>\n",
       "      <td>-0.385150</td>\n",
       "      <td>-1.000200</td>\n",
       "      <td>0.087599</td>\n",
       "      <td>-0.310090</td>\n",
       "      <td>-0.346770</td>\n",
       "      <td>-0.314380</td>\n",
       "      <td>0.750040</td>\n",
       "      <td>0.970650</td>\n",
       "    </tr>\n",
       "    <tr>\n",
       "      <th>3</th>\n",
       "      <td>1.135078</td>\n",
       "      <td>-0.642963</td>\n",
       "      <td>-0.347493</td>\n",
       "      <td>0.481686</td>\n",
       "      <td>-1.096505</td>\n",
       "      <td>-0.720878</td>\n",
       "      <td>0.168508</td>\n",
       "      <td>0.523792</td>\n",
       "      <td>-0.432890</td>\n",
       "      <td>0.076722</td>\n",
       "      <td>...</td>\n",
       "      <td>-0.240541</td>\n",
       "      <td>0.165332</td>\n",
       "      <td>0.166037</td>\n",
       "      <td>0.029731</td>\n",
       "      <td>-1.362086</td>\n",
       "      <td>0.432089</td>\n",
       "      <td>1.354347</td>\n",
       "      <td>-0.531961</td>\n",
       "      <td>0.534640</td>\n",
       "      <td>-0.031217</td>\n",
       "    </tr>\n",
       "    <tr>\n",
       "      <th>4</th>\n",
       "      <td>0.173497</td>\n",
       "      <td>0.665580</td>\n",
       "      <td>0.145836</td>\n",
       "      <td>-0.040887</td>\n",
       "      <td>-0.132730</td>\n",
       "      <td>0.414063</td>\n",
       "      <td>0.577393</td>\n",
       "      <td>-0.525591</td>\n",
       "      <td>0.298661</td>\n",
       "      <td>0.284283</td>\n",
       "      <td>...</td>\n",
       "      <td>-0.755561</td>\n",
       "      <td>0.531924</td>\n",
       "      <td>-0.926138</td>\n",
       "      <td>-0.482626</td>\n",
       "      <td>-0.362259</td>\n",
       "      <td>1.091691</td>\n",
       "      <td>-0.036795</td>\n",
       "      <td>0.488126</td>\n",
       "      <td>0.574951</td>\n",
       "      <td>0.060907</td>\n",
       "    </tr>\n",
       "  </tbody>\n",
       "</table>\n",
       "<p>5 rows × 50 columns</p>\n",
       "</div>"
      ],
      "text/plain": [
       "         0         1         2         3         4         5         6   \\\n",
       "0  0.111872 -0.971596  0.700518 -1.178770 -0.453448  0.395390  0.901024   \n",
       "1 -0.584020  0.390310  0.652820 -0.340300  0.194930 -0.834890  0.119290   \n",
       "2  0.257690  0.456290 -0.769740 -0.376790  0.592720 -0.063527  0.205450   \n",
       "3  1.135078 -0.642963 -0.347493  0.481686 -1.096505 -0.720878  0.168508   \n",
       "4  0.173497  0.665580  0.145836 -0.040887 -0.132730  0.414063  0.577393   \n",
       "\n",
       "         7         8         9     ...           40        41        42  \\\n",
       "0 -0.846670 -1.037827 -0.752525    ...    -0.873244 -1.067232  0.899962   \n",
       "1 -0.572910 -0.568440  0.729890    ...     0.285860 -0.052162 -0.508180   \n",
       "2 -0.573850 -0.290090 -0.136620    ...     0.030498 -0.395430 -0.385150   \n",
       "3  0.523792 -0.432890  0.076722    ...    -0.240541  0.165332  0.166037   \n",
       "4 -0.525591  0.298661  0.284283    ...    -0.755561  0.531924 -0.926138   \n",
       "\n",
       "         43        44        45        46        47        48        49  \n",
       "0 -0.466667 -0.155070 -0.447545  1.538786 -0.614972 -0.221534  0.282051  \n",
       "1 -0.634590  0.338890  0.284160 -0.203400 -1.233800  0.467150  0.788580  \n",
       "2 -1.000200  0.087599 -0.310090 -0.346770 -0.314380  0.750040  0.970650  \n",
       "3  0.029731 -1.362086  0.432089  1.354347 -0.531961  0.534640 -0.031217  \n",
       "4 -0.482626 -0.362259  1.091691 -0.036795  0.488126  0.574951  0.060907  \n",
       "\n",
       "[5 rows x 50 columns]"
      ]
     },
     "execution_count": 6,
     "metadata": {},
     "output_type": "execute_result"
    }
   ],
   "source": [
    "emb.head()"
   ]
  },
  {
   "cell_type": "code",
   "execution_count": 7,
   "metadata": {},
   "outputs": [],
   "source": [
    "emb_dim = emb.shape[1]"
   ]
  },
  {
   "cell_type": "code",
   "execution_count": 8,
   "metadata": {},
   "outputs": [
    {
     "data": {
      "text/plain": [
       "50"
      ]
     },
     "execution_count": 8,
     "metadata": {},
     "output_type": "execute_result"
    }
   ],
   "source": [
    "emb_dim"
   ]
  },
  {
   "cell_type": "code",
   "execution_count": 9,
   "metadata": {},
   "outputs": [],
   "source": [
    "def load_dict(filename):\n",
    "    with open(filename, 'r') as f:\n",
    "        return json.load(f)\n",
    "\n",
    "def load_index_word_map(word2ind_filename='word2ind', ind2word_filename='ind2word'):\n",
    "    word2ind = load_dict(word2ind_filename)\n",
    "    ind2word = load_dict(ind2word_filename)\n",
    "    return word2ind, ind2word"
   ]
  },
  {
   "cell_type": "code",
   "execution_count": 10,
   "metadata": {},
   "outputs": [],
   "source": [
    "word2ind, ind2word = load_index_word_map()"
   ]
  },
  {
   "cell_type": "code",
   "execution_count": 11,
   "metadata": {},
   "outputs": [],
   "source": [
    "vocab_size = len(word2ind)"
   ]
  },
  {
   "cell_type": "code",
   "execution_count": 12,
   "metadata": {},
   "outputs": [],
   "source": [
    "def load_training_samples(filename='train.csv'):\n",
    "    return pd.read_csv(filename, header=None)"
   ]
  },
  {
   "cell_type": "code",
   "execution_count": 13,
   "metadata": {},
   "outputs": [],
   "source": [
    "dataset = load_training_samples()"
   ]
  },
  {
   "cell_type": "code",
   "execution_count": 14,
   "metadata": {},
   "outputs": [],
   "source": [
    "def train_valid_split(x, y, test_size=0.3, random_state=43):\n",
    "    assert len(x) == len(y), 'Feature and label must have same length.'\n",
    "    np.random.RandomState(seed=random_state)\n",
    "    length = len(x)\n",
    "    choices = list(range(length))\n",
    "    val_choices = np.random.choice(choices, int(length*test_size), replace=False).tolist()\n",
    "    train_choices = list(set(choices) - set(val_choices))\n",
    "    return x[train_choices, :], x[val_choices, :], y[train_choices, :], y[val_choices, :]"
   ]
  },
  {
   "cell_type": "code",
   "execution_count": 15,
   "metadata": {},
   "outputs": [],
   "source": [
    "train_x, val_x, train_y_, val_y_ = train_valid_split(dataset.values[:, :-1], dataset.values[:, -1:], test_size=0.3, random_state=43)"
   ]
  },
  {
   "cell_type": "code",
   "execution_count": 16,
   "metadata": {},
   "outputs": [
    {
     "data": {
      "text/plain": [
       "(389061, 10)"
      ]
     },
     "execution_count": 16,
     "metadata": {},
     "output_type": "execute_result"
    }
   ],
   "source": [
    "train_x.shape"
   ]
  },
  {
   "cell_type": "code",
   "execution_count": 17,
   "metadata": {},
   "outputs": [
    {
     "data": {
      "text/plain": [
       "(389061, 1)"
      ]
     },
     "execution_count": 17,
     "metadata": {},
     "output_type": "execute_result"
    }
   ],
   "source": [
    "train_y_.shape"
   ]
  },
  {
   "cell_type": "code",
   "execution_count": 18,
   "metadata": {},
   "outputs": [],
   "source": [
    "def make_hotted_labels(dataset, vocab_size):\n",
    "    n_samples = dataset.shape[0]\n",
    "    indices = list(range(n_samples))\n",
    "    hotted_labels = np.zeros((n_samples, vocab_size))\n",
    "    for label_ind in range(dataset.shape[1]):\n",
    "        hotted_labels[indices, dataset[:, label_ind]] = 1\n",
    "    return hotted_labels"
   ]
  },
  {
   "cell_type": "code",
   "execution_count": 19,
   "metadata": {},
   "outputs": [],
   "source": [
    "train_y = make_hotted_labels(train_y_, vocab_size)"
   ]
  },
  {
   "cell_type": "code",
   "execution_count": 20,
   "metadata": {},
   "outputs": [],
   "source": [
    "val_y = make_hotted_labels(val_y_, vocab_size)"
   ]
  },
  {
   "cell_type": "code",
   "execution_count": 21,
   "metadata": {},
   "outputs": [
    {
     "data": {
      "text/plain": [
       "(389061, 13063)"
      ]
     },
     "execution_count": 21,
     "metadata": {},
     "output_type": "execute_result"
    }
   ],
   "source": [
    "train_y.shape"
   ]
  },
  {
   "cell_type": "code",
   "execution_count": 22,
   "metadata": {},
   "outputs": [
    {
     "data": {
      "text/plain": [
       "(166740, 13063)"
      ]
     },
     "execution_count": 22,
     "metadata": {},
     "output_type": "execute_result"
    }
   ],
   "source": [
    "val_y.shape"
   ]
  },
  {
   "cell_type": "code",
   "execution_count": 23,
   "metadata": {},
   "outputs": [
    {
     "data": {
      "text/plain": [
       "(13063, 50)"
      ]
     },
     "execution_count": 23,
     "metadata": {},
     "output_type": "execute_result"
    }
   ],
   "source": [
    "emb.shape"
   ]
  },
  {
   "cell_type": "code",
   "execution_count": 24,
   "metadata": {},
   "outputs": [],
   "source": [
    "input_length = 10"
   ]
  },
  {
   "cell_type": "code",
   "execution_count": 25,
   "metadata": {},
   "outputs": [],
   "source": [
    "model = Sequential()\n",
    "model.add(Embedding(input_dim=vocab_size, output_dim=emb_dim, input_length=input_length, weights=[emb]))\n",
    "model.add(Dropout(.2))\n",
    "model.add(LSTM(1000, activation='relu', return_sequences=True))\n",
    "model.add(Dropout(.2))\n",
    "model.add(LSTM(1000, activation='relu', return_sequences=True))\n",
    "model.add(Dropout(.2))\n",
    "model.add(Dense(1000, activation='relu'))\n",
    "model.add(Dropout(.2))\n",
    "model.add(Flatten())\n",
    "model.add(Dense(vocab_size, activation='softmax'))"
   ]
  },
  {
   "cell_type": "code",
   "execution_count": 26,
   "metadata": {},
   "outputs": [
    {
     "name": "stdout",
     "output_type": "stream",
     "text": [
      "_________________________________________________________________\n",
      "Layer (type)                 Output Shape              Param #   \n",
      "=================================================================\n",
      "embedding_1 (Embedding)      (None, 10, 50)            653150    \n",
      "_________________________________________________________________\n",
      "dropout_1 (Dropout)          (None, 10, 50)            0         \n",
      "_________________________________________________________________\n",
      "lstm_1 (LSTM)                (None, 10, 1000)          4204000   \n",
      "_________________________________________________________________\n",
      "dropout_2 (Dropout)          (None, 10, 1000)          0         \n",
      "_________________________________________________________________\n",
      "lstm_2 (LSTM)                (None, 10, 1000)          8004000   \n",
      "_________________________________________________________________\n",
      "dropout_3 (Dropout)          (None, 10, 1000)          0         \n",
      "_________________________________________________________________\n",
      "dense_1 (Dense)              (None, 10, 1000)          1001000   \n",
      "_________________________________________________________________\n",
      "dropout_4 (Dropout)          (None, 10, 1000)          0         \n",
      "_________________________________________________________________\n",
      "flatten_1 (Flatten)          (None, 10000)             0         \n",
      "_________________________________________________________________\n",
      "dense_2 (Dense)              (None, 13063)             130643063 \n",
      "=================================================================\n",
      "Total params: 144,505,213\n",
      "Trainable params: 144,505,213\n",
      "Non-trainable params: 0\n",
      "_________________________________________________________________\n"
     ]
    }
   ],
   "source": [
    "model.summary()"
   ]
  },
  {
   "cell_type": "code",
   "execution_count": 27,
   "metadata": {},
   "outputs": [],
   "source": [
    "model.compile(optimizer='adam', loss='categorical_crossentropy', metrics=['accuracy'])"
   ]
  },
  {
   "cell_type": "code",
   "execution_count": 28,
   "metadata": {},
   "outputs": [
    {
     "name": "stdout",
     "output_type": "stream",
     "text": [
      "Train on 389061 samples, validate on 166740 samples\n",
      "Epoch 1/1\n",
      "389061/389061 [==============================] - 489s - loss: 15.5882 - acc: 0.0321 - val_loss: 15.5876 - val_acc: 0.0329\n"
     ]
    },
    {
     "data": {
      "text/plain": [
       "<keras.callbacks.History at 0x7f2f407de860>"
      ]
     },
     "execution_count": 28,
     "metadata": {},
     "output_type": "execute_result"
    }
   ],
   "source": [
    "model.fit(train_x, train_y, validation_data=(val_x, val_y), epochs=1, batch_size=200)"
   ]
  },
  {
   "cell_type": "code",
   "execution_count": 45,
   "metadata": {},
   "outputs": [],
   "source": [
    "model.optimizer.lr = 0.01"
   ]
  },
  {
   "cell_type": "code",
   "execution_count": 46,
   "metadata": {},
   "outputs": [
    {
     "name": "stdout",
     "output_type": "stream",
     "text": [
      "Train on 390105 samples, validate on 167187 samples\n",
      "Epoch 1/1\n",
      "390105/390105 [==============================] - 589s - loss: 3.6711 - acc: 0.2883 - val_loss: 4.1244 - val_acc: 0.2979\n"
     ]
    },
    {
     "data": {
      "text/plain": [
       "<keras.callbacks.History at 0x7f335022d9b0>"
      ]
     },
     "execution_count": 46,
     "metadata": {},
     "output_type": "execute_result"
    }
   ],
   "source": [
    "model.fit(train_x, train_y, validation_data=(val_x, val_y), epochs=1, batch_size=200)"
   ]
  },
  {
   "cell_type": "code",
   "execution_count": 47,
   "metadata": {},
   "outputs": [],
   "source": [
    "model.optimizer.lr = 0.001"
   ]
  },
  {
   "cell_type": "code",
   "execution_count": 48,
   "metadata": {},
   "outputs": [
    {
     "name": "stdout",
     "output_type": "stream",
     "text": [
      "Train on 390105 samples, validate on 167187 samples\n",
      "Epoch 1/2\n",
      "390105/390105 [==============================] - 493s - loss: 3.3245 - acc: 0.3185 - val_loss: 4.0865 - val_acc: 0.3146\n",
      "Epoch 2/2\n",
      "390105/390105 [==============================] - 484s - loss: 3.0295 - acc: 0.3515 - val_loss: 4.0794 - val_acc: 0.3299\n"
     ]
    },
    {
     "data": {
      "text/plain": [
       "<keras.callbacks.History at 0x7f335022dda0>"
      ]
     },
     "execution_count": 48,
     "metadata": {},
     "output_type": "execute_result"
    }
   ],
   "source": [
    "model.fit(train_x, train_y, validation_data=(val_x, val_y), epochs=2, batch_size=200)"
   ]
  },
  {
   "cell_type": "code",
   "execution_count": 54,
   "metadata": {},
   "outputs": [],
   "source": [
    "# save model\n",
    "model.save_weights('model20171227.h5')"
   ]
  },
  {
   "cell_type": "code",
   "execution_count": 29,
   "metadata": {},
   "outputs": [],
   "source": [
    "model.save('model20171227_2.h5')"
   ]
  },
  {
   "cell_type": "code",
   "execution_count": null,
   "metadata": {},
   "outputs": [],
   "source": []
  }
 ],
 "metadata": {
  "kernelspec": {
   "display_name": "Python 3",
   "language": "python",
   "name": "python3"
  },
  "language_info": {
   "codemirror_mode": {
    "name": "ipython",
    "version": 3
   },
   "file_extension": ".py",
   "mimetype": "text/x-python",
   "name": "python",
   "nbconvert_exporter": "python",
   "pygments_lexer": "ipython3",
   "version": "3.5.4"
  }
 },
 "nbformat": 4,
 "nbformat_minor": 2
}
