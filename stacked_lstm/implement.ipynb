{
 "cells": [
  {
   "cell_type": "code",
   "execution_count": 1,
   "metadata": {},
   "outputs": [],
   "source": [
    "import re\n",
    "import json\n",
    "import importlib\n",
    "import numpy as np\n",
    "from collections import deque\n",
    "import utils"
   ]
  },
  {
   "cell_type": "code",
   "execution_count": 2,
   "metadata": {},
   "outputs": [
    {
     "data": {
      "text/plain": [
       "<module 'utils' from '/home/fei/Documents/projects/lyrics/stacked_lstm/utils.py'>"
      ]
     },
     "execution_count": 2,
     "metadata": {},
     "output_type": "execute_result"
    }
   ],
   "source": [
    "importlib.reload(utils)"
   ]
  },
  {
   "cell_type": "code",
   "execution_count": 3,
   "metadata": {},
   "outputs": [
    {
     "name": "stderr",
     "output_type": "stream",
     "text": [
      "Using TensorFlow backend.\n"
     ]
    }
   ],
   "source": [
    "from keras.models import load_model\n",
    "from keras.preprocessing.sequence import pad_sequences"
   ]
  },
  {
   "cell_type": "code",
   "execution_count": 4,
   "metadata": {},
   "outputs": [],
   "source": [
    "model = load_model('model20180324.h5')"
   ]
  },
  {
   "cell_type": "code",
   "execution_count": 5,
   "metadata": {},
   "outputs": [],
   "source": [
    "word2ind, ind2word = utils.load_index_word_map()"
   ]
  },
  {
   "cell_type": "code",
   "execution_count": 6,
   "metadata": {},
   "outputs": [],
   "source": [
    "ending = [word2ind['('], word2ind['end'], word2ind[')']]"
   ]
  },
  {
   "cell_type": "code",
   "execution_count": 7,
   "metadata": {},
   "outputs": [
    {
     "data": {
      "text/plain": [
       "[17, 15192, 18]"
      ]
     },
     "execution_count": 7,
     "metadata": {},
     "output_type": "execute_result"
    }
   ],
   "source": [
    "ending"
   ]
  },
  {
   "cell_type": "code",
   "execution_count": 8,
   "metadata": {},
   "outputs": [],
   "source": [
    "def implement(seed_text, n_words, maxlen=10, must_stop=2000):\n",
    "    cleaned = utils.input_cleaning(seed_text)\n",
    "    padded_input_tokens = utils.tokenise(word2ind, cleaned)\n",
    "    res_tokens = [token for token in padded_input_tokens]\n",
    "    last_three = deque([0, 0, 0], maxlen=3)\n",
    "    while n_words > 0 and must_stop > 0 and (last_three[0] != ending[0] or last_three[1] != ending[1] or last_three[2] != ending[2]):\n",
    "        padded_input_tokens = pad_sequences([padded_input_tokens], maxlen=maxlen)\n",
    "        probs = model.predict(padded_input_tokens)[0]\n",
    "        probs = probs / np.sum(probs)\n",
    "        predicted = np.random.choice(list(range(len(probs))), p=probs)\n",
    "        padded_input_tokens = padded_input_tokens[0].tolist()\n",
    "        padded_input_tokens.append(predicted)\n",
    "        res_tokens.append(predicted)\n",
    "        n_words -= 1\n",
    "        must_stop -= 1\n",
    "        last_three.append(predicted)\n",
    "    detokenised = utils.detokenise(ind2word, res_tokens)\n",
    "    return utils.formatting(' '.join(detokenised))"
   ]
  },
  {
   "cell_type": "code",
   "execution_count": 11,
   "metadata": {},
   "outputs": [],
   "source": [
    "# replace seed_text with your own\n",
    "res = implement(seed_text=\"Look at her face, it's a beautiful face\\n\", n_words=500, maxlen=200)"
   ]
  },
  {
   "cell_type": "code",
   "execution_count": 12,
   "metadata": {},
   "outputs": [
    {
     "name": "stdout",
     "output_type": "stream",
     "text": [
      "Look at her face, it's a beautiful face \n",
      " \n",
      " [chorus] \n",
      " \n",
      "Look at the compass in the edge of the \n",
      "Destruction will meet john linda \n",
      "Just harms survive \n",
      "And by insanity \n",
      "One? \n",
      "Cobwebs now \n",
      "Sorrow growing with temptation \n",
      " \n",
      "And I'm \n",
      "Not giving it down \n",
      " \n",
      " [chorus] \n",
      "Inside behind \n",
      "Too clearer \n",
      "In a burnt free \n",
      "He presents to be \n",
      "Sailing along, crash \n",
      "Resting down his heart \n",
      "There's what I tried, stick again \n",
      "With the glow together \n",
      "And when there's a bear in \n",
      "Brave seize emotions \n",
      " [repeat] \n",
      "Can change ourselves \n",
      "Shall they understand to us somewhere \n",
      "If I try at this world \n",
      "I may take you at a lot of it \n",
      "I can see \n",
      "Does you say what we can dare \n",
      "Don't try, just know you're falling and take two, be sweet \n",
      "It means not maybe pass you home \n",
      "I hear it see that there feels no coming \n",
      "It's raining of the pain! \n",
      " \n",
      " (end)\n"
     ]
    }
   ],
   "source": [
    "print(res)"
   ]
  },
  {
   "cell_type": "code",
   "execution_count": null,
   "metadata": {},
   "outputs": [],
   "source": []
  }
 ],
 "metadata": {
  "kernelspec": {
   "display_name": "Python 3",
   "language": "python",
   "name": "python3"
  },
  "language_info": {
   "codemirror_mode": {
    "name": "ipython",
    "version": 3
   },
   "file_extension": ".py",
   "mimetype": "text/x-python",
   "name": "python",
   "nbconvert_exporter": "python",
   "pygments_lexer": "ipython3",
   "version": "3.5.4"
  }
 },
 "nbformat": 4,
 "nbformat_minor": 2
}
